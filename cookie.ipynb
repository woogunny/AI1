{
  "cells": [
    {
      "cell_type": "markdown",
      "metadata": {
        "id": "view-in-github",
        "colab_type": "text"
      },
      "source": [
        "<a href=\"https://colab.research.google.com/github/woogunny/BREAST-ULTRASOUND-IMAGES-DEEP-LEARNING-CLASSIFICATION-/blob/main/cookie.ipynb\" target=\"_parent\"><img src=\"https://colab.research.google.com/assets/colab-badge.svg\" alt=\"Open In Colab\"/></a>"
      ]
    },
    {
      "cell_type": "code",
      "execution_count": null,
      "metadata": {
        "id": "tSAk8DGXJfKs",
        "colab": {
          "base_uri": "https://localhost:8080/",
          "height": 36
        },
        "outputId": "84692138-ac56-4b5a-b864-dfb45f6ce55b"
      },
      "outputs": [
        {
          "output_type": "execute_result",
          "data": {
            "text/plain": [
              "'/content'"
            ],
            "application/vnd.google.colaboratory.intrinsic+json": {
              "type": "string"
            }
          },
          "metadata": {},
          "execution_count": 48
        }
      ],
      "source": [
        "pwd"
      ]
    },
    {
      "cell_type": "code",
      "execution_count": null,
      "metadata": {
        "id": "sBc37ZLvR7uH"
      },
      "outputs": [],
      "source": [
        "pip install numpy"
      ]
    },
    {
      "cell_type": "code",
      "execution_count": null,
      "metadata": {
        "id": "sAwUIXCsT56x"
      },
      "outputs": [],
      "source": [
        "pip install pandas"
      ]
    },
    {
      "cell_type": "code",
      "execution_count": null,
      "metadata": {
        "id": "96XeI-mqHk8n"
      },
      "outputs": [],
      "source": [
        "pip argparse"
      ]
    },
    {
      "cell_type": "code",
      "execution_count": null,
      "metadata": {
        "id": "EBacaIL2UNAO"
      },
      "outputs": [],
      "source": [
        "pip install torch==1.11.0 torchvision==0.12.0 torchaudio==0.11.0"
      ]
    },
    {
      "cell_type": "code",
      "execution_count": null,
      "metadata": {
        "id": "Mv5fgesMWGUw"
      },
      "outputs": [],
      "source": [
        "pip list"
      ]
    },
    {
      "cell_type": "code",
      "execution_count": null,
      "metadata": {
        "id": "6cFmnd0cULvv"
      },
      "outputs": [],
      "source": [
        "pip install seaborn"
      ]
    },
    {
      "cell_type": "code",
      "execution_count": null,
      "metadata": {
        "id": "7dyKzcpEUKgf"
      },
      "outputs": [],
      "source": [
        "pip install tensorflow"
      ]
    },
    {
      "cell_type": "code",
      "execution_count": null,
      "metadata": {
        "id": "NY0MUcKMUI_b"
      },
      "outputs": [],
      "source": [
        "pip install scikit-learn"
      ]
    },
    {
      "cell_type": "code",
      "execution_count": null,
      "metadata": {
        "id": "WU3N7rr1UHSa"
      },
      "outputs": [],
      "source": [
        "pip install tqdm"
      ]
    },
    {
      "cell_type": "code",
      "execution_count": null,
      "metadata": {
        "id": "K4klW347T_cd"
      },
      "outputs": [],
      "source": [
        "pip install matplotlib"
      ]
    },
    {
      "cell_type": "code",
      "execution_count": null,
      "metadata": {
        "id": "9pn4ylg4UFfK"
      },
      "outputs": [],
      "source": [
        "pip install opencv-python"
      ]
    },
    {
      "cell_type": "code",
      "execution_count": null,
      "metadata": {
        "id": "-PN5ECweHTI0"
      },
      "outputs": [],
      "source": [
        "import numpy as np\n",
        "import pandas as pd\n",
        "import matplotlib.pyplot as plt\n",
        "import os\n",
        "import cv2\n",
        "from tqdm import tqdm\n",
        "# import random\n",
        "# from sklearn.model_selection import train_test_split\n",
        "# import tensorflow as tf\n",
        "# from tensorflow import keras\n",
        "# from tensorflow.math import confusion_matrix\n",
        "# import seaborn as sns\n",
        "import torch\n",
        "import torch.nn as nn\n",
        "import torch.nn.functional as F\n",
        "# tf.random.set_seed(3)\n",
        "from PIL import Image\n",
        "from torchvision import transforms\n",
        "import torch\n",
        "from torch.utils.data import Dataset\n",
        "from torchsummary import summary\n",
        "from torch.utils.data import DataLoader\n",
        "from torchvision import models\n",
        "from torchvision.utils import make_grid\n",
        "\n",
        "\n",
        "import argparse"
      ]
    },
    {
      "cell_type": "code",
      "execution_count": null,
      "metadata": {
        "id": "tnij5jqaHbn2"
      },
      "outputs": [],
      "source": [
        "#dataset\n",
        "\n",
        "class ImageDataset(Dataset):\n",
        "    def __init__(self, directory, transform=None):\n",
        "        self.directory = directory\n",
        "        self.transform = transform\n",
        "        self.classes = sorted(os.listdir(directory))\n",
        "        self.class_to_idx = {cls_name: idx for idx, cls_name in enumerate(self.classes)}\n",
        "        self.samples = []\n",
        "\n",
        "        for class_name in self.classes:\n",
        "            class_dir = os.path.join(self.directory, class_name)\n",
        "            for image_name in os.listdir(class_dir):\n",
        "                self.samples.append((os.path.join(class_dir, image_name), self.class_to_idx[class_name]))\n",
        "\n",
        "\n",
        "    def __len__(self):\n",
        "        return len(self.samples)\n",
        "\n",
        "    def __getitem__(self, idx):\n",
        "        image_path, label = self.samples[idx]\n",
        "        image = Image.open(image_path).convert('RGB')\n",
        "\n",
        "        if self.transform:\n",
        "            image = self.transform(image)\n",
        "        return image, label\n"
      ]
    },
    {
      "cell_type": "code",
      "execution_count": null,
      "metadata": {
        "id": "73dLd47XHfO2"
      },
      "outputs": [],
      "source": [
        "# model\n",
        "\n",
        "def get_model(name, n_class, pretrained=True):\n",
        "    if name == \"vgg16\":\n",
        "        model = models.vgg16(pretrained=pretrained)\n",
        "        num_features = model.classifier[6].in_features\n",
        "        model.classifier[6] = nn.Linear(num_features, n_class)\n",
        "    elif name == \"resnet\":\n",
        "        model = models.resnet18(pretrained=pretrained)\n",
        "        num_features = model.fc.in_features\n",
        "        model.fc = nn.Linear(num_features, n_class)\n",
        "    return model\n",
        "\n",
        "class Simple2DCNN(nn.Module):\n",
        "    def __init__(self):\n",
        "        super(Simple2DCNN, self).__init__()\n",
        "        self.conv1 = nn.Conv2d(3, 64, kernel_size=3, padding=1)\n",
        "        self.conv2 = nn.Conv2d(64, 128, kernel_size=3, padding=1)\n",
        "        self.conv3 = nn.Conv2d(128, 256, kernel_size=3, padding=1)\n",
        "        self.conv4 = nn.Conv2d(256, 256, kernel_size=3, padding=1)\n",
        "        self.adaptive_pool = nn.AdaptiveAvgPool2d(200)\n",
        "        self.pool = nn.MaxPool2d(kernel_size=2, stride=2)\n",
        "        self.relu = nn.ReLU()\n",
        "        self.fc = nn.Linear(256*200*200, 3)  # Adaptive Pooling 이후의 출력 크기에 맞춰 조정\n",
        "\n",
        "    def forward(self, x):\n",
        "        x = self.pool(F.relu(self.conv1(x)))\n",
        "        x = self.pool(F.relu(self.conv2(x)))\n",
        "        x = self.pool(F.relu(self.conv3(x)))\n",
        "        x = self.relu(self.conv4(x))\n",
        "        x = self.adaptive_pool(x)\n",
        "        x = x.view(-1, 256*200*200)  # 적절한 크기로 플래트닝\n",
        "        x = self.fc(x)\n",
        "        return x\n",
        "\n"
      ]
    },
    {
      "cell_type": "code",
      "execution_count": null,
      "metadata": {
        "id": "V0dbN0hpIqxR"
      },
      "outputs": [],
      "source": [
        "#utils\n",
        "\n",
        "def visualize_batch(data_loader, class_names):\n",
        "    images, labels = next(iter(data_loader))\n",
        "    img_grid =make_grid(images, nrow=8)\n",
        "    npimg=img_grid.numpy()\n",
        "\n",
        "    plt.figure(figsize=(20,10))\n",
        "    plt.imshow(np.transpose(npimg, (1, 2, 0)))\n",
        "    plt.title('Dataset Visualization')\n",
        "\n",
        "    labels=[class_names[label] for label in labels]\n",
        "    for i, label in enumerate(labels):\n",
        "\n",
        "        x= (i%8 + 0.5) /8\n",
        "        y= (i // 8)/ (len(labels) / 8)\n",
        "        plt.text(x, y, label, ha='center', va='bottom', transform=plt.gca().transAxes, color='white')\n",
        "\n",
        "    plt.axis('off')\n",
        "    plt.show()"
      ]
    },
    {
      "cell_type": "code",
      "execution_count": null,
      "metadata": {
        "id": "8o-e7qtKIyUe"
      },
      "outputs": [],
      "source": [
        "#train\n",
        "from torch.optim.lr_scheduler import MultiStepLR, StepLR\n",
        "\n",
        "def train_model(model, train_loader, epochs, device):\n",
        "    model.to(device)\n",
        "    criterion = nn.CrossEntropyLoss()\n",
        "    optimizer = torch.optim.Adam(model.parameters(), lr=0.0001)\n",
        "    scheduler = MultiStepLR(optimizer, [5,10],gamma=0.1)\n",
        "\n",
        "    # if args.scheduler == 'multistep':\n",
        "    #     scheduler = MultiStepLR(optimizer, [5,10],gamma=0.1)\n",
        "    # elif arg.scheduler == 'steplr':\n",
        "    #     scheduler = StepLR(optimizer, step_size=5, gamma=0.1)\n",
        "\n",
        "    loss_history = []\n",
        "    accuracy_history = []\n",
        "\n",
        "    for epoch in range(epochs):\n",
        "        model.train()\n",
        "        running_loss = 0.0\n",
        "        total_batches = len(train_loader)\n",
        "        correct_predictions = 0\n",
        "        total_predictions = 0\n",
        "\n",
        "        for i, (images, labels) in enumerate(train_loader):\n",
        "            images, labels = images.to(device), labels.to(device)\n",
        "            optimizer.zero_grad()\n",
        "\n",
        "            outputs = model(images)\n",
        "            loss = criterion(outputs, labels)\n",
        "            loss.backward()\n",
        "            optimizer.step()\n",
        "\n",
        "            running_loss += loss.item()\n",
        "\n",
        "            _, predicted = torch.max(outputs, 1)\n",
        "            total_predictions += labels.size(0)\n",
        "            correct_predictions += (predicted == labels).sum().item()\n",
        "\n",
        "\n",
        "        avg_loss = running_loss / len(train_loader)\n",
        "        accuracy = 100 * correct_predictions / total_predictions\n",
        "        loss_history.append(avg_loss)\n",
        "        accuracy_history.append(accuracy)\n",
        "\n",
        "        print(f\"Epoch [{epoch + 1}/{epochs}], Loss: {avg_loss:.4f}, Accuracy: {accuracy:.2f}%\")\n",
        "\n",
        "        scheduler.step()\n",
        "\n",
        "    print(\"Finished Training\")\n",
        "\n",
        "    plt.figure(figsize=(10, 5))\n",
        "    plt.plot(range(1, epochs+1), loss_history, label='Avg Loss per Epoch')\n",
        "    plt.title('Training Loss')\n",
        "    plt.xlabel('Epoch')\n",
        "    plt.ylabel('Average Loss')\n",
        "    plt.legend()\n",
        "    plt.show()\n",
        "\n",
        "    plt.figure(figsize=(10, 5))\n",
        "    plt.plot(range(1, epochs+1), accuracy_history, label='Accuracy per Epoch')\n",
        "    plt.title('Training Accuracy')\n",
        "    plt.xlabel('Epoch')\n",
        "    plt.ylabel('Accuracy (%)')\n",
        "    plt.legend()\n",
        "    plt.show()\n",
        "\n",
        "    torch.save(model.state_dict(), f\"./model_weight_2d.pth\")"
      ]
    },
    {
      "cell_type": "code",
      "execution_count": null,
      "metadata": {
        "id": "V1YCPH0tI3sj"
      },
      "outputs": [],
      "source": [
        "#evaluate\n",
        "from tqdm import tqdm\n",
        "\n",
        "def evaluate_model(model, test_loader, device):\n",
        "\n",
        "    # 모델 가중치 로드\n",
        "    model.load_state_dict(torch.load(model_weight_2d.pth, map_location=device))\n",
        "\n",
        "    model.eval()\n",
        "\n",
        "    criterion = nn.CrossEntropyLoss()\n",
        "\n",
        "    total = 0\n",
        "    correct = 0\n",
        "    total_loss = 0.0\n",
        "\n",
        "    with torch.no_grad():\n",
        "        for inputs, labels in tqdm(test_loader):\n",
        "            inputs, labels = inputs.to(device), labels.to(device)\n",
        "\n",
        "            outputs = model(inputs)\n",
        "\n",
        "            loss = criterion(outputs, labels)\n",
        "\n",
        "            total_loss += loss.item()\n",
        "\n",
        "            _, predicted = torch.max(outputs.data, 1)\n",
        "\n",
        "            total += labels.size(0)\n",
        "            correct += (predicted == labels).sum().item()\n",
        "\n",
        "    avg_loss = total_loss / len(test_loader)\n",
        "\n",
        "    accuracy = correct / total * 100\n",
        "\n",
        "    print(f'Test Accuracy: {accuracy:.2f}%, Avg Loss: {avg_loss:.4f}')\n",
        "\n",
        "\n",
        "    return accuracy, avg_loss\n",
        "\n"
      ]
    },
    {
      "cell_type": "code",
      "execution_count": null,
      "metadata": {
        "colab": {
          "base_uri": "https://localhost:8080/",
          "height": 1000
        },
        "id": "ogL3WB1nI68Z",
        "outputId": "1db9ed9f-c322-43b3-8764-a654a0ece3ae"
      },
      "outputs": [
        {
          "output_type": "stream",
          "name": "stdout",
          "text": [
            "Start Code\n",
            "My model\n",
            "----------------------------------------------------------------\n",
            "        Layer (type)               Output Shape         Param #\n",
            "================================================================\n",
            "            Conv2d-1         [-1, 64, 224, 224]           1,792\n",
            "         MaxPool2d-2         [-1, 64, 112, 112]               0\n",
            "            Conv2d-3        [-1, 128, 112, 112]          73,856\n",
            "         MaxPool2d-4          [-1, 128, 56, 56]               0\n",
            "            Conv2d-5          [-1, 256, 56, 56]         295,168\n",
            "         MaxPool2d-6          [-1, 256, 28, 28]               0\n",
            "            Conv2d-7          [-1, 256, 28, 28]         590,080\n",
            "              ReLU-8          [-1, 256, 28, 28]               0\n",
            " AdaptiveAvgPool2d-9        [-1, 256, 200, 200]               0\n",
            "           Linear-10                    [-1, 3]      30,720,003\n",
            "================================================================\n",
            "Total params: 31,680,899\n",
            "Trainable params: 31,680,899\n",
            "Non-trainable params: 0\n",
            "----------------------------------------------------------------\n",
            "Input size (MB): 0.57\n",
            "Forward/backward pass size (MB): 134.78\n",
            "Params size (MB): 120.85\n",
            "Estimated Total Size (MB): 256.21\n",
            "----------------------------------------------------------------\n",
            "Epoch [1/100], Loss: 1.3436, Accuracy: 51.53%\n",
            "Epoch [2/100], Loss: 0.8559, Accuracy: 62.96%\n",
            "Epoch [3/100], Loss: 0.7690, Accuracy: 66.99%\n",
            "Epoch [4/100], Loss: 0.6094, Accuracy: 76.17%\n",
            "Epoch [5/100], Loss: 0.4722, Accuracy: 82.45%\n",
            "Epoch [6/100], Loss: 0.3251, Accuracy: 86.96%\n",
            "Epoch [7/100], Loss: 0.2890, Accuracy: 89.05%\n",
            "Epoch [8/100], Loss: 0.2630, Accuracy: 90.02%\n",
            "Epoch [9/100], Loss: 0.2391, Accuracy: 90.82%\n",
            "Epoch [10/100], Loss: 0.2315, Accuracy: 91.30%\n",
            "Epoch [11/100], Loss: 0.2007, Accuracy: 93.24%\n",
            "Epoch [12/100], Loss: 0.1987, Accuracy: 93.72%\n",
            "Epoch [13/100], Loss: 0.1962, Accuracy: 93.40%\n",
            "Epoch [14/100], Loss: 0.1929, Accuracy: 93.88%\n",
            "Epoch [15/100], Loss: 0.1918, Accuracy: 93.56%\n",
            "Epoch [16/100], Loss: 0.1906, Accuracy: 93.88%\n",
            "Epoch [17/100], Loss: 0.1897, Accuracy: 93.72%\n",
            "Epoch [18/100], Loss: 0.1875, Accuracy: 94.04%\n",
            "Epoch [19/100], Loss: 0.1839, Accuracy: 94.20%\n",
            "Epoch [20/100], Loss: 0.1825, Accuracy: 94.52%\n",
            "Epoch [21/100], Loss: 0.1805, Accuracy: 94.52%\n",
            "Epoch [22/100], Loss: 0.1793, Accuracy: 94.36%\n",
            "Epoch [23/100], Loss: 0.1779, Accuracy: 94.69%\n",
            "Epoch [24/100], Loss: 0.1754, Accuracy: 95.01%\n",
            "Epoch [25/100], Loss: 0.1757, Accuracy: 94.69%\n",
            "Epoch [26/100], Loss: 0.1726, Accuracy: 95.17%\n",
            "Epoch [27/100], Loss: 0.1706, Accuracy: 95.33%\n",
            "Epoch [28/100], Loss: 0.1682, Accuracy: 95.17%\n",
            "Epoch [29/100], Loss: 0.1672, Accuracy: 95.01%\n",
            "Epoch [30/100], Loss: 0.1648, Accuracy: 95.33%\n",
            "Epoch [31/100], Loss: 0.1644, Accuracy: 95.17%\n",
            "Epoch [32/100], Loss: 0.1632, Accuracy: 95.33%\n",
            "Epoch [33/100], Loss: 0.1600, Accuracy: 95.33%\n",
            "Epoch [34/100], Loss: 0.1580, Accuracy: 95.49%\n",
            "Epoch [35/100], Loss: 0.1563, Accuracy: 95.49%\n",
            "Epoch [36/100], Loss: 0.1560, Accuracy: 95.49%\n",
            "Epoch [37/100], Loss: 0.1547, Accuracy: 95.49%\n",
            "Epoch [38/100], Loss: 0.1525, Accuracy: 95.49%\n",
            "Epoch [39/100], Loss: 0.1502, Accuracy: 95.81%\n",
            "Epoch [40/100], Loss: 0.1487, Accuracy: 95.97%\n",
            "Epoch [41/100], Loss: 0.1465, Accuracy: 95.65%\n",
            "Epoch [42/100], Loss: 0.1460, Accuracy: 95.17%\n",
            "Epoch [43/100], Loss: 0.1431, Accuracy: 95.97%\n",
            "Epoch [44/100], Loss: 0.1425, Accuracy: 95.65%\n",
            "Epoch [45/100], Loss: 0.1420, Accuracy: 95.65%\n",
            "Epoch [46/100], Loss: 0.1392, Accuracy: 95.97%\n",
            "Epoch [47/100], Loss: 0.1384, Accuracy: 96.30%\n",
            "Epoch [48/100], Loss: 0.1351, Accuracy: 95.97%\n",
            "Epoch [49/100], Loss: 0.1350, Accuracy: 95.97%\n",
            "Epoch [50/100], Loss: 0.1325, Accuracy: 96.30%\n",
            "Epoch [51/100], Loss: 0.1305, Accuracy: 96.46%\n",
            "Epoch [52/100], Loss: 0.1291, Accuracy: 96.62%\n",
            "Epoch [53/100], Loss: 0.1274, Accuracy: 96.62%\n",
            "Epoch [54/100], Loss: 0.1271, Accuracy: 96.62%\n",
            "Epoch [55/100], Loss: 0.1241, Accuracy: 96.78%\n",
            "Epoch [56/100], Loss: 0.1238, Accuracy: 96.46%\n",
            "Epoch [57/100], Loss: 0.1217, Accuracy: 96.94%\n",
            "Epoch [58/100], Loss: 0.1208, Accuracy: 96.30%\n",
            "Epoch [59/100], Loss: 0.1189, Accuracy: 97.10%\n",
            "Epoch [60/100], Loss: 0.1169, Accuracy: 97.10%\n",
            "Epoch [61/100], Loss: 0.1158, Accuracy: 96.94%\n",
            "Epoch [62/100], Loss: 0.1146, Accuracy: 97.26%\n",
            "Epoch [63/100], Loss: 0.1126, Accuracy: 97.26%\n",
            "Epoch [64/100], Loss: 0.1113, Accuracy: 97.26%\n",
            "Epoch [65/100], Loss: 0.1096, Accuracy: 97.10%\n",
            "Epoch [66/100], Loss: 0.1093, Accuracy: 97.58%\n",
            "Epoch [67/100], Loss: 0.1077, Accuracy: 97.42%\n",
            "Epoch [68/100], Loss: 0.1057, Accuracy: 97.75%\n",
            "Epoch [69/100], Loss: 0.1045, Accuracy: 97.91%\n",
            "Epoch [70/100], Loss: 0.1032, Accuracy: 97.75%\n",
            "Epoch [71/100], Loss: 0.1018, Accuracy: 97.75%\n",
            "Epoch [72/100], Loss: 0.1001, Accuracy: 97.91%\n",
            "Epoch [73/100], Loss: 0.0992, Accuracy: 97.75%\n",
            "Epoch [74/100], Loss: 0.0978, Accuracy: 98.07%\n",
            "Epoch [75/100], Loss: 0.0965, Accuracy: 98.23%\n",
            "Epoch [76/100], Loss: 0.0948, Accuracy: 98.39%\n",
            "Epoch [77/100], Loss: 0.0939, Accuracy: 98.55%\n",
            "Epoch [78/100], Loss: 0.0935, Accuracy: 98.39%\n",
            "Epoch [79/100], Loss: 0.0914, Accuracy: 98.55%\n",
            "Epoch [80/100], Loss: 0.0900, Accuracy: 98.71%\n",
            "Epoch [81/100], Loss: 0.0891, Accuracy: 98.39%\n",
            "Epoch [82/100], Loss: 0.0878, Accuracy: 98.39%\n",
            "Epoch [83/100], Loss: 0.0875, Accuracy: 98.55%\n",
            "Epoch [84/100], Loss: 0.0853, Accuracy: 98.55%\n",
            "Epoch [85/100], Loss: 0.0841, Accuracy: 98.55%\n",
            "Epoch [86/100], Loss: 0.0833, Accuracy: 98.87%\n",
            "Epoch [87/100], Loss: 0.0816, Accuracy: 98.71%\n",
            "Epoch [88/100], Loss: 0.0807, Accuracy: 98.71%\n",
            "Epoch [89/100], Loss: 0.0803, Accuracy: 98.55%\n",
            "Epoch [90/100], Loss: 0.0806, Accuracy: 98.71%\n",
            "Epoch [91/100], Loss: 0.0770, Accuracy: 98.87%\n",
            "Epoch [92/100], Loss: 0.0771, Accuracy: 98.87%\n",
            "Epoch [93/100], Loss: 0.0755, Accuracy: 98.87%\n",
            "Epoch [94/100], Loss: 0.0743, Accuracy: 98.71%\n",
            "Epoch [95/100], Loss: 0.0732, Accuracy: 98.87%\n",
            "Epoch [96/100], Loss: 0.0720, Accuracy: 99.03%\n",
            "Epoch [97/100], Loss: 0.0709, Accuracy: 99.03%\n",
            "Epoch [98/100], Loss: 0.0704, Accuracy: 99.03%\n",
            "Epoch [99/100], Loss: 0.0700, Accuracy: 98.87%\n",
            "Epoch [100/100], Loss: 0.0681, Accuracy: 98.87%\n",
            "Finished Training\n"
          ]
        },
        {
          "output_type": "display_data",
          "data": {
            "text/plain": [
              "<Figure size 1000x500 with 1 Axes>"
            ],
            "image/png": "[encoded data removed]"
          },
          "metadata": {}
        },
        {
          "output_type": "display_data",
          "data": {
            "text/plain": [
              "<Figure size 1000x500 with 1 Axes>"
            ],
            "image/png": "[encoded data removed]"
          },
          "metadata": {}
        }
      ],
      "source": [
        "#main()\n",
        "\n",
        "# from augment import*\n",
        "# from evaluate import*\n",
        "\n",
        "def main():\n",
        "\n",
        "\n",
        "  print(\"Start Code\")\n",
        "  print(\"My model\")\n",
        "\n",
        "  model = Simple2DCNN()\n",
        "  summary(model.cuda(), (3,224,224))\n",
        "\n",
        "  transform = transforms.Compose([\n",
        "            transforms.Resize((224,224)),\n",
        "            transforms.ToTensor(),\n",
        "  ])\n",
        "  train_dataset = ImageDataset(directory='drive/MyDrive/train',transform=transform)\n",
        "  test_dataset = ImageDataset(directory='drive/MyDrive/test',transform=transform)\n",
        "\n",
        "  train_loader = DataLoader(train_dataset, batch_size=16, shuffle=True)\n",
        "  test_loader = DataLoader(test_dataset, batch_size=16, shuffle=False)\n",
        "\n",
        "  # dataiter = iter(train_loader)\n",
        "  # data_loader, labels = dataiter.next()\n",
        "  # visualize_audio_batch(data_loader, labels)\n",
        "\n",
        "  device = torch.device(\"cuda\" if torch.cuda.is_available() else \"cpu\")\n",
        "\n",
        "  train_model(model, train_loader, epochs=100, device=device)\n",
        "  # evaluate_model(model, test_loader, device=device)\n",
        "\n",
        "main()"
      ]
    }
  ],
  "metadata": {
    "colab": {
      "provenance": [],
      "gpuType": "T4",
      "mount_file_id": "1OELL4W4Eg-EW9S-7pANVE7oF-x17m5eS",
      "authorship_tag": "ABX9TyOtWsA0cGq811690nDwpAzi",
      "include_colab_link": true
    },
    "kernelspec": {
      "display_name": "Python 3",
      "name": "python3"
    },
    "language_info": {
      "name": "python"
    },
    "accelerator": "GPU"
  },
  "nbformat": 4,
  "nbformat_minor": 0
}