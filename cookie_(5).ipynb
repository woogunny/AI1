{
  "cells": [
    {
      "cell_type": "code",
      "source": [
        "pip list"
      ],
      "metadata": {
        "colab": {
          "base_uri": "https://localhost:8080/"
        },
        "id": "zewWZX7nEHL3",
        "outputId": "f51ce4b8-880d-4200-c8e0-33da1ff4e257",
        "collapsed": true
      },
      "execution_count": null,
      "outputs": [
        {
          "output_type": "stream",
          "name": "stdout",
          "text": [
            "Package                          Version\n",
            "-------------------------------- ---------------------\n",
            "absl-py                          1.4.0\n",
            "aiohttp                          3.9.5\n",
            "aiosignal                        1.3.1\n",
            "alabaster                        0.7.16\n",
            "albumentations                   1.3.1\n",
            "altair                           4.2.2\n",
            "annotated-types                  0.7.0\n",
            "anyio                            3.7.1\n",
            "argon2-cffi                      23.1.0\n",
            "argon2-cffi-bindings             21.2.0\n",
            "array_record                     0.5.1\n",
            "arviz                            0.15.1\n",
            "astropy                          5.3.4\n",
            "astunparse                       1.6.3\n",
            "async-timeout                    4.0.3\n",
            "atpublic                         4.1.0\n",
            "attrs                            23.2.0\n",
            "audioread                        3.0.1\n",
            "autograd                         1.6.2\n",
            "Babel                            2.15.0\n",
            "backcall                         0.2.0\n",
            "beautifulsoup4                   4.12.3\n",
            "bidict                           0.23.1\n",
            "bigframes                        1.6.0\n",
            "bleach                           6.1.0\n",
            "blinker                          1.4\n",
            "blis                             0.7.11\n",
            "blosc2                           2.0.0\n",
            "bokeh                            3.3.4\n",
            "bqplot                           0.12.43\n",
            "branca                           0.7.2\n",
            "build                            1.2.1\n",
            "CacheControl                     0.14.0\n",
            "cachetools                       5.3.3\n",
            "catalogue                        2.0.10\n",
            "certifi                          2024.2.2\n",
            "cffi                             1.16.0\n",
            "chardet                          5.2.0\n",
            "charset-normalizer               3.3.2\n",
            "chex                             0.1.86\n",
            "click                            8.1.7\n",
            "click-plugins                    1.1.1\n",
            "cligj                            0.7.2\n",
            "cloudpathlib                     0.16.0\n",
            "cloudpickle                      2.2.1\n",
            "cmake                            3.27.9\n",
            "cmdstanpy                        1.2.2\n",
            "colorcet                         3.1.0\n",
            "colorlover                       0.3.0\n",
            "colour                           0.1.5\n",
            "community                        1.0.0b1\n",
            "confection                       0.1.4\n",
            "cons                             0.4.6\n",
            "contextlib2                      21.6.0\n",
            "contourpy                        1.2.1\n",
            "cryptography                     42.0.7\n",
            "cuda-python                      12.2.1\n",
            "cudf-cu12                        24.4.1\n",
            "cufflinks                        0.17.3\n",
            "cupy-cuda12x                     12.2.0\n",
            "cvxopt                           1.3.2\n",
            "cvxpy                            1.3.4\n",
            "cycler                           0.12.1\n",
            "cymem                            2.0.8\n",
            "Cython                           3.0.10\n",
            "dask                             2023.8.1\n",
            "datascience                      0.17.6\n",
            "db-dtypes                        1.2.0\n",
            "dbus-python                      1.2.18\n",
            "debugpy                          1.6.6\n",
            "decorator                        4.4.2\n",
            "defusedxml                       0.7.1\n",
            "distributed                      2023.8.1\n",
            "distro                           1.7.0\n",
            "dlib                             19.24.4\n",
            "dm-tree                          0.1.8\n",
            "docstring_parser                 0.16\n",
            "docutils                         0.18.1\n",
            "dopamine_rl                      4.0.9\n",
            "duckdb                           0.10.3\n",
            "earthengine-api                  0.1.404\n",
            "easydict                         1.13\n",
            "ecos                             2.0.13\n",
            "editdistance                     0.6.2\n",
            "eerepr                           0.0.4\n",
            "en-core-web-sm                   3.7.1\n",
            "entrypoints                      0.4\n",
            "et-xmlfile                       1.1.0\n",
            "etils                            1.7.0\n",
            "etuples                          0.3.9\n",
            "exceptiongroup                   1.2.1\n",
            "fastai                           2.7.15\n",
            "fastcore                         1.5.38\n",
            "fastdownload                     0.0.7\n",
            "fastjsonschema                   2.19.1\n",
            "fastprogress                     1.0.3\n",
            "fastrlock                        0.8.2\n",
            "filelock                         3.14.0\n",
            "fiona                            1.9.6\n",
            "firebase-admin                   5.3.0\n",
            "Flask                            2.2.5\n",
            "flatbuffers                      24.3.25\n",
            "flax                             0.8.3\n",
            "folium                           0.14.0\n",
            "fonttools                        4.51.0\n",
            "frozendict                       2.4.4\n",
            "frozenlist                       1.4.1\n",
            "fsspec                           2023.6.0\n",
            "future                           0.18.3\n",
            "gast                             0.5.4\n",
            "gcsfs                            2023.6.0\n",
            "GDAL                             3.6.4\n",
            "gdown                            5.1.0\n",
            "geemap                           0.32.1\n",
            "gensim                           4.3.2\n",
            "geocoder                         1.38.1\n",
            "geographiclib                    2.0\n",
            "geopandas                        0.13.2\n",
            "geopy                            2.3.0\n",
            "gin-config                       0.5.0\n",
            "glob2                            0.7\n",
            "google                           2.0.3\n",
            "google-ai-generativelanguage     0.6.4\n",
            "google-api-core                  2.11.1\n",
            "google-api-python-client         2.84.0\n",
            "google-auth                      2.27.0\n",
            "google-auth-httplib2             0.1.1\n",
            "google-auth-oauthlib             1.2.0\n",
            "google-cloud-aiplatform          1.52.0\n",
            "google-cloud-bigquery            3.21.0\n",
            "google-cloud-bigquery-connection 1.12.1\n",
            "google-cloud-bigquery-storage    2.25.0\n",
            "google-cloud-core                2.3.3\n",
            "google-cloud-datastore           2.15.2\n",
            "google-cloud-firestore           2.11.1\n",
            "google-cloud-functions           1.13.3\n",
            "google-cloud-iam                 2.15.0\n",
            "google-cloud-language            2.13.3\n",
            "google-cloud-resource-manager    1.12.3\n",
            "google-cloud-storage             2.8.0\n",
            "google-cloud-translate           3.11.3\n",
            "google-colab                     1.0.0\n",
            "google-crc32c                    1.5.0\n",
            "google-generativeai              0.5.4\n",
            "google-pasta                     0.2.0\n",
            "google-resumable-media           2.7.0\n",
            "googleapis-common-protos         1.63.0\n",
            "googledrivedownloader            0.4\n",
            "graphviz                         0.20.3\n",
            "greenlet                         3.0.3\n",
            "grpc-google-iam-v1               0.13.0\n",
            "grpcio                           1.64.0\n",
            "grpcio-status                    1.48.2\n",
            "gspread                          6.0.2\n",
            "gspread-dataframe                3.3.1\n",
            "gym                              0.25.2\n",
            "gym-notices                      0.0.8\n",
            "h5netcdf                         1.3.0\n",
            "h5py                             3.9.0\n",
            "holidays                         0.49\n",
            "holoviews                        1.17.1\n",
            "html5lib                         1.1\n",
            "httpimport                       1.3.1\n",
            "httplib2                         0.22.0\n",
            "huggingface-hub                  0.23.1\n",
            "humanize                         4.7.0\n",
            "hyperopt                         0.2.7\n",
            "ibis-framework                   8.0.0\n",
            "idna                             3.7\n",
            "imageio                          2.31.6\n",
            "imageio-ffmpeg                   0.4.9\n",
            "imagesize                        1.4.1\n",
            "imbalanced-learn                 0.10.1\n",
            "imgaug                           0.4.0\n",
            "importlib_metadata               7.1.0\n",
            "importlib_resources              6.4.0\n",
            "imutils                          0.5.4\n",
            "inflect                          7.0.0\n",
            "iniconfig                        2.0.0\n",
            "intel-openmp                     2023.2.4\n",
            "ipyevents                        2.0.2\n",
            "ipyfilechooser                   0.6.0\n",
            "ipykernel                        5.5.6\n",
            "ipyleaflet                       0.18.2\n",
            "ipython                          7.34.0\n",
            "ipython-genutils                 0.2.0\n",
            "ipython-sql                      0.5.0\n",
            "ipytree                          0.2.2\n",
            "ipywidgets                       7.7.1\n",
            "itsdangerous                     2.2.0\n",
            "jax                              0.4.26\n",
            "jaxlib                           0.4.26+cuda12.cudnn89\n",
            "jeepney                          0.7.1\n",
            "jellyfish                        1.0.3\n",
            "jieba                            0.42.1\n",
            "Jinja2                           3.1.4\n",
            "joblib                           1.4.2\n",
            "jsonpickle                       3.0.4\n",
            "jsonschema                       4.19.2\n",
            "jsonschema-specifications        2023.12.1\n",
            "jupyter-client                   6.1.12\n",
            "jupyter-console                  6.1.0\n",
            "jupyter_core                     5.7.2\n",
            "jupyter-server                   1.24.0\n",
            "jupyterlab_pygments              0.3.0\n",
            "jupyterlab_widgets               3.0.10\n",
            "kaggle                           1.6.14\n",
            "kagglehub                        0.2.5\n",
            "keras                            2.15.0\n",
            "keyring                          23.5.0\n",
            "kiwisolver                       1.4.5\n",
            "langcodes                        3.4.0\n",
            "language_data                    1.2.0\n",
            "launchpadlib                     1.10.16\n",
            "lazr.restfulclient               0.14.4\n",
            "lazr.uri                         1.0.6\n",
            "lazy_loader                      0.4\n",
            "libclang                         18.1.1\n",
            "librosa                          0.10.2.post1\n",
            "lightgbm                         4.1.0\n",
            "linkify-it-py                    2.0.3\n",
            "llvmlite                         0.41.1\n",
            "locket                           1.0.0\n",
            "logical-unification              0.4.6\n",
            "lxml                             4.9.4\n",
            "malloy                           2023.1067\n",
            "marisa-trie                      1.1.1\n",
            "Markdown                         3.6\n",
            "markdown-it-py                   3.0.0\n",
            "MarkupSafe                       2.1.5\n",
            "matplotlib                       3.7.1\n",
            "matplotlib-inline                0.1.7\n",
            "matplotlib-venn                  0.11.10\n",
            "mdit-py-plugins                  0.4.1\n",
            "mdurl                            0.1.2\n",
            "miniKanren                       1.0.3\n",
            "missingno                        0.5.2\n",
            "mistune                          0.8.4\n",
            "mizani                           0.9.3\n",
            "mkl                              2023.2.0\n",
            "ml-dtypes                        0.2.0\n",
            "mlxtend                          0.22.0\n",
            "more-itertools                   10.1.0\n",
            "moviepy                          1.0.3\n",
            "mpmath                           1.3.0\n",
            "msgpack                          1.0.8\n",
            "multidict                        6.0.5\n",
            "multipledispatch                 1.0.0\n",
            "multitasking                     0.0.11\n",
            "murmurhash                       1.0.10\n",
            "music21                          9.1.0\n",
            "natsort                          8.4.0\n",
            "nbclassic                        1.0.0\n",
            "nbclient                         0.10.0\n",
            "nbconvert                        6.5.4\n",
            "nbformat                         5.10.4\n",
            "nest-asyncio                     1.6.0\n",
            "networkx                         3.3\n",
            "nibabel                          4.0.2\n",
            "nltk                             3.8.1\n",
            "notebook                         6.5.5\n",
            "notebook_shim                    0.2.4\n",
            "numba                            0.58.1\n",
            "numexpr                          2.10.0\n",
            "numpy                            1.25.2\n",
            "nvtx                             0.2.10\n",
            "oauth2client                     4.1.3\n",
            "oauthlib                         3.2.2\n",
            "opencv-contrib-python            4.8.0.76\n",
            "opencv-python                    4.8.0.76\n",
            "opencv-python-headless           4.9.0.80\n",
            "openpyxl                         3.1.2\n",
            "opt-einsum                       3.3.0\n",
            "optax                            0.2.2\n",
            "orbax-checkpoint                 0.4.4\n",
            "osqp                             0.6.2.post8\n",
            "packaging                        24.0\n",
            "pandas                           2.0.3\n",
            "pandas-datareader                0.10.0\n",
            "pandas-gbq                       0.19.2\n",
            "pandas-stubs                     2.0.3.230814\n",
            "pandocfilters                    1.5.1\n",
            "panel                            1.3.8\n",
            "param                            2.1.0\n",
            "parso                            0.8.4\n",
            "parsy                            2.1\n",
            "partd                            1.4.2\n",
            "pathlib                          1.0.1\n",
            "patsy                            0.5.6\n",
            "peewee                           3.17.5\n",
            "pexpect                          4.9.0\n",
            "pickleshare                      0.7.5\n",
            "Pillow                           9.4.0\n",
            "pip                              23.1.2\n",
            "pip-tools                        6.13.0\n",
            "platformdirs                     4.2.2\n",
            "plotly                           5.15.0\n",
            "plotnine                         0.12.4\n",
            "pluggy                           1.5.0\n",
            "polars                           0.20.2\n",
            "pooch                            1.8.1\n",
            "portpicker                       1.5.2\n",
            "prefetch-generator               1.0.3\n",
            "preshed                          3.0.9\n",
            "prettytable                      3.10.0\n",
            "proglog                          0.1.10\n",
            "progressbar2                     4.2.0\n",
            "prometheus_client                0.20.0\n",
            "promise                          2.3\n",
            "prompt-toolkit                   3.0.43\n",
            "prophet                          1.1.5\n",
            "proto-plus                       1.23.0\n",
            "protobuf                         3.20.3\n",
            "psutil                           5.9.5\n",
            "psycopg2                         2.9.9\n",
            "ptyprocess                       0.7.0\n",
            "py-cpuinfo                       9.0.0\n",
            "py4j                             0.10.9.7\n",
            "pyarrow                          14.0.2\n",
            "pyarrow-hotfix                   0.6\n",
            "pyasn1                           0.6.0\n",
            "pyasn1_modules                   0.4.0\n",
            "pycocotools                      2.0.7\n",
            "pycparser                        2.22\n",
            "pydantic                         2.7.1\n",
            "pydantic_core                    2.18.2\n",
            "pydata-google-auth               1.8.2\n",
            "pydot                            1.4.2\n",
            "pydot-ng                         2.0.0\n",
            "pydotplus                        2.0.2\n",
            "PyDrive                          1.3.1\n",
            "PyDrive2                         1.6.3\n",
            "pyerfa                           2.0.1.4\n",
            "pygame                           2.5.2\n",
            "Pygments                         2.16.1\n",
            "PyGObject                        3.42.1\n",
            "PyJWT                            2.3.0\n",
            "pymc                             5.10.4\n",
            "pymystem3                        0.2.0\n",
            "pynvjitlink-cu12                 0.2.3\n",
            "PyOpenGL                         3.1.7\n",
            "pyOpenSSL                        24.1.0\n",
            "pyparsing                        3.1.2\n",
            "pyperclip                        1.8.2\n",
            "pyproj                           3.6.1\n",
            "pyproject_hooks                  1.1.0\n",
            "pyshp                            2.3.1\n",
            "PySocks                          1.7.1\n",
            "pytensor                         2.18.6\n",
            "pytest                           7.4.4\n",
            "python-apt                       0.0.0\n",
            "python-box                       7.1.1\n",
            "python-dateutil                  2.8.2\n",
            "python-louvain                   0.16\n",
            "python-slugify                   8.0.4\n",
            "python-utils                     3.8.2\n",
            "pytz                             2023.4\n",
            "pyviz_comms                      3.0.2\n",
            "PyWavelets                       1.6.0\n",
            "PyYAML                           6.0.1\n",
            "pyzmq                            24.0.1\n",
            "qdldl                            0.1.7.post2\n",
            "qudida                           0.0.4\n",
            "ratelim                          0.1.6\n",
            "referencing                      0.35.1\n",
            "regex                            2024.5.15\n",
            "requests                         2.31.0\n",
            "requests-oauthlib                1.3.1\n",
            "requirements-parser              0.9.0\n",
            "rich                             13.7.1\n",
            "rmm-cu12                         24.4.0\n",
            "rpds-py                          0.18.1\n",
            "rpy2                             3.4.2\n",
            "rsa                              4.9\n",
            "safetensors                      0.4.3\n",
            "scikit-image                     0.19.3\n",
            "scikit-learn                     1.2.2\n",
            "scipy                            1.11.4\n",
            "scooby                           0.10.0\n",
            "scs                              3.2.4.post1\n",
            "seaborn                          0.13.1\n",
            "SecretStorage                    3.3.1\n",
            "Send2Trash                       1.8.3\n",
            "sentencepiece                    0.1.99\n",
            "setuptools                       67.7.2\n",
            "shapely                          2.0.4\n",
            "six                              1.16.0\n",
            "sklearn-pandas                   2.2.0\n",
            "smart-open                       6.4.0\n",
            "sniffio                          1.3.1\n",
            "snowballstemmer                  2.2.0\n",
            "sortedcontainers                 2.4.0\n",
            "soundfile                        0.12.1\n",
            "soupsieve                        2.5\n",
            "soxr                             0.3.7\n",
            "spacy                            3.7.4\n",
            "spacy-legacy                     3.0.12\n",
            "spacy-loggers                    1.0.5\n",
            "Sphinx                           5.0.2\n",
            "sphinxcontrib-applehelp          1.0.8\n",
            "sphinxcontrib-devhelp            1.0.6\n",
            "sphinxcontrib-htmlhelp           2.0.5\n",
            "sphinxcontrib-jsmath             1.0.1\n",
            "sphinxcontrib-qthelp             1.0.7\n",
            "sphinxcontrib-serializinghtml    1.1.10\n",
            "SQLAlchemy                       2.0.30\n",
            "sqlglot                          20.11.0\n",
            "sqlparse                         0.5.0\n",
            "srsly                            2.4.8\n",
            "stanio                           0.5.0\n",
            "statsmodels                      0.14.2\n",
            "StrEnum                          0.4.15\n",
            "sympy                            1.12\n",
            "tables                           3.8.0\n",
            "tabulate                         0.9.0\n",
            "tbb                              2021.12.0\n",
            "tblib                            3.0.0\n",
            "tenacity                         8.3.0\n",
            "tensorboard                      2.15.2\n",
            "tensorboard-data-server          0.7.2\n",
            "tensorflow                       2.15.0\n",
            "tensorflow-datasets              4.9.4\n",
            "tensorflow-estimator             2.15.0\n",
            "tensorflow-gcs-config            2.15.0\n",
            "tensorflow-hub                   0.16.1\n",
            "tensorflow-io-gcs-filesystem     0.37.0\n",
            "tensorflow-metadata              1.15.0\n",
            "tensorflow-probability           0.23.0\n",
            "tensorstore                      0.1.45\n",
            "termcolor                        2.4.0\n",
            "terminado                        0.18.1\n",
            "text-unidecode                   1.3\n",
            "textblob                         0.17.1\n",
            "tf_keras                         2.15.1\n",
            "tf-slim                          1.1.0\n",
            "thinc                            8.2.3\n",
            "threadpoolctl                    3.5.0\n",
            "tifffile                         2024.5.22\n",
            "tinycss2                         1.3.0\n",
            "tokenizers                       0.19.1\n",
            "toml                             0.10.2\n",
            "tomli                            2.0.1\n",
            "toolz                            0.12.1\n",
            "torch                            2.3.0+cu121\n",
            "torchaudio                       2.3.0+cu121\n",
            "torchsummary                     1.5.1\n",
            "torchtext                        0.18.0\n",
            "torchvision                      0.18.0+cu121\n",
            "tornado                          6.3.3\n",
            "tqdm                             4.66.4\n",
            "traitlets                        5.7.1\n",
            "traittypes                       0.2.1\n",
            "transformers                     4.41.1\n",
            "triton                           2.3.0\n",
            "tweepy                           4.14.0\n",
            "typer                            0.9.4\n",
            "types-pytz                       2024.1.0.20240417\n",
            "types-setuptools                 70.0.0.20240524\n",
            "typing_extensions                4.11.0\n",
            "tzdata                           2024.1\n",
            "tzlocal                          5.2\n",
            "uc-micro-py                      1.0.3\n",
            "uritemplate                      4.1.1\n",
            "urllib3                          2.0.7\n",
            "vega-datasets                    0.9.0\n",
            "wadllib                          1.3.6\n",
            "wasabi                           1.1.2\n",
            "wcwidth                          0.2.13\n",
            "weasel                           0.3.4\n",
            "webcolors                        1.13\n",
            "webencodings                     0.5.1\n",
            "websocket-client                 1.8.0\n",
            "Werkzeug                         3.0.3\n",
            "wheel                            0.43.0\n",
            "widgetsnbextension               3.6.6\n",
            "wordcloud                        1.9.3\n",
            "wrapt                            1.14.1\n",
            "xarray                           2023.7.0\n",
            "xarray-einstats                  0.7.0\n",
            "xgboost                          2.0.3\n",
            "xlrd                             2.0.1\n",
            "xyzservices                      2024.4.0\n",
            "yarl                             1.9.4\n",
            "yellowbrick                      1.5\n",
            "yfinance                         0.2.40\n",
            "zict                             3.0.0\n",
            "zipp                             3.18.2\n"
          ]
        }
      ]
    },
    {
      "cell_type": "code",
      "source": [
        "from google.colab import drive\n",
        "drive.mount('/content/drive')"
      ],
      "metadata": {
        "colab": {
          "base_uri": "https://localhost:8080/"
        },
        "id": "aQ8czeEfPxH4",
        "outputId": "329f7530-5e86-4613-b5ed-f5f9ea6d5b9b"
      },
      "execution_count": 1,
      "outputs": [
        {
          "output_type": "stream",
          "name": "stdout",
          "text": [
            "Mounted at /content/drive\n"
          ]
        }
      ]
    },
    {
      "cell_type": "code",
      "source": [
        "!unzip -qq \"/content/drive/MyDrive/dataset2.zip\" -d dataset"
      ],
      "metadata": {
        "id": "xhc8F2W-PS5G"
      },
      "execution_count": 2,
      "outputs": []
    },
    {
      "cell_type": "code",
      "execution_count": 3,
      "metadata": {
        "id": "-PN5ECweHTI0"
      },
      "outputs": [],
      "source": [
        "import torch\n",
        "import torch.nn as nn\n",
        "import torch.nn.functional as F\n",
        "from torchvision import transforms, models, datasets, utils\n",
        "from torch.utils.data import Dataset\n",
        "from torchsummary import summary\n",
        "from torch.utils.data import DataLoader\n",
        "from torchvision.utils import make_grid, save_image\n",
        "from torchvision.datasets import DatasetFolder\n",
        "import torch.optim as optim\n",
        "from torch.optim.lr_scheduler import MultiStepLR, StepLR, ReduceLROnPlateau\n",
        "\n",
        "\n",
        "import numpy as np\n",
        "import pandas as pd\n",
        "import matplotlib.pyplot as plt\n",
        "import os\n",
        "import cv2\n",
        "from tqdm import tqdm\n",
        "from sklearn.metrics import f1_score\n",
        "from PIL import Image\n",
        "import argparse\n",
        "import time\n",
        "\n",
        "\n"
      ]
    },
    {
      "cell_type": "code",
      "source": [
        "# 모델 학습 관련 파라미터 모음 --> 자유롭게 변경하고, 추가해보세요.\n",
        "\n",
        "class Args():\n",
        "  scheduler = \"StepLR\"\n",
        "  model = \"resnet\"\n",
        "  data_type=\"2d\"\n",
        "  n_class = 3\n",
        "  epoch = 50\n",
        "  model_path = \"./model_weight_2d.pth\"\n",
        "\n",
        "args = Args()"
      ],
      "metadata": {
        "id": "R5Fxp0gbuSIQ"
      },
      "execution_count": 4,
      "outputs": []
    },
    {
      "cell_type": "code",
      "execution_count": 5,
      "metadata": {
        "id": "tnij5jqaHbn2"
      },
      "outputs": [],
      "source": [
        "\n",
        "#dataset\n",
        "\n",
        "class ImageDataset(Dataset):\n",
        "    def __init__(self, directory, transform=None):\n",
        "        self.directory = directory\n",
        "        self.transform = transform\n",
        "        self.classes = sorted(os.listdir(directory))\n",
        "        self.class_to_idx = {cls_name: idx for idx, cls_name in enumerate(self.classes)}\n",
        "        self.samples = []\n",
        "\n",
        "        for class_name in self.classes:\n",
        "            class_dir = os.path.join(self.directory, class_name)\n",
        "            for image_name in os.listdir(class_dir):\n",
        "                self.samples.append((os.path.join(class_dir, image_name), self.class_to_idx[class_name]))\n",
        "\n",
        "\n",
        "    def __len__(self):\n",
        "        return len(self.samples)\n",
        "\n",
        "    def __getitem__(self, idx):\n",
        "        image_path, label = self.samples[idx]\n",
        "        image = Image.open(image_path).convert('RGB')\n",
        "\n",
        "        if self.transform:\n",
        "            image = self.transform(image)\n",
        "        return image, label\n"
      ]
    },
    {
      "cell_type": "code",
      "source": [
        "# CNN 기반의 GAN 모델 정의\n",
        "class Generator(nn.Module):\n",
        "    def __init__(self):\n",
        "        super(Generator, self).__init__()\n",
        "        self.main = nn.Sequential(\n",
        "            # 입력은 noise_dim\n",
        "            nn.ConvTranspose2d(100, 1024, 4, 1, 0, bias=False),\n",
        "            nn.BatchNorm2d(1024),\n",
        "            nn.ReLU(True),\n",
        "            nn.ConvTranspose2d(1024, 512, 4, 2, 1, bias=False),\n",
        "            nn.BatchNorm2d(512),\n",
        "            nn.ReLU(True),\n",
        "            nn.ConvTranspose2d(512, 256, 4, 2, 1, bias=False),\n",
        "            nn.BatchNorm2d(256),\n",
        "            nn.ReLU(True),\n",
        "            nn.ConvTranspose2d(256, 128, 4, 2, 1, bias=False),\n",
        "            nn.BatchNorm2d(128),\n",
        "            nn.ReLU(True),\n",
        "            nn.ConvTranspose2d(128, 64, 4, 2, 1, bias=False),\n",
        "            nn.BatchNorm2d(64),\n",
        "            nn.ReLU(True),\n",
        "            nn.ConvTranspose2d(64, 1, 4, 4, 1, bias=False),\n",
        "            nn.Tanh()\n",
        "        )\n",
        "\n",
        "    def forward(self, input):\n",
        "        return self.main(input.view(input.size(0), 100, 1, 1))\n",
        "\n",
        "class Discriminator(nn.Module):\n",
        "    def __init__(self):\n",
        "        super(Discriminator, self).__init__()\n",
        "        self.main = nn.Sequential(\n",
        "            # 입력은 3x224x224 이미지\n",
        "            nn.Conv2d(1, 32, 4, 2, 1, bias=False),\n",
        "            nn.LeakyReLU(0.2, inplace=True),\n",
        "            nn.Conv2d(32, 64, 4, 2, 1, bias=False),\n",
        "            nn.LeakyReLU(0.2, inplace=True),\n",
        "            nn.Conv2d(64, 128, 4, 2, 1, bias=False),\n",
        "            nn.BatchNorm2d(128),\n",
        "            nn.LeakyReLU(0.2, inplace=True),\n",
        "            nn.Conv2d(128, 256, 4, 2, 1, bias=False),\n",
        "            nn.BatchNorm2d(256),\n",
        "            nn.LeakyReLU(0.2, inplace=True),\n",
        "            nn.Conv2d(256, 512, 4, 2, 1, bias=False),\n",
        "            nn.BatchNorm2d(512),\n",
        "            nn.LeakyReLU(0.2, inplace=True),\n",
        "            nn.Conv2d(512, 1024, 4, 2, 1, bias=False),\n",
        "            nn.BatchNorm2d(1024),\n",
        "            nn.LeakyReLU(0.2, inplace=True),\n",
        "            nn.Conv2d(1024, 1, 3, 1, 0, bias=False),\n",
        "            nn.Sigmoid()\n",
        "        )\n",
        "\n",
        "    def forward(self, input):\n",
        "        return self.main(input).view(-1,1)\n",
        "\n",
        "# 커스텀 데이터셋 클래스 정의\n",
        "class CustomDataset(Dataset):\n",
        "    def __init__(self, image_dir, transform=None):\n",
        "        self.image_dir = image_dir\n",
        "        self.transform = transform\n",
        "        self.image_paths = [os.path.join(image_dir, fname) for fname in os.listdir(image_dir) if fname.endswith('.png')]\n",
        "\n",
        "    def __len__(self):\n",
        "        return len(self.image_paths)\n",
        "\n",
        "    def __getitem__(self, idx):\n",
        "        img_path = self.image_paths[idx]\n",
        "        image = Image.open(img_path).convert('L')\n",
        "        if self.transform:\n",
        "            image = self.transform(image)\n",
        "        return image\n",
        "\n",
        "\n",
        "# 학습을 위한 설정\n",
        "device = torch.device(\"cuda\" if torch.cuda.is_available() else \"cpu\")\n",
        "batch_size = 64\n",
        "lr = 0.0002\n",
        "epochs = 50\n",
        "noise_dim = 100\n",
        "dataset_path = './dataset'\n",
        "\n",
        "# 데이터셋 변환 및 로더\n",
        "transform = transforms.Compose([\n",
        "    transforms.Resize((224, 224)),\n",
        "    transforms.ToTensor(),\n",
        "    transforms.Normalize((0.5,), (0.5,))\n",
        "])\n",
        "\n",
        "\n",
        "\n",
        "# 각 클래스별로 GAN을 학습하고 데이터 증강\n",
        "class_names = ['benign', 'malignant', 'normal']\n",
        "losses = {'benign': {'D': [], 'G': []}, 'malignant': {'D': [], 'G': []}, 'normal': {'D': [], 'G': []}}\n",
        "\n",
        "\n",
        "def train_gan_for_class(class_name):\n",
        "    class_path = os.path.join(dataset_path, 'train', class_name)\n",
        "    dataset = CustomDataset(image_dir=class_path, transform=transform)\n",
        "    dataloader = DataLoader(dataset, batch_size=64, shuffle=True)\n",
        "\n",
        "    G = Generator().to(device)\n",
        "    D = Discriminator().to(device)\n",
        "\n",
        "    criterion = nn.BCELoss()\n",
        "    optimizerD = optim.Adam(D.parameters(), lr=lr)\n",
        "    optimizerG = optim.Adam(G.parameters(), lr=lr)\n",
        "\n",
        "\n",
        "    for epoch in range(epochs):\n",
        "        for i, (data) in enumerate(tqdm(dataloader)):\n",
        "            real = data.to(device)\n",
        "            batch_size = real.size(0)\n",
        "            labels_real = torch.ones(batch_size, 1).to(device)\n",
        "\n",
        "            labels_fake = torch.zeros(batch_size, 1).to(device)\n",
        "\n",
        "            # Discriminator 학습\n",
        "            optimizerD.zero_grad()\n",
        "            # print(real.shape)\n",
        "            output_real = D(real)\n",
        "\n",
        "            # print(labels_real.shape)\n",
        "            # print(output_real.shape)\n",
        "\n",
        "            loss_real = criterion(output_real, labels_real)\n",
        "\n",
        "            noise = torch.randn(batch_size, noise_dim, 1, 1).to(device)\n",
        "            fake = G(noise)\n",
        "            # print(\"fake shape\", fake.shape)\n",
        "            output_fake = D(fake.detach())\n",
        "            loss_fake = criterion(output_fake, labels_fake)\n",
        "\n",
        "            loss_D = loss_real + loss_fake\n",
        "            loss_D.backward()\n",
        "            optimizerD.step()\n",
        "\n",
        "            # Generator 학습\n",
        "            optimizerG.zero_grad()\n",
        "            output_fake = D(fake)\n",
        "            loss_G = criterion(output_fake, labels_real)\n",
        "\n",
        "            loss_G.backward()\n",
        "            optimizerG.step()\n",
        "\n",
        "            # 손실 기록\n",
        "            losses[class_name]['D'].append(loss_D.item())\n",
        "            losses[class_name]['G'].append(loss_G.item())\n",
        "\n",
        "        print(f'{class_name.capitalize()} Epoch [{epoch+1}/{epochs}] Loss D: {loss_D.item()}, loss G: {loss_G.item()}')\n",
        "        # print(f'Phase [{phase}] Epoch [{epoch+1}/{epochs}] Loss D: {loss_D.item()}, loss G: {loss_G.item()}')\n",
        "\n",
        "        # 이미지 저장\n",
        "        if (epoch + 1) % 10 == 0:\n",
        "            with torch.no_grad():\n",
        "                fake_images = G(noise).detach().cpu()\n",
        "                for j, image in enumerate(fake_images):\n",
        "                    save_path = os.path.join(dataset_path, 'train', class_name, f'fake_image_epoch_{epoch+1}_{j}.png')\n",
        "                    save_image(image, save_path, normalize=True)\n",
        "\n",
        "for class_name in class_names:\n",
        "    train_gan_for_class(class_name)\n",
        "\n",
        "# 손실 그래프 그리기\n",
        "plt.figure(figsize=(15, 10))\n",
        "\n",
        "for i, class_name in enumerate(class_names):\n",
        "    plt.subplot(3, 1, i + 1)\n",
        "    plt.title(f\"{class_name.capitalize()} Loss During Training\")\n",
        "    plt.plot(losses[class_name]['D'], label=\"Discriminator Loss\")\n",
        "    plt.plot(losses[class_name]['G'], label=\"Generator Loss\")\n",
        "    plt.xlabel(\"Iterations\")\n",
        "    plt.ylabel(\"Loss\")\n",
        "    plt.legend()\n",
        "\n",
        "plt.tight_layout()\n",
        "plt.show()\n",
        "\n"
      ],
      "metadata": {
        "id": "LZWrBu_QhmQV",
        "colab": {
          "base_uri": "https://localhost:8080/",
          "height": 1000
        },
        "outputId": "f63da1bc-480a-4fff-f798-82b6b029f4e8",
        "collapsed": true
      },
      "execution_count": null,
      "outputs": [
        {
          "output_type": "stream",
          "name": "stderr",
          "text": [
            "100%|██████████| 5/5 [00:05<00:00,  1.11s/it]\n"
          ]
        },
        {
          "output_type": "stream",
          "name": "stdout",
          "text": [
            "Benign Epoch [1/50] Loss D: 0.33383405208587646, loss G: 9.996698379516602\n"
          ]
        },
        {
          "output_type": "stream",
          "name": "stderr",
          "text": [
            "100%|██████████| 5/5 [00:04<00:00,  1.14it/s]\n"
          ]
        },
        {
          "output_type": "stream",
          "name": "stdout",
          "text": [
            "Benign Epoch [2/50] Loss D: 0.18099245429039001, loss G: 12.157424926757812\n"
          ]
        },
        {
          "output_type": "stream",
          "name": "stderr",
          "text": [
            "100%|██████████| 5/5 [00:04<00:00,  1.13it/s]\n"
          ]
        },
        {
          "output_type": "stream",
          "name": "stdout",
          "text": [
            "Benign Epoch [3/50] Loss D: 0.02872888371348381, loss G: 11.37503719329834\n"
          ]
        },
        {
          "output_type": "stream",
          "name": "stderr",
          "text": [
            "100%|██████████| 5/5 [00:04<00:00,  1.10it/s]\n"
          ]
        },
        {
          "output_type": "stream",
          "name": "stdout",
          "text": [
            "Benign Epoch [4/50] Loss D: 0.0305449441075325, loss G: 14.195140838623047\n"
          ]
        },
        {
          "output_type": "stream",
          "name": "stderr",
          "text": [
            "100%|██████████| 5/5 [00:04<00:00,  1.19it/s]\n"
          ]
        },
        {
          "output_type": "stream",
          "name": "stdout",
          "text": [
            "Benign Epoch [5/50] Loss D: 0.014080663211643696, loss G: 17.876432418823242\n"
          ]
        },
        {
          "output_type": "stream",
          "name": "stderr",
          "text": [
            "100%|██████████| 5/5 [00:04<00:00,  1.11it/s]\n"
          ]
        },
        {
          "output_type": "stream",
          "name": "stdout",
          "text": [
            "Benign Epoch [6/50] Loss D: 0.016082189977169037, loss G: 18.007770538330078\n"
          ]
        },
        {
          "output_type": "stream",
          "name": "stderr",
          "text": [
            "100%|██████████| 5/5 [00:03<00:00,  1.28it/s]\n"
          ]
        },
        {
          "output_type": "stream",
          "name": "stdout",
          "text": [
            "Benign Epoch [7/50] Loss D: 0.0005342312506400049, loss G: 8.706372261047363\n"
          ]
        },
        {
          "output_type": "stream",
          "name": "stderr",
          "text": [
            "100%|██████████| 5/5 [00:03<00:00,  1.26it/s]\n"
          ]
        },
        {
          "output_type": "stream",
          "name": "stdout",
          "text": [
            "Benign Epoch [8/50] Loss D: 0.001080284477211535, loss G: 16.31332778930664\n"
          ]
        },
        {
          "output_type": "stream",
          "name": "stderr",
          "text": [
            "100%|██████████| 5/5 [00:04<00:00,  1.05it/s]\n"
          ]
        },
        {
          "output_type": "stream",
          "name": "stdout",
          "text": [
            "Benign Epoch [9/50] Loss D: 0.003932403866201639, loss G: 14.269792556762695\n"
          ]
        },
        {
          "output_type": "stream",
          "name": "stderr",
          "text": [
            "100%|██████████| 5/5 [00:03<00:00,  1.26it/s]\n"
          ]
        },
        {
          "output_type": "stream",
          "name": "stdout",
          "text": [
            "Benign Epoch [10/50] Loss D: 0.009503807872533798, loss G: 17.658241271972656\n"
          ]
        },
        {
          "output_type": "stream",
          "name": "stderr",
          "text": [
            "100%|██████████| 5/5 [00:03<00:00,  1.27it/s]\n"
          ]
        },
        {
          "output_type": "stream",
          "name": "stdout",
          "text": [
            "Benign Epoch [11/50] Loss D: 0.21251344680786133, loss G: 21.0275821685791\n"
          ]
        },
        {
          "output_type": "stream",
          "name": "stderr",
          "text": [
            "100%|██████████| 5/5 [00:04<00:00,  1.07it/s]\n"
          ]
        },
        {
          "output_type": "stream",
          "name": "stdout",
          "text": [
            "Benign Epoch [12/50] Loss D: 0.0005037434748373926, loss G: 20.657142639160156\n"
          ]
        },
        {
          "output_type": "stream",
          "name": "stderr",
          "text": [
            "100%|██████████| 5/5 [00:04<00:00,  1.24it/s]\n"
          ]
        },
        {
          "output_type": "stream",
          "name": "stdout",
          "text": [
            "Benign Epoch [13/50] Loss D: 9.185051749227569e-05, loss G: 19.836584091186523\n"
          ]
        },
        {
          "output_type": "stream",
          "name": "stderr",
          "text": [
            "100%|██████████| 5/5 [00:03<00:00,  1.27it/s]\n"
          ]
        },
        {
          "output_type": "stream",
          "name": "stdout",
          "text": [
            "Benign Epoch [14/50] Loss D: 2.330076131329406e-05, loss G: 18.620452880859375\n"
          ]
        },
        {
          "output_type": "stream",
          "name": "stderr",
          "text": [
            "100%|██████████| 5/5 [00:04<00:00,  1.17it/s]\n"
          ]
        },
        {
          "output_type": "stream",
          "name": "stdout",
          "text": [
            "Benign Epoch [15/50] Loss D: 6.649500573985279e-05, loss G: 15.915508270263672\n"
          ]
        },
        {
          "output_type": "stream",
          "name": "stderr",
          "text": [
            "100%|██████████| 5/5 [00:04<00:00,  1.12it/s]\n"
          ]
        },
        {
          "output_type": "stream",
          "name": "stdout",
          "text": [
            "Benign Epoch [16/50] Loss D: 0.0013685639714822173, loss G: 6.716551780700684\n"
          ]
        },
        {
          "output_type": "stream",
          "name": "stderr",
          "text": [
            "100%|██████████| 5/5 [00:04<00:00,  1.23it/s]\n"
          ]
        },
        {
          "output_type": "stream",
          "name": "stdout",
          "text": [
            "Benign Epoch [17/50] Loss D: 0.0006216205656528473, loss G: 10.017205238342285\n"
          ]
        },
        {
          "output_type": "stream",
          "name": "stderr",
          "text": [
            "100%|██████████| 5/5 [00:04<00:00,  1.24it/s]\n"
          ]
        },
        {
          "output_type": "stream",
          "name": "stdout",
          "text": [
            "Benign Epoch [18/50] Loss D: 0.01183390524238348, loss G: 7.4955291748046875\n"
          ]
        },
        {
          "output_type": "stream",
          "name": "stderr",
          "text": [
            "100%|██████████| 5/5 [00:04<00:00,  1.05it/s]\n"
          ]
        },
        {
          "output_type": "stream",
          "name": "stdout",
          "text": [
            "Benign Epoch [19/50] Loss D: 0.2785470187664032, loss G: 19.029293060302734\n"
          ]
        },
        {
          "output_type": "stream",
          "name": "stderr",
          "text": [
            "100%|██████████| 5/5 [00:03<00:00,  1.26it/s]\n"
          ]
        },
        {
          "output_type": "stream",
          "name": "stdout",
          "text": [
            "Benign Epoch [20/50] Loss D: 0.0043447972275316715, loss G: 18.626535415649414\n"
          ]
        },
        {
          "output_type": "stream",
          "name": "stderr",
          "text": [
            "100%|██████████| 5/5 [00:03<00:00,  1.26it/s]\n"
          ]
        },
        {
          "output_type": "stream",
          "name": "stdout",
          "text": [
            "Benign Epoch [21/50] Loss D: 0.010385232046246529, loss G: 16.95343017578125\n"
          ]
        },
        {
          "output_type": "stream",
          "name": "stderr",
          "text": [
            "100%|██████████| 5/5 [00:04<00:00,  1.04it/s]\n"
          ]
        },
        {
          "output_type": "stream",
          "name": "stdout",
          "text": [
            "Benign Epoch [22/50] Loss D: 0.00018790211470331997, loss G: 15.15528678894043\n"
          ]
        },
        {
          "output_type": "stream",
          "name": "stderr",
          "text": [
            "100%|██████████| 5/5 [00:04<00:00,  1.25it/s]\n"
          ]
        },
        {
          "output_type": "stream",
          "name": "stdout",
          "text": [
            "Benign Epoch [23/50] Loss D: 0.0006732819019816816, loss G: 12.904646873474121\n"
          ]
        },
        {
          "output_type": "stream",
          "name": "stderr",
          "text": [
            "100%|██████████| 5/5 [00:04<00:00,  1.23it/s]\n"
          ]
        },
        {
          "output_type": "stream",
          "name": "stdout",
          "text": [
            "Benign Epoch [24/50] Loss D: 0.00031853688415139914, loss G: 9.732538223266602\n"
          ]
        },
        {
          "output_type": "stream",
          "name": "stderr",
          "text": [
            "100%|██████████| 5/5 [00:04<00:00,  1.08it/s]\n"
          ]
        },
        {
          "output_type": "stream",
          "name": "stdout",
          "text": [
            "Benign Epoch [25/50] Loss D: 0.09851943701505661, loss G: 4.482037544250488\n"
          ]
        },
        {
          "output_type": "stream",
          "name": "stderr",
          "text": [
            "100%|██████████| 5/5 [00:04<00:00,  1.21it/s]\n"
          ]
        },
        {
          "output_type": "stream",
          "name": "stdout",
          "text": [
            "Benign Epoch [26/50] Loss D: 0.012842103838920593, loss G: 15.281331062316895\n"
          ]
        },
        {
          "output_type": "stream",
          "name": "stderr",
          "text": [
            "100%|██████████| 5/5 [00:03<00:00,  1.25it/s]\n"
          ]
        },
        {
          "output_type": "stream",
          "name": "stdout",
          "text": [
            "Benign Epoch [27/50] Loss D: 0.0025169062428176403, loss G: 13.337400436401367\n"
          ]
        },
        {
          "output_type": "stream",
          "name": "stderr",
          "text": [
            "100%|██████████| 5/5 [00:04<00:00,  1.16it/s]\n"
          ]
        },
        {
          "output_type": "stream",
          "name": "stdout",
          "text": [
            "Benign Epoch [28/50] Loss D: 0.446501761674881, loss G: 19.29334831237793\n"
          ]
        },
        {
          "output_type": "stream",
          "name": "stderr",
          "text": [
            "100%|██████████| 5/5 [00:04<00:00,  1.09it/s]\n"
          ]
        },
        {
          "output_type": "stream",
          "name": "stdout",
          "text": [
            "Benign Epoch [29/50] Loss D: 0.0019347654888406396, loss G: 14.444738388061523\n"
          ]
        },
        {
          "output_type": "stream",
          "name": "stderr",
          "text": [
            "100%|██████████| 5/5 [00:04<00:00,  1.24it/s]\n"
          ]
        },
        {
          "output_type": "stream",
          "name": "stdout",
          "text": [
            "Benign Epoch [30/50] Loss D: 0.12590698897838593, loss G: 4.316897392272949\n"
          ]
        },
        {
          "output_type": "stream",
          "name": "stderr",
          "text": [
            "100%|██████████| 5/5 [00:04<00:00,  1.16it/s]\n"
          ]
        },
        {
          "output_type": "stream",
          "name": "stdout",
          "text": [
            "Benign Epoch [31/50] Loss D: 0.008039556443691254, loss G: 7.354621887207031\n"
          ]
        },
        {
          "output_type": "stream",
          "name": "stderr",
          "text": [
            "100%|██████████| 5/5 [00:04<00:00,  1.08it/s]\n"
          ]
        },
        {
          "output_type": "stream",
          "name": "stdout",
          "text": [
            "Benign Epoch [32/50] Loss D: 0.0026686680503189564, loss G: 7.227066993713379\n"
          ]
        },
        {
          "output_type": "stream",
          "name": "stderr",
          "text": [
            "100%|██████████| 5/5 [00:04<00:00,  1.22it/s]\n"
          ]
        },
        {
          "output_type": "stream",
          "name": "stdout",
          "text": [
            "Benign Epoch [33/50] Loss D: 0.10842902958393097, loss G: 5.097639083862305\n"
          ]
        },
        {
          "output_type": "stream",
          "name": "stderr",
          "text": [
            "100%|██████████| 5/5 [00:04<00:00,  1.03it/s]\n"
          ]
        },
        {
          "output_type": "stream",
          "name": "stdout",
          "text": [
            "Benign Epoch [34/50] Loss D: 0.007671481929719448, loss G: 8.88649845123291\n"
          ]
        },
        {
          "output_type": "stream",
          "name": "stderr",
          "text": [
            "100%|██████████| 5/5 [00:04<00:00,  1.05it/s]\n"
          ]
        },
        {
          "output_type": "stream",
          "name": "stdout",
          "text": [
            "Benign Epoch [35/50] Loss D: 0.036573074758052826, loss G: 8.011700630187988\n"
          ]
        },
        {
          "output_type": "stream",
          "name": "stderr",
          "text": [
            "100%|██████████| 5/5 [00:04<00:00,  1.23it/s]\n"
          ]
        },
        {
          "output_type": "stream",
          "name": "stdout",
          "text": [
            "Benign Epoch [36/50] Loss D: 0.008496720343828201, loss G: 6.49191427230835\n"
          ]
        },
        {
          "output_type": "stream",
          "name": "stderr",
          "text": [
            "100%|██████████| 5/5 [00:04<00:00,  1.23it/s]\n"
          ]
        },
        {
          "output_type": "stream",
          "name": "stdout",
          "text": [
            "Benign Epoch [37/50] Loss D: 0.02936561405658722, loss G: 5.430922985076904\n"
          ]
        },
        {
          "output_type": "stream",
          "name": "stderr",
          "text": [
            "100%|██████████| 5/5 [00:05<00:00,  1.01s/it]\n"
          ]
        },
        {
          "output_type": "stream",
          "name": "stdout",
          "text": [
            "Benign Epoch [38/50] Loss D: 0.020462166517972946, loss G: 7.233824729919434\n"
          ]
        },
        {
          "output_type": "stream",
          "name": "stderr",
          "text": [
            "100%|██████████| 5/5 [00:04<00:00,  1.23it/s]\n"
          ]
        },
        {
          "output_type": "stream",
          "name": "stdout",
          "text": [
            "Benign Epoch [39/50] Loss D: 0.04429791122674942, loss G: 7.49066162109375\n"
          ]
        },
        {
          "output_type": "stream",
          "name": "stderr",
          "text": [
            "100%|██████████| 5/5 [00:04<00:00,  1.23it/s]\n"
          ]
        },
        {
          "output_type": "stream",
          "name": "stdout",
          "text": [
            "Benign Epoch [40/50] Loss D: 0.03298827260732651, loss G: 6.775081634521484\n"
          ]
        },
        {
          "output_type": "stream",
          "name": "stderr",
          "text": [
            "100%|██████████| 5/5 [00:04<00:00,  1.04it/s]\n"
          ]
        },
        {
          "output_type": "stream",
          "name": "stdout",
          "text": [
            "Benign Epoch [41/50] Loss D: 0.0220793504267931, loss G: 7.875267028808594\n"
          ]
        },
        {
          "output_type": "stream",
          "name": "stderr",
          "text": [
            "100%|██████████| 5/5 [00:04<00:00,  1.21it/s]\n"
          ]
        },
        {
          "output_type": "stream",
          "name": "stdout",
          "text": [
            "Benign Epoch [42/50] Loss D: 0.030677758157253265, loss G: 9.805798530578613\n"
          ]
        },
        {
          "output_type": "stream",
          "name": "stderr",
          "text": [
            "100%|██████████| 5/5 [00:04<00:00,  1.21it/s]\n"
          ]
        },
        {
          "output_type": "stream",
          "name": "stdout",
          "text": [
            "Benign Epoch [43/50] Loss D: 0.052624695003032684, loss G: 9.396153450012207\n"
          ]
        },
        {
          "output_type": "stream",
          "name": "stderr",
          "text": [
            "100%|██████████| 5/5 [00:04<00:00,  1.08it/s]\n"
          ]
        },
        {
          "output_type": "stream",
          "name": "stdout",
          "text": [
            "Benign Epoch [44/50] Loss D: 0.05140285938978195, loss G: 7.62042236328125\n"
          ]
        },
        {
          "output_type": "stream",
          "name": "stderr",
          "text": [
            "100%|██████████| 5/5 [00:04<00:00,  1.14it/s]\n"
          ]
        },
        {
          "output_type": "stream",
          "name": "stdout",
          "text": [
            "Benign Epoch [45/50] Loss D: 0.07114782184362411, loss G: 7.345860004425049\n"
          ]
        },
        {
          "output_type": "stream",
          "name": "stderr",
          "text": [
            "100%|██████████| 5/5 [00:04<00:00,  1.22it/s]\n"
          ]
        },
        {
          "output_type": "stream",
          "name": "stdout",
          "text": [
            "Benign Epoch [46/50] Loss D: 0.0197707898914814, loss G: 7.895960807800293\n"
          ]
        },
        {
          "output_type": "stream",
          "name": "stderr",
          "text": [
            "100%|██████████| 5/5 [00:04<00:00,  1.12it/s]\n"
          ]
        },
        {
          "output_type": "stream",
          "name": "stdout",
          "text": [
            "Benign Epoch [47/50] Loss D: 0.07314601540565491, loss G: 8.619213104248047\n"
          ]
        },
        {
          "output_type": "stream",
          "name": "stderr",
          "text": [
            "100%|██████████| 5/5 [00:04<00:00,  1.11it/s]\n"
          ]
        },
        {
          "output_type": "stream",
          "name": "stdout",
          "text": [
            "Benign Epoch [48/50] Loss D: 0.021743889898061752, loss G: 9.356488227844238\n"
          ]
        },
        {
          "output_type": "stream",
          "name": "stderr",
          "text": [
            "100%|██████████| 5/5 [00:04<00:00,  1.23it/s]\n"
          ]
        },
        {
          "output_type": "stream",
          "name": "stdout",
          "text": [
            "Benign Epoch [49/50] Loss D: 0.009331902489066124, loss G: 9.24885368347168\n"
          ]
        },
        {
          "output_type": "stream",
          "name": "stderr",
          "text": [
            "100%|██████████| 5/5 [00:04<00:00,  1.19it/s]\n"
          ]
        },
        {
          "output_type": "stream",
          "name": "stdout",
          "text": [
            "Benign Epoch [50/50] Loss D: 0.015271228738129139, loss G: 9.277629852294922\n"
          ]
        },
        {
          "output_type": "stream",
          "name": "stderr",
          "text": [
            "100%|██████████| 3/3 [00:02<00:00,  1.22it/s]\n"
          ]
        },
        {
          "output_type": "stream",
          "name": "stdout",
          "text": [
            "Malignant Epoch [1/50] Loss D: 0.20618297159671783, loss G: 11.443114280700684\n"
          ]
        },
        {
          "output_type": "stream",
          "name": "stderr",
          "text": [
            "100%|██████████| 3/3 [00:01<00:00,  1.55it/s]\n"
          ]
        },
        {
          "output_type": "stream",
          "name": "stdout",
          "text": [
            "Malignant Epoch [2/50] Loss D: 0.37625178694725037, loss G: 12.845511436462402\n"
          ]
        },
        {
          "output_type": "stream",
          "name": "stderr",
          "text": [
            "100%|██████████| 3/3 [00:01<00:00,  1.54it/s]\n"
          ]
        },
        {
          "output_type": "stream",
          "name": "stdout",
          "text": [
            "Malignant Epoch [3/50] Loss D: 0.0620584599673748, loss G: 9.751667976379395\n"
          ]
        },
        {
          "output_type": "stream",
          "name": "stderr",
          "text": [
            "100%|██████████| 3/3 [00:01<00:00,  1.54it/s]\n"
          ]
        },
        {
          "output_type": "stream",
          "name": "stdout",
          "text": [
            "Malignant Epoch [4/50] Loss D: 0.030030101537704468, loss G: 10.974745750427246\n"
          ]
        },
        {
          "output_type": "stream",
          "name": "stderr",
          "text": [
            "100%|██████████| 3/3 [00:01<00:00,  1.57it/s]\n"
          ]
        },
        {
          "output_type": "stream",
          "name": "stdout",
          "text": [
            "Malignant Epoch [5/50] Loss D: 0.004188568331301212, loss G: 13.887370109558105\n"
          ]
        },
        {
          "output_type": "stream",
          "name": "stderr",
          "text": [
            "100%|██████████| 3/3 [00:01<00:00,  1.57it/s]\n"
          ]
        },
        {
          "output_type": "stream",
          "name": "stdout",
          "text": [
            "Malignant Epoch [6/50] Loss D: 0.02399921789765358, loss G: 13.275161743164062\n"
          ]
        },
        {
          "output_type": "stream",
          "name": "stderr",
          "text": [
            "100%|██████████| 3/3 [00:02<00:00,  1.25it/s]\n"
          ]
        },
        {
          "output_type": "stream",
          "name": "stdout",
          "text": [
            "Malignant Epoch [7/50] Loss D: 0.7638036012649536, loss G: 12.825639724731445\n"
          ]
        },
        {
          "output_type": "stream",
          "name": "stderr",
          "text": [
            "100%|██████████| 3/3 [00:02<00:00,  1.40it/s]\n"
          ]
        },
        {
          "output_type": "stream",
          "name": "stdout",
          "text": [
            "Malignant Epoch [8/50] Loss D: 0.007384806405752897, loss G: 16.863994598388672\n"
          ]
        },
        {
          "output_type": "stream",
          "name": "stderr",
          "text": [
            "100%|██████████| 3/3 [00:01<00:00,  1.58it/s]\n"
          ]
        },
        {
          "output_type": "stream",
          "name": "stdout",
          "text": [
            "Malignant Epoch [9/50] Loss D: 0.004820692352950573, loss G: 16.578672409057617\n"
          ]
        },
        {
          "output_type": "stream",
          "name": "stderr",
          "text": [
            "100%|██████████| 3/3 [00:01<00:00,  1.56it/s]\n"
          ]
        },
        {
          "output_type": "stream",
          "name": "stdout",
          "text": [
            "Malignant Epoch [10/50] Loss D: 0.03900930657982826, loss G: 12.82605266571045\n"
          ]
        },
        {
          "output_type": "stream",
          "name": "stderr",
          "text": [
            "100%|██████████| 3/3 [00:01<00:00,  1.57it/s]\n"
          ]
        },
        {
          "output_type": "stream",
          "name": "stdout",
          "text": [
            "Malignant Epoch [11/50] Loss D: 0.0010404513450339437, loss G: 16.686386108398438\n"
          ]
        },
        {
          "output_type": "stream",
          "name": "stderr",
          "text": [
            "100%|██████████| 3/3 [00:01<00:00,  1.57it/s]\n"
          ]
        },
        {
          "output_type": "stream",
          "name": "stdout",
          "text": [
            "Malignant Epoch [12/50] Loss D: 0.06208185851573944, loss G: 19.198820114135742\n"
          ]
        },
        {
          "output_type": "stream",
          "name": "stderr",
          "text": [
            "100%|██████████| 3/3 [00:02<00:00,  1.47it/s]\n"
          ]
        },
        {
          "output_type": "stream",
          "name": "stdout",
          "text": [
            "Malignant Epoch [13/50] Loss D: 0.18282997608184814, loss G: 19.102237701416016\n"
          ]
        },
        {
          "output_type": "stream",
          "name": "stderr",
          "text": [
            "100%|██████████| 3/3 [00:02<00:00,  1.27it/s]\n"
          ]
        },
        {
          "output_type": "stream",
          "name": "stdout",
          "text": [
            "Malignant Epoch [14/50] Loss D: 0.0012513009132817388, loss G: 17.668304443359375\n"
          ]
        },
        {
          "output_type": "stream",
          "name": "stderr",
          "text": [
            "100%|██████████| 3/3 [00:02<00:00,  1.43it/s]\n"
          ]
        },
        {
          "output_type": "stream",
          "name": "stdout",
          "text": [
            "Malignant Epoch [15/50] Loss D: 0.000877933984156698, loss G: 14.097160339355469\n"
          ]
        },
        {
          "output_type": "stream",
          "name": "stderr",
          "text": [
            "100%|██████████| 3/3 [00:01<00:00,  1.56it/s]\n"
          ]
        },
        {
          "output_type": "stream",
          "name": "stdout",
          "text": [
            "Malignant Epoch [16/50] Loss D: 1.1616859436035156, loss G: 11.805472373962402\n"
          ]
        },
        {
          "output_type": "stream",
          "name": "stderr",
          "text": [
            "100%|██████████| 3/3 [00:01<00:00,  1.57it/s]\n"
          ]
        },
        {
          "output_type": "stream",
          "name": "stdout",
          "text": [
            "Malignant Epoch [17/50] Loss D: 0.0020112404599785805, loss G: 16.8216552734375\n"
          ]
        },
        {
          "output_type": "stream",
          "name": "stderr",
          "text": [
            "100%|██████████| 3/3 [00:01<00:00,  1.51it/s]\n"
          ]
        },
        {
          "output_type": "stream",
          "name": "stdout",
          "text": [
            "Malignant Epoch [18/50] Loss D: 0.002726018661633134, loss G: 17.26287841796875\n"
          ]
        },
        {
          "output_type": "stream",
          "name": "stderr",
          "text": [
            "100%|██████████| 3/3 [00:01<00:00,  1.56it/s]\n"
          ]
        },
        {
          "output_type": "stream",
          "name": "stdout",
          "text": [
            "Malignant Epoch [19/50] Loss D: 0.0005288044922053814, loss G: 16.342132568359375\n"
          ]
        },
        {
          "output_type": "stream",
          "name": "stderr",
          "text": [
            "100%|██████████| 3/3 [00:02<00:00,  1.40it/s]\n"
          ]
        },
        {
          "output_type": "stream",
          "name": "stdout",
          "text": [
            "Malignant Epoch [20/50] Loss D: 0.0022243259008973837, loss G: 14.648480415344238\n"
          ]
        },
        {
          "output_type": "stream",
          "name": "stderr",
          "text": [
            "100%|██████████| 3/3 [00:02<00:00,  1.25it/s]\n"
          ]
        },
        {
          "output_type": "stream",
          "name": "stdout",
          "text": [
            "Malignant Epoch [21/50] Loss D: 0.04966188967227936, loss G: 10.7410249710083\n"
          ]
        },
        {
          "output_type": "stream",
          "name": "stderr",
          "text": [
            "100%|██████████| 3/3 [00:01<00:00,  1.55it/s]\n"
          ]
        },
        {
          "output_type": "stream",
          "name": "stdout",
          "text": [
            "Malignant Epoch [22/50] Loss D: 0.6643456220626831, loss G: 7.104545593261719\n"
          ]
        },
        {
          "output_type": "stream",
          "name": "stderr",
          "text": [
            "100%|██████████| 3/3 [00:01<00:00,  1.56it/s]\n"
          ]
        },
        {
          "output_type": "stream",
          "name": "stdout",
          "text": [
            "Malignant Epoch [23/50] Loss D: 0.002286786213517189, loss G: 11.383195877075195\n"
          ]
        },
        {
          "output_type": "stream",
          "name": "stderr",
          "text": [
            "100%|██████████| 3/3 [00:01<00:00,  1.57it/s]\n"
          ]
        },
        {
          "output_type": "stream",
          "name": "stdout",
          "text": [
            "Malignant Epoch [24/50] Loss D: 0.04253172129392624, loss G: 7.875491619110107\n"
          ]
        },
        {
          "output_type": "stream",
          "name": "stderr",
          "text": [
            "100%|██████████| 3/3 [00:01<00:00,  1.57it/s]\n"
          ]
        },
        {
          "output_type": "stream",
          "name": "stdout",
          "text": [
            "Malignant Epoch [25/50] Loss D: 0.003081000642850995, loss G: 12.980247497558594\n"
          ]
        },
        {
          "output_type": "stream",
          "name": "stderr",
          "text": [
            "100%|██████████| 3/3 [00:01<00:00,  1.55it/s]\n"
          ]
        },
        {
          "output_type": "stream",
          "name": "stdout",
          "text": [
            "Malignant Epoch [26/50] Loss D: 0.006071875337511301, loss G: 12.573185920715332\n"
          ]
        },
        {
          "output_type": "stream",
          "name": "stderr",
          "text": [
            "100%|██████████| 3/3 [00:02<00:00,  1.36it/s]\n"
          ]
        },
        {
          "output_type": "stream",
          "name": "stdout",
          "text": [
            "Malignant Epoch [27/50] Loss D: 0.02172071859240532, loss G: 10.737198829650879\n"
          ]
        },
        {
          "output_type": "stream",
          "name": "stderr",
          "text": [
            "100%|██████████| 3/3 [00:02<00:00,  1.18it/s]\n"
          ]
        },
        {
          "output_type": "stream",
          "name": "stdout",
          "text": [
            "Malignant Epoch [28/50] Loss D: 0.015104538761079311, loss G: 8.281328201293945\n"
          ]
        },
        {
          "output_type": "stream",
          "name": "stderr",
          "text": [
            "100%|██████████| 3/3 [00:01<00:00,  1.56it/s]\n"
          ]
        },
        {
          "output_type": "stream",
          "name": "stdout",
          "text": [
            "Malignant Epoch [29/50] Loss D: 0.006398552563041449, loss G: 5.448084831237793\n"
          ]
        },
        {
          "output_type": "stream",
          "name": "stderr",
          "text": [
            "100%|██████████| 3/3 [00:01<00:00,  1.52it/s]\n"
          ]
        },
        {
          "output_type": "stream",
          "name": "stdout",
          "text": [
            "Malignant Epoch [30/50] Loss D: 0.09683321416378021, loss G: 4.632195949554443\n"
          ]
        },
        {
          "output_type": "stream",
          "name": "stderr",
          "text": [
            "100%|██████████| 3/3 [00:01<00:00,  1.56it/s]\n"
          ]
        },
        {
          "output_type": "stream",
          "name": "stdout",
          "text": [
            "Malignant Epoch [31/50] Loss D: 0.012155124917626381, loss G: 7.1497039794921875\n"
          ]
        },
        {
          "output_type": "stream",
          "name": "stderr",
          "text": [
            "100%|██████████| 3/3 [00:01<00:00,  1.57it/s]\n"
          ]
        },
        {
          "output_type": "stream",
          "name": "stdout",
          "text": [
            "Malignant Epoch [32/50] Loss D: 0.025773214176297188, loss G: 7.356289863586426\n"
          ]
        },
        {
          "output_type": "stream",
          "name": "stderr",
          "text": [
            "100%|██████████| 3/3 [00:01<00:00,  1.54it/s]\n"
          ]
        },
        {
          "output_type": "stream",
          "name": "stdout",
          "text": [
            "Malignant Epoch [33/50] Loss D: 0.0026247866917401552, loss G: 10.711567878723145\n"
          ]
        },
        {
          "output_type": "stream",
          "name": "stderr",
          "text": [
            "100%|██████████| 3/3 [00:02<00:00,  1.25it/s]\n"
          ]
        },
        {
          "output_type": "stream",
          "name": "stdout",
          "text": [
            "Malignant Epoch [34/50] Loss D: 0.07114189863204956, loss G: 8.655926704406738\n"
          ]
        },
        {
          "output_type": "stream",
          "name": "stderr",
          "text": [
            "100%|██████████| 3/3 [00:02<00:00,  1.30it/s]\n"
          ]
        },
        {
          "output_type": "stream",
          "name": "stdout",
          "text": [
            "Malignant Epoch [35/50] Loss D: 0.03446396812796593, loss G: 11.833486557006836\n"
          ]
        },
        {
          "output_type": "stream",
          "name": "stderr",
          "text": [
            "100%|██████████| 3/3 [00:01<00:00,  1.57it/s]\n"
          ]
        },
        {
          "output_type": "stream",
          "name": "stdout",
          "text": [
            "Malignant Epoch [36/50] Loss D: 0.003124033100903034, loss G: 10.362509727478027\n"
          ]
        },
        {
          "output_type": "stream",
          "name": "stderr",
          "text": [
            "100%|██████████| 3/3 [00:01<00:00,  1.56it/s]\n"
          ]
        },
        {
          "output_type": "stream",
          "name": "stdout",
          "text": [
            "Malignant Epoch [37/50] Loss D: 0.00594571465626359, loss G: 6.508256435394287\n"
          ]
        },
        {
          "output_type": "stream",
          "name": "stderr",
          "text": [
            "100%|██████████| 3/3 [00:01<00:00,  1.57it/s]\n"
          ]
        },
        {
          "output_type": "stream",
          "name": "stdout",
          "text": [
            "Malignant Epoch [38/50] Loss D: 0.018341856077313423, loss G: 7.955499172210693\n"
          ]
        },
        {
          "output_type": "stream",
          "name": "stderr",
          "text": [
            "100%|██████████| 3/3 [00:01<00:00,  1.57it/s]\n"
          ]
        },
        {
          "output_type": "stream",
          "name": "stdout",
          "text": [
            "Malignant Epoch [39/50] Loss D: 0.002016253536567092, loss G: 8.682085037231445\n"
          ]
        },
        {
          "output_type": "stream",
          "name": "stderr",
          "text": [
            "100%|██████████| 3/3 [00:01<00:00,  1.55it/s]\n"
          ]
        },
        {
          "output_type": "stream",
          "name": "stdout",
          "text": [
            "Malignant Epoch [40/50] Loss D: 0.009230837225914001, loss G: 6.702404975891113\n"
          ]
        },
        {
          "output_type": "stream",
          "name": "stderr",
          "text": [
            "100%|██████████| 3/3 [00:02<00:00,  1.25it/s]\n"
          ]
        },
        {
          "output_type": "stream",
          "name": "stdout",
          "text": [
            "Malignant Epoch [41/50] Loss D: 0.015806861221790314, loss G: 8.793312072753906\n"
          ]
        },
        {
          "output_type": "stream",
          "name": "stderr",
          "text": [
            "100%|██████████| 3/3 [00:02<00:00,  1.38it/s]\n"
          ]
        },
        {
          "output_type": "stream",
          "name": "stdout",
          "text": [
            "Malignant Epoch [42/50] Loss D: 0.003884474979713559, loss G: 9.049233436584473\n"
          ]
        },
        {
          "output_type": "stream",
          "name": "stderr",
          "text": [
            "100%|██████████| 3/3 [00:01<00:00,  1.55it/s]\n"
          ]
        },
        {
          "output_type": "stream",
          "name": "stdout",
          "text": [
            "Malignant Epoch [43/50] Loss D: 0.026424000039696693, loss G: 14.969012260437012\n"
          ]
        },
        {
          "output_type": "stream",
          "name": "stderr",
          "text": [
            "100%|██████████| 3/3 [00:01<00:00,  1.57it/s]\n"
          ]
        },
        {
          "output_type": "stream",
          "name": "stdout",
          "text": [
            "Malignant Epoch [44/50] Loss D: 0.18039798736572266, loss G: 16.74936294555664\n"
          ]
        },
        {
          "output_type": "stream",
          "name": "stderr",
          "text": [
            "100%|██████████| 3/3 [00:01<00:00,  1.56it/s]\n"
          ]
        },
        {
          "output_type": "stream",
          "name": "stdout",
          "text": [
            "Malignant Epoch [45/50] Loss D: 0.0009171207784675062, loss G: 16.390539169311523\n"
          ]
        },
        {
          "output_type": "stream",
          "name": "stderr",
          "text": [
            "100%|██████████| 3/3 [00:01<00:00,  1.57it/s]\n"
          ]
        },
        {
          "output_type": "stream",
          "name": "stdout",
          "text": [
            "Malignant Epoch [46/50] Loss D: 0.005111456383019686, loss G: 15.33928108215332\n"
          ]
        },
        {
          "output_type": "stream",
          "name": "stderr",
          "text": [
            "100%|██████████| 3/3 [00:02<00:00,  1.48it/s]\n"
          ]
        },
        {
          "output_type": "stream",
          "name": "stdout",
          "text": [
            "Malignant Epoch [47/50] Loss D: 0.002161177573725581, loss G: 14.052273750305176\n"
          ]
        },
        {
          "output_type": "stream",
          "name": "stderr",
          "text": [
            "100%|██████████| 3/3 [00:02<00:00,  1.19it/s]\n"
          ]
        },
        {
          "output_type": "stream",
          "name": "stdout",
          "text": [
            "Malignant Epoch [48/50] Loss D: 0.004518379922956228, loss G: 11.617715835571289\n"
          ]
        },
        {
          "output_type": "stream",
          "name": "stderr",
          "text": [
            "100%|██████████| 3/3 [00:02<00:00,  1.38it/s]\n"
          ]
        },
        {
          "output_type": "stream",
          "name": "stdout",
          "text": [
            "Malignant Epoch [49/50] Loss D: 0.0018394328653812408, loss G: 6.856680393218994\n"
          ]
        },
        {
          "output_type": "stream",
          "name": "stderr",
          "text": [
            "100%|██████████| 3/3 [00:01<00:00,  1.56it/s]\n"
          ]
        },
        {
          "output_type": "stream",
          "name": "stdout",
          "text": [
            "Malignant Epoch [50/50] Loss D: 0.0010287131881341338, loss G: 12.989596366882324\n"
          ]
        },
        {
          "output_type": "stream",
          "name": "stderr",
          "text": [
            " 50%|█████     | 1/2 [00:00<00:00,  1.02it/s]/usr/local/lib/python3.10/dist-packages/torch/nn/modules/conv.py:952: UserWarning: Plan failed with a cudnnException: CUDNN_BACKEND_EXECUTION_PLAN_DESCRIPTOR: cudnnFinalize Descriptor Failed cudnn_status: CUDNN_STATUS_NOT_SUPPORTED (Triggered internally at ../aten/src/ATen/native/cudnn/Conv_v8.cpp:919.)\n",
            "  return F.conv_transpose2d(\n",
            "100%|██████████| 2/2 [00:01<00:00,  1.53it/s]\n"
          ]
        },
        {
          "output_type": "stream",
          "name": "stdout",
          "text": [
            "Normal Epoch [1/50] Loss D: 1.7668893337249756, loss G: 7.9020209312438965\n"
          ]
        },
        {
          "output_type": "stream",
          "name": "stderr",
          "text": [
            "100%|██████████| 2/2 [00:01<00:00,  1.56it/s]\n"
          ]
        },
        {
          "output_type": "stream",
          "name": "stdout",
          "text": [
            "Normal Epoch [2/50] Loss D: 0.09875854104757309, loss G: 8.218005180358887\n"
          ]
        },
        {
          "output_type": "stream",
          "name": "stderr",
          "text": [
            "100%|██████████| 2/2 [00:01<00:00,  1.18it/s]\n"
          ]
        },
        {
          "output_type": "stream",
          "name": "stdout",
          "text": [
            "Normal Epoch [3/50] Loss D: 0.775635838508606, loss G: 10.361921310424805\n"
          ]
        },
        {
          "output_type": "stream",
          "name": "stderr",
          "text": [
            "100%|██████████| 2/2 [00:03<00:00,  1.68s/it]\n"
          ]
        },
        {
          "output_type": "stream",
          "name": "stdout",
          "text": [
            "Normal Epoch [4/50] Loss D: 0.15052595734596252, loss G: 9.710450172424316\n"
          ]
        },
        {
          "output_type": "stream",
          "name": "stderr",
          "text": [
            "100%|██████████| 2/2 [00:02<00:00,  1.46s/it]\n"
          ]
        },
        {
          "output_type": "stream",
          "name": "stdout",
          "text": [
            "Normal Epoch [5/50] Loss D: 0.06241745501756668, loss G: 11.800100326538086\n"
          ]
        },
        {
          "output_type": "stream",
          "name": "stderr",
          "text": [
            "100%|██████████| 2/2 [00:01<00:00,  1.30it/s]\n"
          ]
        },
        {
          "output_type": "stream",
          "name": "stdout",
          "text": [
            "Normal Epoch [6/50] Loss D: 0.15223240852355957, loss G: 11.296921730041504\n"
          ]
        },
        {
          "output_type": "stream",
          "name": "stderr",
          "text": [
            "100%|██████████| 2/2 [00:01<00:00,  1.56it/s]\n"
          ]
        },
        {
          "output_type": "stream",
          "name": "stdout",
          "text": [
            "Normal Epoch [7/50] Loss D: 0.021426193416118622, loss G: 10.790377616882324\n"
          ]
        },
        {
          "output_type": "stream",
          "name": "stderr",
          "text": [
            "100%|██████████| 2/2 [00:01<00:00,  1.49it/s]\n"
          ]
        },
        {
          "output_type": "stream",
          "name": "stdout",
          "text": [
            "Normal Epoch [8/50] Loss D: 0.18330731987953186, loss G: 12.411493301391602\n"
          ]
        },
        {
          "output_type": "stream",
          "name": "stderr",
          "text": [
            "100%|██████████| 2/2 [00:01<00:00,  1.55it/s]\n"
          ]
        },
        {
          "output_type": "stream",
          "name": "stdout",
          "text": [
            "Normal Epoch [9/50] Loss D: 0.042225372046232224, loss G: 14.27382755279541\n"
          ]
        },
        {
          "output_type": "stream",
          "name": "stderr",
          "text": [
            "100%|██████████| 2/2 [00:01<00:00,  1.57it/s]\n"
          ]
        },
        {
          "output_type": "stream",
          "name": "stdout",
          "text": [
            "Normal Epoch [10/50] Loss D: 0.016043158248066902, loss G: 12.870384216308594\n"
          ]
        },
        {
          "output_type": "stream",
          "name": "stderr",
          "text": [
            "100%|██████████| 2/2 [00:01<00:00,  1.56it/s]\n"
          ]
        },
        {
          "output_type": "stream",
          "name": "stdout",
          "text": [
            "Normal Epoch [11/50] Loss D: 0.031232688575983047, loss G: 7.717729091644287\n"
          ]
        },
        {
          "output_type": "stream",
          "name": "stderr",
          "text": [
            "100%|██████████| 2/2 [00:01<00:00,  1.57it/s]\n"
          ]
        },
        {
          "output_type": "stream",
          "name": "stdout",
          "text": [
            "Normal Epoch [12/50] Loss D: 0.03741706907749176, loss G: 16.421401977539062\n"
          ]
        },
        {
          "output_type": "stream",
          "name": "stderr",
          "text": [
            "100%|██████████| 2/2 [00:01<00:00,  1.54it/s]\n"
          ]
        },
        {
          "output_type": "stream",
          "name": "stdout",
          "text": [
            "Normal Epoch [13/50] Loss D: 0.12229946255683899, loss G: 18.264789581298828\n"
          ]
        },
        {
          "output_type": "stream",
          "name": "stderr",
          "text": [
            "100%|██████████| 2/2 [00:01<00:00,  1.22it/s]\n"
          ]
        },
        {
          "output_type": "stream",
          "name": "stdout",
          "text": [
            "Normal Epoch [14/50] Loss D: 0.05792070925235748, loss G: 18.576784133911133\n"
          ]
        },
        {
          "output_type": "stream",
          "name": "stderr",
          "text": [
            "100%|██████████| 2/2 [00:01<00:00,  1.18it/s]\n"
          ]
        },
        {
          "output_type": "stream",
          "name": "stdout",
          "text": [
            "Normal Epoch [15/50] Loss D: 0.005150246899574995, loss G: 18.238195419311523\n"
          ]
        },
        {
          "output_type": "stream",
          "name": "stderr",
          "text": [
            "100%|██████████| 2/2 [00:01<00:00,  1.37it/s]\n"
          ]
        },
        {
          "output_type": "stream",
          "name": "stdout",
          "text": [
            "Normal Epoch [16/50] Loss D: 0.0036628663074225187, loss G: 17.389602661132812\n"
          ]
        },
        {
          "output_type": "stream",
          "name": "stderr",
          "text": [
            "100%|██████████| 2/2 [00:01<00:00,  1.55it/s]\n"
          ]
        },
        {
          "output_type": "stream",
          "name": "stdout",
          "text": [
            "Normal Epoch [17/50] Loss D: 0.0005317325703799725, loss G: 16.02402114868164\n"
          ]
        },
        {
          "output_type": "stream",
          "name": "stderr",
          "text": [
            "100%|██████████| 2/2 [00:01<00:00,  1.54it/s]\n"
          ]
        },
        {
          "output_type": "stream",
          "name": "stdout",
          "text": [
            "Normal Epoch [18/50] Loss D: 0.00028253509663045406, loss G: 13.63538932800293\n"
          ]
        },
        {
          "output_type": "stream",
          "name": "stderr",
          "text": [
            "100%|██████████| 2/2 [00:01<00:00,  1.55it/s]\n"
          ]
        },
        {
          "output_type": "stream",
          "name": "stdout",
          "text": [
            "Normal Epoch [19/50] Loss D: 0.002061509992927313, loss G: 7.661172866821289\n"
          ]
        },
        {
          "output_type": "stream",
          "name": "stderr",
          "text": [
            "100%|██████████| 2/2 [00:01<00:00,  1.56it/s]\n"
          ]
        },
        {
          "output_type": "stream",
          "name": "stdout",
          "text": [
            "Normal Epoch [20/50] Loss D: 0.0018770105671137571, loss G: 15.672639846801758\n"
          ]
        },
        {
          "output_type": "stream",
          "name": "stderr",
          "text": [
            "100%|██████████| 2/2 [00:01<00:00,  1.54it/s]\n"
          ]
        },
        {
          "output_type": "stream",
          "name": "stdout",
          "text": [
            "Normal Epoch [21/50] Loss D: 0.009587560780346394, loss G: 18.048063278198242\n"
          ]
        },
        {
          "output_type": "stream",
          "name": "stderr",
          "text": [
            "100%|██████████| 2/2 [00:01<00:00,  1.57it/s]\n"
          ]
        },
        {
          "output_type": "stream",
          "name": "stdout",
          "text": [
            "Normal Epoch [22/50] Loss D: 0.00744442455470562, loss G: 18.829458236694336\n"
          ]
        },
        {
          "output_type": "stream",
          "name": "stderr",
          "text": [
            "100%|██████████| 2/2 [00:01<00:00,  1.39it/s]\n"
          ]
        },
        {
          "output_type": "stream",
          "name": "stdout",
          "text": [
            "Normal Epoch [23/50] Loss D: 0.017670486122369766, loss G: 18.911334991455078\n"
          ]
        },
        {
          "output_type": "stream",
          "name": "stderr",
          "text": [
            "100%|██████████| 2/2 [00:02<00:00,  1.36s/it]\n"
          ]
        },
        {
          "output_type": "stream",
          "name": "stdout",
          "text": [
            "Normal Epoch [24/50] Loss D: 0.01515643298625946, loss G: 18.721023559570312\n"
          ]
        },
        {
          "output_type": "stream",
          "name": "stderr",
          "text": [
            "100%|██████████| 2/2 [00:01<00:00,  1.28it/s]\n"
          ]
        },
        {
          "output_type": "stream",
          "name": "stdout",
          "text": [
            "Normal Epoch [25/50] Loss D: 0.021315673366189003, loss G: 18.353307723999023\n"
          ]
        },
        {
          "output_type": "stream",
          "name": "stderr",
          "text": [
            "100%|██████████| 2/2 [00:01<00:00,  1.55it/s]\n"
          ]
        },
        {
          "output_type": "stream",
          "name": "stdout",
          "text": [
            "Normal Epoch [26/50] Loss D: 0.014993603341281414, loss G: 17.74947738647461\n"
          ]
        },
        {
          "output_type": "stream",
          "name": "stderr",
          "text": [
            "100%|██████████| 2/2 [00:01<00:00,  1.57it/s]\n"
          ]
        },
        {
          "output_type": "stream",
          "name": "stdout",
          "text": [
            "Normal Epoch [27/50] Loss D: 0.006492297630757093, loss G: 16.913305282592773\n"
          ]
        },
        {
          "output_type": "stream",
          "name": "stderr",
          "text": [
            "100%|██████████| 2/2 [00:01<00:00,  1.56it/s]\n"
          ]
        },
        {
          "output_type": "stream",
          "name": "stdout",
          "text": [
            "Normal Epoch [28/50] Loss D: 0.003666017670184374, loss G: 15.625995635986328\n"
          ]
        },
        {
          "output_type": "stream",
          "name": "stderr",
          "text": [
            "100%|██████████| 2/2 [00:01<00:00,  1.53it/s]\n"
          ]
        },
        {
          "output_type": "stream",
          "name": "stdout",
          "text": [
            "Normal Epoch [29/50] Loss D: 0.0005436306237243116, loss G: 13.243691444396973\n"
          ]
        },
        {
          "output_type": "stream",
          "name": "stderr",
          "text": [
            "100%|██████████| 2/2 [00:01<00:00,  1.57it/s]\n"
          ]
        },
        {
          "output_type": "stream",
          "name": "stdout",
          "text": [
            "Normal Epoch [30/50] Loss D: 0.0009548337548039854, loss G: 7.446041584014893\n"
          ]
        },
        {
          "output_type": "stream",
          "name": "stderr",
          "text": [
            "100%|██████████| 2/2 [00:01<00:00,  1.56it/s]\n"
          ]
        },
        {
          "output_type": "stream",
          "name": "stdout",
          "text": [
            "Normal Epoch [31/50] Loss D: 1.275431513786316, loss G: 7.438012599945068\n"
          ]
        },
        {
          "output_type": "stream",
          "name": "stderr",
          "text": [
            "100%|██████████| 2/2 [00:01<00:00,  1.51it/s]\n"
          ]
        },
        {
          "output_type": "stream",
          "name": "stdout",
          "text": [
            "Normal Epoch [32/50] Loss D: 0.0015289322473108768, loss G: 11.770251274108887\n"
          ]
        },
        {
          "output_type": "stream",
          "name": "stderr",
          "text": [
            "100%|██████████| 2/2 [00:01<00:00,  1.26it/s]\n"
          ]
        },
        {
          "output_type": "stream",
          "name": "stdout",
          "text": [
            "Normal Epoch [33/50] Loss D: 0.012163731269538403, loss G: 12.819622039794922\n"
          ]
        },
        {
          "output_type": "stream",
          "name": "stderr",
          "text": [
            "100%|██████████| 2/2 [00:01<00:00,  1.23it/s]\n"
          ]
        },
        {
          "output_type": "stream",
          "name": "stdout",
          "text": [
            "Normal Epoch [34/50] Loss D: 0.018704185262322426, loss G: 11.838315963745117\n"
          ]
        },
        {
          "output_type": "stream",
          "name": "stderr",
          "text": [
            "100%|██████████| 2/2 [00:01<00:00,  1.32it/s]\n"
          ]
        },
        {
          "output_type": "stream",
          "name": "stdout",
          "text": [
            "Normal Epoch [35/50] Loss D: 0.013272613286972046, loss G: 7.479053974151611\n"
          ]
        },
        {
          "output_type": "stream",
          "name": "stderr",
          "text": [
            "100%|██████████| 2/2 [00:01<00:00,  1.54it/s]\n"
          ]
        },
        {
          "output_type": "stream",
          "name": "stdout",
          "text": [
            "Normal Epoch [36/50] Loss D: 0.00851262453943491, loss G: 15.057297706604004\n"
          ]
        },
        {
          "output_type": "stream",
          "name": "stderr",
          "text": [
            "100%|██████████| 2/2 [00:01<00:00,  1.57it/s]\n"
          ]
        },
        {
          "output_type": "stream",
          "name": "stdout",
          "text": [
            "Normal Epoch [37/50] Loss D: 0.10552491992712021, loss G: 16.9299259185791\n"
          ]
        },
        {
          "output_type": "stream",
          "name": "stderr",
          "text": [
            "100%|██████████| 2/2 [00:01<00:00,  1.56it/s]\n"
          ]
        },
        {
          "output_type": "stream",
          "name": "stdout",
          "text": [
            "Normal Epoch [38/50] Loss D: 0.01651659980416298, loss G: 17.012697219848633\n"
          ]
        },
        {
          "output_type": "stream",
          "name": "stderr",
          "text": [
            "100%|██████████| 2/2 [00:01<00:00,  1.54it/s]\n"
          ]
        },
        {
          "output_type": "stream",
          "name": "stdout",
          "text": [
            "Normal Epoch [39/50] Loss D: 0.005316882394254208, loss G: 16.419937133789062\n"
          ]
        },
        {
          "output_type": "stream",
          "name": "stderr",
          "text": [
            "100%|██████████| 2/2 [00:01<00:00,  1.54it/s]\n"
          ]
        },
        {
          "output_type": "stream",
          "name": "stdout",
          "text": [
            "Normal Epoch [40/50] Loss D: 0.004885666538029909, loss G: 15.419706344604492\n"
          ]
        },
        {
          "output_type": "stream",
          "name": "stderr",
          "text": [
            "100%|██████████| 2/2 [00:01<00:00,  1.56it/s]\n"
          ]
        },
        {
          "output_type": "stream",
          "name": "stdout",
          "text": [
            "Normal Epoch [41/50] Loss D: 0.0038818742614239454, loss G: 14.004507064819336\n"
          ]
        },
        {
          "output_type": "stream",
          "name": "stderr",
          "text": [
            "100%|██████████| 2/2 [00:01<00:00,  1.45it/s]\n"
          ]
        },
        {
          "output_type": "stream",
          "name": "stdout",
          "text": [
            "Normal Epoch [42/50] Loss D: 0.0011500382097437978, loss G: 12.212198257446289\n"
          ]
        },
        {
          "output_type": "stream",
          "name": "stderr",
          "text": [
            "100%|██████████| 2/2 [00:01<00:00,  1.25it/s]\n"
          ]
        },
        {
          "output_type": "stream",
          "name": "stdout",
          "text": [
            "Normal Epoch [43/50] Loss D: 0.0011951506603509188, loss G: 10.001096725463867\n"
          ]
        },
        {
          "output_type": "stream",
          "name": "stderr",
          "text": [
            "100%|██████████| 2/2 [00:01<00:00,  1.24it/s]\n"
          ]
        },
        {
          "output_type": "stream",
          "name": "stdout",
          "text": [
            "Normal Epoch [44/50] Loss D: 0.0019023655913770199, loss G: 7.113757610321045\n"
          ]
        },
        {
          "output_type": "stream",
          "name": "stderr",
          "text": [
            "100%|██████████| 2/2 [00:01<00:00,  1.53it/s]\n"
          ]
        },
        {
          "output_type": "stream",
          "name": "stdout",
          "text": [
            "Normal Epoch [45/50] Loss D: 0.0366508848965168, loss G: 4.040705680847168\n"
          ]
        },
        {
          "output_type": "stream",
          "name": "stderr",
          "text": [
            "100%|██████████| 2/2 [00:01<00:00,  1.52it/s]\n"
          ]
        },
        {
          "output_type": "stream",
          "name": "stdout",
          "text": [
            "Normal Epoch [46/50] Loss D: 0.16656337678432465, loss G: 5.115891933441162\n"
          ]
        },
        {
          "output_type": "stream",
          "name": "stderr",
          "text": [
            "100%|██████████| 2/2 [00:01<00:00,  1.55it/s]\n"
          ]
        },
        {
          "output_type": "stream",
          "name": "stdout",
          "text": [
            "Normal Epoch [47/50] Loss D: 0.017396235838532448, loss G: 7.795498371124268\n"
          ]
        },
        {
          "output_type": "stream",
          "name": "stderr",
          "text": [
            "100%|██████████| 2/2 [00:01<00:00,  1.53it/s]\n"
          ]
        },
        {
          "output_type": "stream",
          "name": "stdout",
          "text": [
            "Normal Epoch [48/50] Loss D: 0.0058739930391311646, loss G: 9.19111442565918\n"
          ]
        },
        {
          "output_type": "stream",
          "name": "stderr",
          "text": [
            "100%|██████████| 2/2 [00:01<00:00,  1.51it/s]\n"
          ]
        },
        {
          "output_type": "stream",
          "name": "stdout",
          "text": [
            "Normal Epoch [49/50] Loss D: 0.018218185752630234, loss G: 8.47711181640625\n"
          ]
        },
        {
          "output_type": "stream",
          "name": "stderr",
          "text": [
            "100%|██████████| 2/2 [00:01<00:00,  1.55it/s]\n"
          ]
        },
        {
          "output_type": "stream",
          "name": "stdout",
          "text": [
            "Normal Epoch [50/50] Loss D: 0.027270741760730743, loss G: 6.497248649597168\n"
          ]
        },
        {
          "output_type": "display_data",
          "data": {
            "text/plain": [
              "<Figure size 1500x1000 with 3 Axes>"
            ],
            "image/png": "[encoded data removed]"
          },
          "metadata": {}
        }
      ]
    },
    {
      "cell_type": "code",
      "source": [
        "import os\n",
        "from torchvision import datasets, transforms\n",
        "\n",
        "class ImageDatasetCounter:\n",
        "    def __init__(self, data_dir, transform=None):\n",
        "        self.data_dir = data_dir\n",
        "        self.transform = transform or transforms.Compose([\n",
        "            transforms.Resize((224, 224)),\n",
        "            transforms.ToTensor(),\n",
        "        ])\n",
        "\n",
        "    def count_images_per_class(self, dataset_type):\n",
        "        dataset_path = os.path.join(self.data_dir, dataset_type)\n",
        "        image_dataset = datasets.ImageFolder(dataset_path, transform=self.transform)\n",
        "\n",
        "        class_names = image_dataset.classes\n",
        "        class_counts = {class_name: 0 for class_name in class_names}\n",
        "\n",
        "        for _, label in image_dataset:\n",
        "            class_name = class_names[label]\n",
        "            class_counts[class_name] += 1\n",
        "\n",
        "        counts_list = [class_counts[class_name] for class_name in class_names]\n",
        "        return counts_list\n",
        "\n",
        "    def count_all_datasets(self, dataset_types):\n",
        "        counts = {}\n",
        "        for dataset_type in dataset_types:\n",
        "            counts[dataset_type] = self.count_images_per_class(dataset_type)\n",
        "        return counts\n",
        "\n",
        "# 사용 예시\n",
        "data_dir = '/content/dataset'\n",
        "dataset_types = ['train', 'validation', 'test']\n",
        "counter = ImageDatasetCounter(data_dir)\n",
        "\n",
        "counts = counter.count_all_datasets(dataset_types)\n",
        "for dataset_type, count_list in counts.items():\n",
        "    print(f\"{dataset_type} dataset: {count_list} total : {sum(count_list)}\")\n"
      ],
      "metadata": {
        "id": "8dg0YQFI-LGn",
        "colab": {
          "base_uri": "https://localhost:8080/"
        },
        "outputId": "db3cb689-db1a-4ef7-d0c4-4defa546b6b3"
      },
      "execution_count": 6,
      "outputs": [
        {
          "output_type": "stream",
          "name": "stdout",
          "text": [
            "train dataset: [278, 133, 83] total : 494\n",
            "validation dataset: [71, 34, 22] total : 127\n",
            "test dataset: [88, 43, 28] total : 159\n"
          ]
        }
      ]
    },
    {
      "cell_type": "code",
      "execution_count": 7,
      "metadata": {
        "id": "73dLd47XHfO2"
      },
      "outputs": [],
      "source": [
        "def get_model(name, n_class, pretrained=False):\n",
        "    if name == 'vgg19':\n",
        "        model = models.vgg19(pretrained=pretrained)\n",
        "        num_features = model.classifier[3].in_features\n",
        "        model.classifier[3] = nn.Linear(num_features, n_class)\n",
        "    elif name == 'resnet':\n",
        "        model = models.resnet18(pretrained=pretrained)\n",
        "        num_features = model.fc.in_features\n",
        "        model.fc = nn.Linear(num_features, n_class)\n",
        "\n",
        "\n",
        "class CustomCNN(nn.Module):\n",
        "      def __init__(self):\n",
        "          super(Simple2DCNN, self).__init__()\n",
        "          self.conv1 = nn.Conv2d(3, 32, kernel_size=3, padding=1)\n",
        "          self.conv2 = nn.Conv2d(32, 64, kernel_size=3, stride=2, padding=1)\n",
        "          self.conv2_1 = nn.Conv2d(64, 64, kernel_size=3, padding=1)\n",
        "\n",
        "          self.downsample = nn.Conv2d(32,64,(1,1),stride=2,padding=0)\n",
        "\n",
        "          self.conv3 = nn.Conv2d(64, 128, kernel_size=3, stride=2, padding=1)\n",
        "          self.conv3_1 = nn.Conv2d(128, 128, kernel_size=3, stride=2, padding=1)\n",
        "          self.conv4 = nn.Conv2d(128, 256, kernel_size=3, stride=2, padding=1)\n",
        "          self.conv4_1 = nn.Conv2d(256, 256, kernel_size=3, stride=2, padding=1)\n",
        "          self.conv5 = nn.Conv2d(256, 512, kernel_size=3, stride=2, padding=1)\n",
        "          self.adaptive_pool = nn.AdaptiveAvgPool2d(1)\n",
        "          self.pool = nn.MaxPool2d(3,stride=2,padding=1)\n",
        "          self.relu = nn.ReLU()\n",
        "          self.fc = nn.Linear(512*1*1, 3)  # Adaptive Pooling 이후의 출력 크기에 맞춰 조정\n",
        "\n",
        "      def forward(self, x):\n",
        "          x = self.pool(self.conv1(x))\n",
        "          skip_x_1=x\n",
        "        #   print(x.shape)\n",
        "          skip_x_1=self.downsample(skip_x_1)\n",
        "        #   print(skip_x_1.shape)\n",
        "          x = self.relu(self.conv2(x))\n",
        "          x = self.conv2_1(x)\n",
        "        #   print(x.shape)\n",
        "          x=skip_x_1+x\n",
        "\n",
        "          x = self.relu(self.conv3(x))\n",
        "          x = self.relu(self.conv4(x))\n",
        "          x = self.relu(self.conv5(x))\n",
        "          x = self.adaptive_pool(x)\n",
        "          x = x.view(-1, 512*1*1)  # 적절한 크기로 플래트닝\n",
        "          x = self.fc(x)\n",
        "          return x\n",
        "\n",
        "class Simple2DCNN(nn.Module):\n",
        "    def __init__(self):\n",
        "        super(Simple2DCNN, self).__init__()\n",
        "        self.conv1 = nn.Conv2d(3, 64, kernel_size=3, padding=1)\n",
        "        self.conv2 = nn.Conv2d(64, 128, kernel_size=3, padding=1)\n",
        "        self.conv3 = nn.Conv2d(128, 256, kernel_size=3, padding=1)\n",
        "        self.conv4 = nn.Conv2d(256, 256, kernel_size=3, padding=1)\n",
        "        self.adaptive_pool = nn.AdaptiveAvgPool2d(10)\n",
        "        self.pool = nn.MaxPool2d(kernel_size=2, stride=2)\n",
        "        self.relu = nn.ReLU()\n",
        "        self.fc = nn.Linear(256*200*200, 3)  # Adaptive Pooling 이후의 출력 크기에 맞춰 조정\n",
        "\n",
        "    def forward(self, x):\n",
        "        x = self.pool(F.relu(self.conv1(x)))\n",
        "        x = self.pool(F.relu(self.conv2(x)))\n",
        "        x = self.pool(F.relu(self.conv3(x)))\n",
        "        x = self.relu(self.conv4(x))\n",
        "        x = self.adaptive_pool(x)\n",
        "        x = x.view(-1, 256*200*200)  # 적절한 크기로 플래트닝\n",
        "        x = self.fc(x)\n",
        "        return x\n",
        "\n"
      ]
    },
    {
      "cell_type": "code",
      "source": [
        "def get_model(num_classes):\n",
        "    try:\n",
        "        # Pretrained resnet18 모델 불러오기\n",
        "        model = models.resnet18(pretrained=False)\n",
        "        # 마지막 레이어 수정\n",
        "        num_ftrs = model.fc.in_features\n",
        "        model.fc = nn.Linear(num_ftrs, num_classes)\n",
        "        return model\n",
        "    except Exception as e:\n",
        "        print(f\"Error in model creation: {e}\")\n",
        "        return None\n",
        "# GPU가 사용 가능한지 확인\n",
        "device = torch.device(\"cuda:0\" if torch.cuda.is_available() else \"cpu\")\n",
        "print(f\"Using device: {device}\")\n",
        "\n",
        "\n",
        "# 모델 생성\n",
        "model = get_model(num_classes=3)\n",
        "\n",
        "# model = get_model(args.model, args.n_class, pretrained=True)\n",
        "if model is None:\n",
        "    print(\"Model creation failed\")\n",
        "else:\n",
        "    print(\"Model created successfully\")\n",
        "    model = model.to(device)\n",
        "    summary(model, (3, 224, 224))\n",
        "\n"
      ],
      "metadata": {
        "collapsed": true,
        "id": "cc9ttbj9pXVZ",
        "colab": {
          "base_uri": "https://localhost:8080/"
        },
        "outputId": "47f56384-6c73-49bb-ea19-94418cb1fb9c"
      },
      "execution_count": 8,
      "outputs": [
        {
          "output_type": "stream",
          "name": "stdout",
          "text": [
            "Using device: cuda:0\n",
            "Model created successfully\n"
          ]
        },
        {
          "output_type": "stream",
          "name": "stderr",
          "text": [
            "/usr/local/lib/python3.10/dist-packages/torchvision/models/_utils.py:208: UserWarning: The parameter 'pretrained' is deprecated since 0.13 and may be removed in the future, please use 'weights' instead.\n",
            "  warnings.warn(\n",
            "/usr/local/lib/python3.10/dist-packages/torchvision/models/_utils.py:223: UserWarning: Arguments other than a weight enum or `None` for 'weights' are deprecated since 0.13 and may be removed in the future. The current behavior is equivalent to passing `weights=None`.\n",
            "  warnings.warn(msg)\n"
          ]
        },
        {
          "output_type": "stream",
          "name": "stdout",
          "text": [
            "----------------------------------------------------------------\n",
            "        Layer (type)               Output Shape         Param #\n",
            "================================================================\n",
            "            Conv2d-1         [-1, 64, 112, 112]           9,408\n",
            "       BatchNorm2d-2         [-1, 64, 112, 112]             128\n",
            "              ReLU-3         [-1, 64, 112, 112]               0\n",
            "         MaxPool2d-4           [-1, 64, 56, 56]               0\n",
            "            Conv2d-5           [-1, 64, 56, 56]          36,864\n",
            "       BatchNorm2d-6           [-1, 64, 56, 56]             128\n",
            "              ReLU-7           [-1, 64, 56, 56]               0\n",
            "            Conv2d-8           [-1, 64, 56, 56]          36,864\n",
            "       BatchNorm2d-9           [-1, 64, 56, 56]             128\n",
            "             ReLU-10           [-1, 64, 56, 56]               0\n",
            "       BasicBlock-11           [-1, 64, 56, 56]               0\n",
            "           Conv2d-12           [-1, 64, 56, 56]          36,864\n",
            "      BatchNorm2d-13           [-1, 64, 56, 56]             128\n",
            "             ReLU-14           [-1, 64, 56, 56]               0\n",
            "           Conv2d-15           [-1, 64, 56, 56]          36,864\n",
            "      BatchNorm2d-16           [-1, 64, 56, 56]             128\n",
            "             ReLU-17           [-1, 64, 56, 56]               0\n",
            "       BasicBlock-18           [-1, 64, 56, 56]               0\n",
            "           Conv2d-19          [-1, 128, 28, 28]          73,728\n",
            "      BatchNorm2d-20          [-1, 128, 28, 28]             256\n",
            "             ReLU-21          [-1, 128, 28, 28]               0\n",
            "           Conv2d-22          [-1, 128, 28, 28]         147,456\n",
            "      BatchNorm2d-23          [-1, 128, 28, 28]             256\n",
            "           Conv2d-24          [-1, 128, 28, 28]           8,192\n",
            "      BatchNorm2d-25          [-1, 128, 28, 28]             256\n",
            "             ReLU-26          [-1, 128, 28, 28]               0\n",
            "       BasicBlock-27          [-1, 128, 28, 28]               0\n",
            "           Conv2d-28          [-1, 128, 28, 28]         147,456\n",
            "      BatchNorm2d-29          [-1, 128, 28, 28]             256\n",
            "             ReLU-30          [-1, 128, 28, 28]               0\n",
            "           Conv2d-31          [-1, 128, 28, 28]         147,456\n",
            "      BatchNorm2d-32          [-1, 128, 28, 28]             256\n",
            "             ReLU-33          [-1, 128, 28, 28]               0\n",
            "       BasicBlock-34          [-1, 128, 28, 28]               0\n",
            "           Conv2d-35          [-1, 256, 14, 14]         294,912\n",
            "      BatchNorm2d-36          [-1, 256, 14, 14]             512\n",
            "             ReLU-37          [-1, 256, 14, 14]               0\n",
            "           Conv2d-38          [-1, 256, 14, 14]         589,824\n",
            "      BatchNorm2d-39          [-1, 256, 14, 14]             512\n",
            "           Conv2d-40          [-1, 256, 14, 14]          32,768\n",
            "      BatchNorm2d-41          [-1, 256, 14, 14]             512\n",
            "             ReLU-42          [-1, 256, 14, 14]               0\n",
            "       BasicBlock-43          [-1, 256, 14, 14]               0\n",
            "           Conv2d-44          [-1, 256, 14, 14]         589,824\n",
            "      BatchNorm2d-45          [-1, 256, 14, 14]             512\n",
            "             ReLU-46          [-1, 256, 14, 14]               0\n",
            "           Conv2d-47          [-1, 256, 14, 14]         589,824\n",
            "      BatchNorm2d-48          [-1, 256, 14, 14]             512\n",
            "             ReLU-49          [-1, 256, 14, 14]               0\n",
            "       BasicBlock-50          [-1, 256, 14, 14]               0\n",
            "           Conv2d-51            [-1, 512, 7, 7]       1,179,648\n",
            "      BatchNorm2d-52            [-1, 512, 7, 7]           1,024\n",
            "             ReLU-53            [-1, 512, 7, 7]               0\n",
            "           Conv2d-54            [-1, 512, 7, 7]       2,359,296\n",
            "      BatchNorm2d-55            [-1, 512, 7, 7]           1,024\n",
            "           Conv2d-56            [-1, 512, 7, 7]         131,072\n",
            "      BatchNorm2d-57            [-1, 512, 7, 7]           1,024\n",
            "             ReLU-58            [-1, 512, 7, 7]               0\n",
            "       BasicBlock-59            [-1, 512, 7, 7]               0\n",
            "           Conv2d-60            [-1, 512, 7, 7]       2,359,296\n",
            "      BatchNorm2d-61            [-1, 512, 7, 7]           1,024\n",
            "             ReLU-62            [-1, 512, 7, 7]               0\n",
            "           Conv2d-63            [-1, 512, 7, 7]       2,359,296\n",
            "      BatchNorm2d-64            [-1, 512, 7, 7]           1,024\n",
            "             ReLU-65            [-1, 512, 7, 7]               0\n",
            "       BasicBlock-66            [-1, 512, 7, 7]               0\n",
            "AdaptiveAvgPool2d-67            [-1, 512, 1, 1]               0\n",
            "           Linear-68                    [-1, 3]           1,539\n",
            "================================================================\n",
            "Total params: 11,178,051\n",
            "Trainable params: 11,178,051\n",
            "Non-trainable params: 0\n",
            "----------------------------------------------------------------\n",
            "Input size (MB): 0.57\n",
            "Forward/backward pass size (MB): 62.79\n",
            "Params size (MB): 42.64\n",
            "Estimated Total Size (MB): 106.00\n",
            "----------------------------------------------------------------\n"
          ]
        }
      ]
    },
    {
      "cell_type": "code",
      "source": [
        "import torch\n",
        "import torch.nn as nn\n",
        "from torchvision import models\n",
        "from torchsummary import summary\n",
        "\n",
        "def get_model2(num_classes):\n",
        "    try:\n",
        "        # Pretrained vgg19 모델 불러오기\n",
        "        model = models.vgg19(pretrained=True)\n",
        "        # 마지막 레이어 수정\n",
        "        num_ftrs = model.classifier[6].in_features\n",
        "        model.classifier[6] = nn.Linear(num_ftrs, num_classes)\n",
        "        return model\n",
        "    except Exception as e:\n",
        "        print(f\"Error in model creation: {e}\")\n",
        "        return None\n",
        "\n",
        "# GPU가 사용 가능한지 확인\n",
        "device = torch.device(\"cuda:0\" if torch.cuda.is_available() else \"cpu\")\n",
        "print(f\"Using device: {device}\")\n",
        "\n",
        "# 모델 생성\n",
        "model = get_model2(num_classes=3)\n",
        "\n",
        "if model is None:\n",
        "    print(\"Model creation failed\")\n",
        "else:\n",
        "    print(\"Model created successfully\")\n",
        "    model = model.to(device)\n",
        "    summary(model, (3, 224, 224))\n"
      ],
      "metadata": {
        "colab": {
          "base_uri": "https://localhost:8080/"
        },
        "id": "uEytOVEDs8wm",
        "outputId": "235a7ad7-3d8a-4e28-ebff-6f637837567a"
      },
      "execution_count": 9,
      "outputs": [
        {
          "output_type": "stream",
          "name": "stdout",
          "text": [
            "Using device: cuda:0\n"
          ]
        },
        {
          "output_type": "stream",
          "name": "stderr",
          "text": [
            "/usr/local/lib/python3.10/dist-packages/torchvision/models/_utils.py:223: UserWarning: Arguments other than a weight enum or `None` for 'weights' are deprecated since 0.13 and may be removed in the future. The current behavior is equivalent to passing `weights=VGG19_Weights.IMAGENET1K_V1`. You can also use `weights=VGG19_Weights.DEFAULT` to get the most up-to-date weights.\n",
            "  warnings.warn(msg)\n",
            "Downloading: \"https://download.pytorch.org/models/vgg19-dcbb9e9d.pth\" to /root/.cache/torch/hub/checkpoints/vgg19-dcbb9e9d.pth\n",
            "100%|██████████| 548M/548M [00:03<00:00, 156MB/s]\n"
          ]
        },
        {
          "output_type": "stream",
          "name": "stdout",
          "text": [
            "Model created successfully\n",
            "----------------------------------------------------------------\n",
            "        Layer (type)               Output Shape         Param #\n",
            "================================================================\n",
            "            Conv2d-1         [-1, 64, 224, 224]           1,792\n",
            "              ReLU-2         [-1, 64, 224, 224]               0\n",
            "            Conv2d-3         [-1, 64, 224, 224]          36,928\n",
            "              ReLU-4         [-1, 64, 224, 224]               0\n",
            "         MaxPool2d-5         [-1, 64, 112, 112]               0\n",
            "            Conv2d-6        [-1, 128, 112, 112]          73,856\n",
            "              ReLU-7        [-1, 128, 112, 112]               0\n",
            "            Conv2d-8        [-1, 128, 112, 112]         147,584\n",
            "              ReLU-9        [-1, 128, 112, 112]               0\n",
            "        MaxPool2d-10          [-1, 128, 56, 56]               0\n",
            "           Conv2d-11          [-1, 256, 56, 56]         295,168\n",
            "             ReLU-12          [-1, 256, 56, 56]               0\n",
            "           Conv2d-13          [-1, 256, 56, 56]         590,080\n",
            "             ReLU-14          [-1, 256, 56, 56]               0\n",
            "           Conv2d-15          [-1, 256, 56, 56]         590,080\n",
            "             ReLU-16          [-1, 256, 56, 56]               0\n",
            "           Conv2d-17          [-1, 256, 56, 56]         590,080\n",
            "             ReLU-18          [-1, 256, 56, 56]               0\n",
            "        MaxPool2d-19          [-1, 256, 28, 28]               0\n",
            "           Conv2d-20          [-1, 512, 28, 28]       1,180,160\n",
            "             ReLU-21          [-1, 512, 28, 28]               0\n",
            "           Conv2d-22          [-1, 512, 28, 28]       2,359,808\n",
            "             ReLU-23          [-1, 512, 28, 28]               0\n",
            "           Conv2d-24          [-1, 512, 28, 28]       2,359,808\n",
            "             ReLU-25          [-1, 512, 28, 28]               0\n",
            "           Conv2d-26          [-1, 512, 28, 28]       2,359,808\n",
            "             ReLU-27          [-1, 512, 28, 28]               0\n",
            "        MaxPool2d-28          [-1, 512, 14, 14]               0\n",
            "           Conv2d-29          [-1, 512, 14, 14]       2,359,808\n",
            "             ReLU-30          [-1, 512, 14, 14]               0\n",
            "           Conv2d-31          [-1, 512, 14, 14]       2,359,808\n",
            "             ReLU-32          [-1, 512, 14, 14]               0\n",
            "           Conv2d-33          [-1, 512, 14, 14]       2,359,808\n",
            "             ReLU-34          [-1, 512, 14, 14]               0\n",
            "           Conv2d-35          [-1, 512, 14, 14]       2,359,808\n",
            "             ReLU-36          [-1, 512, 14, 14]               0\n",
            "        MaxPool2d-37            [-1, 512, 7, 7]               0\n",
            "AdaptiveAvgPool2d-38            [-1, 512, 7, 7]               0\n",
            "           Linear-39                 [-1, 4096]     102,764,544\n",
            "             ReLU-40                 [-1, 4096]               0\n",
            "          Dropout-41                 [-1, 4096]               0\n",
            "           Linear-42                 [-1, 4096]      16,781,312\n",
            "             ReLU-43                 [-1, 4096]               0\n",
            "          Dropout-44                 [-1, 4096]               0\n",
            "           Linear-45                    [-1, 3]          12,291\n",
            "================================================================\n",
            "Total params: 139,582,531\n",
            "Trainable params: 139,582,531\n",
            "Non-trainable params: 0\n",
            "----------------------------------------------------------------\n",
            "Input size (MB): 0.57\n",
            "Forward/backward pass size (MB): 238.68\n",
            "Params size (MB): 532.47\n",
            "Estimated Total Size (MB): 771.72\n",
            "----------------------------------------------------------------\n"
          ]
        }
      ]
    },
    {
      "cell_type": "code",
      "source": [
        "import torch\n",
        "import torch.nn as nn\n",
        "from torchvision import models\n",
        "from torchsummary import summary\n",
        "\n",
        "def get_model3(num_classes):\n",
        "    try:\n",
        "        # Pretrained GoogleNet 모델 불러오기\n",
        "        model = models.googlenet(pretrained=True)\n",
        "        # 마지막 레이어 수정\n",
        "        num_ftrs = model.fc.in_features\n",
        "        model.fc = nn.Linear(num_ftrs, num_classes)\n",
        "\n",
        "        # Inception 모듈 auxiliary classifiers도 수정 (필요시)\n",
        "        if model.aux_logits:\n",
        "            num_ftrs_aux = model.aux1.fc2.in_features\n",
        "            model.aux1.fc2 = nn.Linear(num_ftrs_aux, num_classes)\n",
        "\n",
        "            num_ftrs_aux = model.aux2.fc2.in_features\n",
        "            model.aux2.fc2 = nn.Linear(num_ftrs_aux, num_classes)\n",
        "\n",
        "        return model\n",
        "    except Exception as e:\n",
        "        print(f\"Error in model creation: {e}\")\n",
        "        return None\n",
        "\n",
        "# GPU가 사용 가능한지 확인\n",
        "device = torch.device(\"cuda:0\" if torch.cuda.is_available() else \"cpu\")\n",
        "print(f\"Using device: {device}\")\n",
        "\n",
        "# 모델 생성\n",
        "model = get_model3(num_classes=3)\n",
        "\n",
        "if model is None:\n",
        "    print(\"Model creation failed\")\n",
        "else:\n",
        "    print(\"Model created successfully\")\n",
        "    model = model.to(device)\n",
        "    summary(model, (3, 224, 224))\n"
      ],
      "metadata": {
        "id": "1aYGbgSKuIcn",
        "colab": {
          "base_uri": "https://localhost:8080/"
        },
        "outputId": "73a8098b-862b-4554-e82c-b47ebf09e009"
      },
      "execution_count": 10,
      "outputs": [
        {
          "output_type": "stream",
          "name": "stdout",
          "text": [
            "Using device: cuda:0\n"
          ]
        },
        {
          "output_type": "stream",
          "name": "stderr",
          "text": [
            "/usr/local/lib/python3.10/dist-packages/torchvision/models/_utils.py:223: UserWarning: Arguments other than a weight enum or `None` for 'weights' are deprecated since 0.13 and may be removed in the future. The current behavior is equivalent to passing `weights=GoogLeNet_Weights.IMAGENET1K_V1`. You can also use `weights=GoogLeNet_Weights.DEFAULT` to get the most up-to-date weights.\n",
            "  warnings.warn(msg)\n",
            "Downloading: \"https://download.pytorch.org/models/googlenet-1378be20.pth\" to /root/.cache/torch/hub/checkpoints/googlenet-1378be20.pth\n",
            "100%|██████████| 49.7M/49.7M [00:00<00:00, 74.8MB/s]\n"
          ]
        },
        {
          "output_type": "stream",
          "name": "stdout",
          "text": [
            "Model created successfully\n",
            "----------------------------------------------------------------\n",
            "        Layer (type)               Output Shape         Param #\n",
            "================================================================\n",
            "            Conv2d-1         [-1, 64, 112, 112]           9,408\n",
            "       BatchNorm2d-2         [-1, 64, 112, 112]             128\n",
            "       BasicConv2d-3         [-1, 64, 112, 112]               0\n",
            "         MaxPool2d-4           [-1, 64, 56, 56]               0\n",
            "            Conv2d-5           [-1, 64, 56, 56]           4,096\n",
            "       BatchNorm2d-6           [-1, 64, 56, 56]             128\n",
            "       BasicConv2d-7           [-1, 64, 56, 56]               0\n",
            "            Conv2d-8          [-1, 192, 56, 56]         110,592\n",
            "       BatchNorm2d-9          [-1, 192, 56, 56]             384\n",
            "      BasicConv2d-10          [-1, 192, 56, 56]               0\n",
            "        MaxPool2d-11          [-1, 192, 28, 28]               0\n",
            "           Conv2d-12           [-1, 64, 28, 28]          12,288\n",
            "      BatchNorm2d-13           [-1, 64, 28, 28]             128\n",
            "      BasicConv2d-14           [-1, 64, 28, 28]               0\n",
            "           Conv2d-15           [-1, 96, 28, 28]          18,432\n",
            "      BatchNorm2d-16           [-1, 96, 28, 28]             192\n",
            "      BasicConv2d-17           [-1, 96, 28, 28]               0\n",
            "           Conv2d-18          [-1, 128, 28, 28]         110,592\n",
            "      BatchNorm2d-19          [-1, 128, 28, 28]             256\n",
            "      BasicConv2d-20          [-1, 128, 28, 28]               0\n",
            "           Conv2d-21           [-1, 16, 28, 28]           3,072\n",
            "      BatchNorm2d-22           [-1, 16, 28, 28]              32\n",
            "      BasicConv2d-23           [-1, 16, 28, 28]               0\n",
            "           Conv2d-24           [-1, 32, 28, 28]           4,608\n",
            "      BatchNorm2d-25           [-1, 32, 28, 28]              64\n",
            "      BasicConv2d-26           [-1, 32, 28, 28]               0\n",
            "        MaxPool2d-27          [-1, 192, 28, 28]               0\n",
            "           Conv2d-28           [-1, 32, 28, 28]           6,144\n",
            "      BatchNorm2d-29           [-1, 32, 28, 28]              64\n",
            "      BasicConv2d-30           [-1, 32, 28, 28]               0\n",
            "        Inception-31          [-1, 256, 28, 28]               0\n",
            "           Conv2d-32          [-1, 128, 28, 28]          32,768\n",
            "      BatchNorm2d-33          [-1, 128, 28, 28]             256\n",
            "      BasicConv2d-34          [-1, 128, 28, 28]               0\n",
            "           Conv2d-35          [-1, 128, 28, 28]          32,768\n",
            "      BatchNorm2d-36          [-1, 128, 28, 28]             256\n",
            "      BasicConv2d-37          [-1, 128, 28, 28]               0\n",
            "           Conv2d-38          [-1, 192, 28, 28]         221,184\n",
            "      BatchNorm2d-39          [-1, 192, 28, 28]             384\n",
            "      BasicConv2d-40          [-1, 192, 28, 28]               0\n",
            "           Conv2d-41           [-1, 32, 28, 28]           8,192\n",
            "      BatchNorm2d-42           [-1, 32, 28, 28]              64\n",
            "      BasicConv2d-43           [-1, 32, 28, 28]               0\n",
            "           Conv2d-44           [-1, 96, 28, 28]          27,648\n",
            "      BatchNorm2d-45           [-1, 96, 28, 28]             192\n",
            "      BasicConv2d-46           [-1, 96, 28, 28]               0\n",
            "        MaxPool2d-47          [-1, 256, 28, 28]               0\n",
            "           Conv2d-48           [-1, 64, 28, 28]          16,384\n",
            "      BatchNorm2d-49           [-1, 64, 28, 28]             128\n",
            "      BasicConv2d-50           [-1, 64, 28, 28]               0\n",
            "        Inception-51          [-1, 480, 28, 28]               0\n",
            "        MaxPool2d-52          [-1, 480, 14, 14]               0\n",
            "           Conv2d-53          [-1, 192, 14, 14]          92,160\n",
            "      BatchNorm2d-54          [-1, 192, 14, 14]             384\n",
            "      BasicConv2d-55          [-1, 192, 14, 14]               0\n",
            "           Conv2d-56           [-1, 96, 14, 14]          46,080\n",
            "      BatchNorm2d-57           [-1, 96, 14, 14]             192\n",
            "      BasicConv2d-58           [-1, 96, 14, 14]               0\n",
            "           Conv2d-59          [-1, 208, 14, 14]         179,712\n",
            "      BatchNorm2d-60          [-1, 208, 14, 14]             416\n",
            "      BasicConv2d-61          [-1, 208, 14, 14]               0\n",
            "           Conv2d-62           [-1, 16, 14, 14]           7,680\n",
            "      BatchNorm2d-63           [-1, 16, 14, 14]              32\n",
            "      BasicConv2d-64           [-1, 16, 14, 14]               0\n",
            "           Conv2d-65           [-1, 48, 14, 14]           6,912\n",
            "      BatchNorm2d-66           [-1, 48, 14, 14]              96\n",
            "      BasicConv2d-67           [-1, 48, 14, 14]               0\n",
            "        MaxPool2d-68          [-1, 480, 14, 14]               0\n",
            "           Conv2d-69           [-1, 64, 14, 14]          30,720\n",
            "      BatchNorm2d-70           [-1, 64, 14, 14]             128\n",
            "      BasicConv2d-71           [-1, 64, 14, 14]               0\n",
            "        Inception-72          [-1, 512, 14, 14]               0\n",
            "           Conv2d-73          [-1, 160, 14, 14]          81,920\n",
            "      BatchNorm2d-74          [-1, 160, 14, 14]             320\n",
            "      BasicConv2d-75          [-1, 160, 14, 14]               0\n",
            "           Conv2d-76          [-1, 112, 14, 14]          57,344\n",
            "      BatchNorm2d-77          [-1, 112, 14, 14]             224\n",
            "      BasicConv2d-78          [-1, 112, 14, 14]               0\n",
            "           Conv2d-79          [-1, 224, 14, 14]         225,792\n",
            "      BatchNorm2d-80          [-1, 224, 14, 14]             448\n",
            "      BasicConv2d-81          [-1, 224, 14, 14]               0\n",
            "           Conv2d-82           [-1, 24, 14, 14]          12,288\n",
            "      BatchNorm2d-83           [-1, 24, 14, 14]              48\n",
            "      BasicConv2d-84           [-1, 24, 14, 14]               0\n",
            "           Conv2d-85           [-1, 64, 14, 14]          13,824\n",
            "      BatchNorm2d-86           [-1, 64, 14, 14]             128\n",
            "      BasicConv2d-87           [-1, 64, 14, 14]               0\n",
            "        MaxPool2d-88          [-1, 512, 14, 14]               0\n",
            "           Conv2d-89           [-1, 64, 14, 14]          32,768\n",
            "      BatchNorm2d-90           [-1, 64, 14, 14]             128\n",
            "      BasicConv2d-91           [-1, 64, 14, 14]               0\n",
            "        Inception-92          [-1, 512, 14, 14]               0\n",
            "           Conv2d-93          [-1, 128, 14, 14]          65,536\n",
            "      BatchNorm2d-94          [-1, 128, 14, 14]             256\n",
            "      BasicConv2d-95          [-1, 128, 14, 14]               0\n",
            "           Conv2d-96          [-1, 128, 14, 14]          65,536\n",
            "      BatchNorm2d-97          [-1, 128, 14, 14]             256\n",
            "      BasicConv2d-98          [-1, 128, 14, 14]               0\n",
            "           Conv2d-99          [-1, 256, 14, 14]         294,912\n",
            "     BatchNorm2d-100          [-1, 256, 14, 14]             512\n",
            "     BasicConv2d-101          [-1, 256, 14, 14]               0\n",
            "          Conv2d-102           [-1, 24, 14, 14]          12,288\n",
            "     BatchNorm2d-103           [-1, 24, 14, 14]              48\n",
            "     BasicConv2d-104           [-1, 24, 14, 14]               0\n",
            "          Conv2d-105           [-1, 64, 14, 14]          13,824\n",
            "     BatchNorm2d-106           [-1, 64, 14, 14]             128\n",
            "     BasicConv2d-107           [-1, 64, 14, 14]               0\n",
            "       MaxPool2d-108          [-1, 512, 14, 14]               0\n",
            "          Conv2d-109           [-1, 64, 14, 14]          32,768\n",
            "     BatchNorm2d-110           [-1, 64, 14, 14]             128\n",
            "     BasicConv2d-111           [-1, 64, 14, 14]               0\n",
            "       Inception-112          [-1, 512, 14, 14]               0\n",
            "          Conv2d-113          [-1, 112, 14, 14]          57,344\n",
            "     BatchNorm2d-114          [-1, 112, 14, 14]             224\n",
            "     BasicConv2d-115          [-1, 112, 14, 14]               0\n",
            "          Conv2d-116          [-1, 144, 14, 14]          73,728\n",
            "     BatchNorm2d-117          [-1, 144, 14, 14]             288\n",
            "     BasicConv2d-118          [-1, 144, 14, 14]               0\n",
            "          Conv2d-119          [-1, 288, 14, 14]         373,248\n",
            "     BatchNorm2d-120          [-1, 288, 14, 14]             576\n",
            "     BasicConv2d-121          [-1, 288, 14, 14]               0\n",
            "          Conv2d-122           [-1, 32, 14, 14]          16,384\n",
            "     BatchNorm2d-123           [-1, 32, 14, 14]              64\n",
            "     BasicConv2d-124           [-1, 32, 14, 14]               0\n",
            "          Conv2d-125           [-1, 64, 14, 14]          18,432\n",
            "     BatchNorm2d-126           [-1, 64, 14, 14]             128\n",
            "     BasicConv2d-127           [-1, 64, 14, 14]               0\n",
            "       MaxPool2d-128          [-1, 512, 14, 14]               0\n",
            "          Conv2d-129           [-1, 64, 14, 14]          32,768\n",
            "     BatchNorm2d-130           [-1, 64, 14, 14]             128\n",
            "     BasicConv2d-131           [-1, 64, 14, 14]               0\n",
            "       Inception-132          [-1, 528, 14, 14]               0\n",
            "          Conv2d-133          [-1, 256, 14, 14]         135,168\n",
            "     BatchNorm2d-134          [-1, 256, 14, 14]             512\n",
            "     BasicConv2d-135          [-1, 256, 14, 14]               0\n",
            "          Conv2d-136          [-1, 160, 14, 14]          84,480\n",
            "     BatchNorm2d-137          [-1, 160, 14, 14]             320\n",
            "     BasicConv2d-138          [-1, 160, 14, 14]               0\n",
            "          Conv2d-139          [-1, 320, 14, 14]         460,800\n",
            "     BatchNorm2d-140          [-1, 320, 14, 14]             640\n",
            "     BasicConv2d-141          [-1, 320, 14, 14]               0\n",
            "          Conv2d-142           [-1, 32, 14, 14]          16,896\n",
            "     BatchNorm2d-143           [-1, 32, 14, 14]              64\n",
            "     BasicConv2d-144           [-1, 32, 14, 14]               0\n",
            "          Conv2d-145          [-1, 128, 14, 14]          36,864\n",
            "     BatchNorm2d-146          [-1, 128, 14, 14]             256\n",
            "     BasicConv2d-147          [-1, 128, 14, 14]               0\n",
            "       MaxPool2d-148          [-1, 528, 14, 14]               0\n",
            "          Conv2d-149          [-1, 128, 14, 14]          67,584\n",
            "     BatchNorm2d-150          [-1, 128, 14, 14]             256\n",
            "     BasicConv2d-151          [-1, 128, 14, 14]               0\n",
            "       Inception-152          [-1, 832, 14, 14]               0\n",
            "       MaxPool2d-153            [-1, 832, 7, 7]               0\n",
            "          Conv2d-154            [-1, 256, 7, 7]         212,992\n",
            "     BatchNorm2d-155            [-1, 256, 7, 7]             512\n",
            "     BasicConv2d-156            [-1, 256, 7, 7]               0\n",
            "          Conv2d-157            [-1, 160, 7, 7]         133,120\n",
            "     BatchNorm2d-158            [-1, 160, 7, 7]             320\n",
            "     BasicConv2d-159            [-1, 160, 7, 7]               0\n",
            "          Conv2d-160            [-1, 320, 7, 7]         460,800\n",
            "     BatchNorm2d-161            [-1, 320, 7, 7]             640\n",
            "     BasicConv2d-162            [-1, 320, 7, 7]               0\n",
            "          Conv2d-163             [-1, 32, 7, 7]          26,624\n",
            "     BatchNorm2d-164             [-1, 32, 7, 7]              64\n",
            "     BasicConv2d-165             [-1, 32, 7, 7]               0\n",
            "          Conv2d-166            [-1, 128, 7, 7]          36,864\n",
            "     BatchNorm2d-167            [-1, 128, 7, 7]             256\n",
            "     BasicConv2d-168            [-1, 128, 7, 7]               0\n",
            "       MaxPool2d-169            [-1, 832, 7, 7]               0\n",
            "          Conv2d-170            [-1, 128, 7, 7]         106,496\n",
            "     BatchNorm2d-171            [-1, 128, 7, 7]             256\n",
            "     BasicConv2d-172            [-1, 128, 7, 7]               0\n",
            "       Inception-173            [-1, 832, 7, 7]               0\n",
            "          Conv2d-174            [-1, 384, 7, 7]         319,488\n",
            "     BatchNorm2d-175            [-1, 384, 7, 7]             768\n",
            "     BasicConv2d-176            [-1, 384, 7, 7]               0\n",
            "          Conv2d-177            [-1, 192, 7, 7]         159,744\n",
            "     BatchNorm2d-178            [-1, 192, 7, 7]             384\n",
            "     BasicConv2d-179            [-1, 192, 7, 7]               0\n",
            "          Conv2d-180            [-1, 384, 7, 7]         663,552\n",
            "     BatchNorm2d-181            [-1, 384, 7, 7]             768\n",
            "     BasicConv2d-182            [-1, 384, 7, 7]               0\n",
            "          Conv2d-183             [-1, 48, 7, 7]          39,936\n",
            "     BatchNorm2d-184             [-1, 48, 7, 7]              96\n",
            "     BasicConv2d-185             [-1, 48, 7, 7]               0\n",
            "          Conv2d-186            [-1, 128, 7, 7]          55,296\n",
            "     BatchNorm2d-187            [-1, 128, 7, 7]             256\n",
            "     BasicConv2d-188            [-1, 128, 7, 7]               0\n",
            "       MaxPool2d-189            [-1, 832, 7, 7]               0\n",
            "          Conv2d-190            [-1, 128, 7, 7]         106,496\n",
            "     BatchNorm2d-191            [-1, 128, 7, 7]             256\n",
            "     BasicConv2d-192            [-1, 128, 7, 7]               0\n",
            "       Inception-193           [-1, 1024, 7, 7]               0\n",
            "AdaptiveAvgPool2d-194           [-1, 1024, 1, 1]               0\n",
            "         Dropout-195                 [-1, 1024]               0\n",
            "          Linear-196                    [-1, 3]           3,075\n",
            "================================================================\n",
            "Total params: 5,602,979\n",
            "Trainable params: 5,602,979\n",
            "Non-trainable params: 0\n",
            "----------------------------------------------------------------\n",
            "Input size (MB): 0.57\n",
            "Forward/backward pass size (MB): 94.10\n",
            "Params size (MB): 21.37\n",
            "Estimated Total Size (MB): 116.05\n",
            "----------------------------------------------------------------\n"
          ]
        }
      ]
    },
    {
      "cell_type": "code",
      "execution_count": 11,
      "metadata": {
        "id": "V0dbN0hpIqxR"
      },
      "outputs": [],
      "source": [
        "#utils\n",
        "\n",
        "def visualize_batch(data_loader, class_names):\n",
        "    images, labels = next(iter(data_loader))\n",
        "    img_grid =make_grid(images, nrow=8)\n",
        "    npimg=img_grid.numpy()\n",
        "\n",
        "    plt.figure(figsize=(20,10))\n",
        "    plt.imshow(np.transpose(npimg, (1, 2, 0)))\n",
        "    plt.title('Dataset Visualization')\n",
        "\n",
        "    labels=[class_names[label] for label in labels]\n",
        "    for i, label in enumerate(labels):\n",
        "\n",
        "        x= (i%8 + 0.5) /8\n",
        "        y= (i // 8)/ (len(labels) / 8)\n",
        "        plt.text(x, y, label, ha='center', va='bottom', transform=plt.gca().transAxes, color='white')\n",
        "\n",
        "    plt.axis('off')\n",
        "    plt.show()\n",
        "\n",
        "def tic():\n",
        "    # 현재 시간을 전역 변수에 저장\n",
        "    global start_time\n",
        "    start_time = time.time()\n",
        "\n",
        "def toc():\n",
        "    # tic()이 호출된 후 경과한 시간을 계산하고 출력\n",
        "    elapsed_time = time.time() - start_time\n",
        "\n",
        "    hours = int(elapsed_time // 3600)\n",
        "    minutes = int((elapsed_time % 3600) // 60)\n",
        "    seconds = elapsed_time % 60\n",
        "    print(f\"학습에 소요된 시간은 총 : {hours}시간 {minutes}분 {seconds}초 입니다.\")"
      ]
    },
    {
      "cell_type": "code",
      "source": [
        "class EarlyStopping:\n",
        "    def __init__(self, patience=7, verbose=False, delta=0, path='checkpoint.pt', trace_func=print):\n",
        "        \"\"\"\n",
        "        Args:\n",
        "            patience (int): 학습을 멈추기 전에 개선이 없는 에포크 수 (기본값: 7)\n",
        "            verbose (bool): 개선될 때마다 메시지를 출력할지 여부 (기본값: False)\n",
        "            delta (float): 성능이 개선되었다고 판단할 최소 변화량 (기본값: 0)\n",
        "            path (str): 모델 가중치를 저장할 경로 (기본값: 'checkpoint.pt')\n",
        "            trace_func (function): 로그를 출력할 함수 (기본값: print)\n",
        "        \"\"\"\n",
        "        self.patience = patience\n",
        "        self.verbose = verbose\n",
        "        self.counter = 0\n",
        "        self.best_score = None\n",
        "        self.early_stop = False\n",
        "        self.val_loss_min = np.Inf\n",
        "        self.delta = delta\n",
        "        self.path = path\n",
        "        self.trace_func = trace_func\n",
        "\n",
        "    def __call__(self, val_loss, model):\n",
        "\n",
        "        score = -val_loss\n",
        "\n",
        "        if self.best_score is None:\n",
        "            self.best_score = score\n",
        "            self.save_checkpoint(val_loss, model)\n",
        "        elif score < self.best_score + self.delta:\n",
        "            self.counter += 1\n",
        "            if self.verbose:\n",
        "                self.trace_func(f'EarlyStopping counter: {self.counter} out of {self.patience}')\n",
        "            if self.counter >= self.patience:\n",
        "                self.early_stop = True\n",
        "        else:\n",
        "            self.best_score = score\n",
        "            self.save_checkpoint(val_loss, model)\n",
        "            self.counter = 0\n",
        "\n",
        "    def save_checkpoint(self, val_loss, model):\n",
        "        '''Validation loss가 감소하면 모델을 저장합니다.'''\n",
        "        if self.verbose:\n",
        "            self.trace_func(f'Validation loss decreased ({self.val_loss_min:.6f} --> {val_loss:.6f}).  Saving model ...')\n",
        "        torch.save(model.state_dict(), self.path)\n",
        "        self.val_loss_min = val_loss"
      ],
      "metadata": {
        "id": "AQ8PwZIavdRk"
      },
      "execution_count": 12,
      "outputs": []
    },
    {
      "cell_type": "code",
      "execution_count": null,
      "metadata": {
        "id": "8o-e7qtKIyUe"
      },
      "outputs": [],
      "source": [
        "# #train\n",
        "\n",
        "# # 각 클래스별 손실과 정확도 기록을 위한 리스트 초기화\n",
        "# class_losses = {0: [], 1: [], 2: []}\n",
        "# class_accuracies = {0: [], 1: [], 2: []}\n",
        "\n",
        "\n",
        "# def train_model(model, train_loader, val_loader, epochs, device, numSample_list, args):\n",
        "\n",
        "#     weights = [1 - (x / sum(numSample_list)) for x in numSample_list]\n",
        "#     weights = torch.FloatTensor(weights).to(device)\n",
        "#     criterion = nn.CrossEntropyLoss(weights)\n",
        "\n",
        "#     model.to(device)\n",
        "\n",
        "#     # criterion = nn.CrossEntropyLoss()\n",
        "#     # criterion = nn.BCEWithLogitsLoss()\n",
        "#     # criterion = nn.SoftMarginLoss()\n",
        "#     # criterion = nn.MultiMarginLoss()\n",
        "#     # criterion = nn.MSELoss(size_average=None, reduce=None, reduction='mean')\n",
        "\n",
        "#     optimizer = torch.optim.Adam(model.parameters(), lr=0.001)\n",
        "#     # optimizer = torch.optim.SGD(model.parameters(), lr=0.001)\n",
        "#     # scheduler = MultiStepLR(optimizer, [5,10],gamma=0.1)\n",
        "#     scheduler = StepLR(optimizer, step_size=5, gamma=0.1)\n",
        "#     # scheduler = ReduceLROnPlateau(optimizer, 'min', patience=3, verbose=True)\n",
        "\n",
        "#     # EarlyStopping 객체 생성\n",
        "#     early_stopping = EarlyStopping(patience=5, verbose=True)\n",
        "\n",
        "\n",
        "#     loss_history = []\n",
        "#     val_loss_history = []\n",
        "#     # accuracy_history = []\n",
        "#     val_accuracy_history = []\n",
        "\n",
        "#     for epoch in range(epochs):\n",
        "#         model.train()\n",
        "#         running_loss = 0.0\n",
        "#         train_loss = []\n",
        "#         # total_batches = len(train_loader)\n",
        "#         # correct_predictions = 0\n",
        "#         # total_predictions = 0\n",
        "\n",
        "#         class_correct = [0] * 3\n",
        "#         class_total = [0] * 3\n",
        "\n",
        "#         for i, (images, labels) in enumerate(tqdm(train_loader)):\n",
        "#             images, labels = images.to(device), labels.to(device)\n",
        "#             optimizer.zero_grad()\n",
        "\n",
        "#             outputs = model(images)\n",
        "#             loss = criterion(outputs, labels)\n",
        "#             loss.backward()\n",
        "#             optimizer.step()\n",
        "\n",
        "#             running_loss =+ loss.item()\n",
        "#             train_loss.append(loss.item()) # loss.item()은 현재 배치에 대한 손실 값을 파이썬의 floate 타입으로 변환.\n",
        "#             # 훈련 과정에서 각 배치를 처리할 때마다 이 줄이 실행되어, 각 배치의 손실 값을 train_loss 리스트에 순차적으로 추가\n",
        "\n",
        "#             _, preds = torch.max(outputs, 1)\n",
        "\n",
        "\n",
        "#             # total_predictions += labels.size(0)\n",
        "#             # correct_predictions += (predicted == labels).sum().item()\n",
        "\n",
        "#             for i in range(len(labels)):\n",
        "#                 label = labels[i].item()\n",
        "#                 class_correct[label] += (preds[i] == labels[i]).item()\n",
        "#                 class_total[label] += 1\n",
        "\n",
        "#         avg_loss = running_loss / len(train_loader)\n",
        "#         # accuracy = 100 * correct_predictions / total_predictions\n",
        "\n",
        "#         loss_history.append(avg_loss)\n",
        "#         # accuracy_history.append(accuracy)\n",
        "\n",
        "#         _val_loss, _val_accuracy = validation(model, criterion, val_loader, device)\n",
        "#         val_loss_history.append(_val_loss)\n",
        "#         val_accuracy_history.append(_val_accuracy)\n",
        "#         # _train_loss = np.mean(train_loss) # 각 배치에서 계산된 모든 손실 값의 평균을 구함\n",
        "\n",
        "\n",
        "#         print(f\"Epoch [{epoch + 1}/{epochs}], Loss: {avg_loss:.4f}\")\n",
        "\n",
        "#         # print(f\"Epoch [{epoch + 1}/{epochs}], Loss: {avg_loss:.4f}, Accuracy: {accuracy:.4f}\")\n",
        "#         # print(f\"Epoch [{epoch + 1}/{epochs}], Val Loss : {_val_loss:.5f} Val Accuracy : {_val_accuracy:.2f}\")\n",
        "\n",
        "\n",
        "#         # 각 클래스별 정확도 및 손실 출력\n",
        "#         for i in range(3):\n",
        "#             if class_total[i] > 0:\n",
        "#                 class_acc = 100 * class_correct[i] / class_total[i]\n",
        "#                 class_accuracies[i].append(class_acc)\n",
        "#                 print(f'Epoch [{epoch + 1}/{epochs}], Class {i} ({\"benign\" if i == 0 else \"malignant\" if i == 1 else \"normal\"}), '\n",
        "#                     f'Accuracy: {class_acc:.4f}')\n",
        "#             else:\n",
        "#                 class_accuracies[i].append(0)\n",
        "#                 print(f'Epoch [{epoch + 1}/{epochs}], Class {i} ({\"benign\" if i == 0 else \"malignant\" if i == 1 else \"normal\"}), '\n",
        "#                     f'Accuracy: 0.0000')\n",
        "\n",
        "\n",
        "#         # 스케줄러 업데이트\n",
        "#         scheduler.step(_val_loss)\n",
        "\n",
        "#         # EarlyStopping을 호출하여 모델을 평가하고 저장합니다.\n",
        "#         early_stopping(_val_loss, model)\n",
        "\n",
        "\n",
        "#         if early_stopping.early_stop:\n",
        "#             print(\"Early stopping\")\n",
        "#             break\n",
        "\n",
        "#     # 가장 좋은 모델을 로드합니다.\n",
        "#     model.load_state_dict(torch.load('checkpoint.pt'))\n",
        "\n",
        "\n",
        "\n",
        "#     print(\"Finished Training\")\n",
        "\n",
        "#     plt.figure(figsize=(10, 5))\n",
        "#     plt.plot(range(1, epochs+1), loss_history, label='Avg Loss per Epoch')\n",
        "#     plt.plot(range(1, epochs+1), val_loss_history, label='Val_Avg Loss per Epoch')\n",
        "#     plt.title('Training Loss')\n",
        "#     plt.xlabel('Epoch')\n",
        "#     plt.ylabel('Average Loss')\n",
        "#     plt.legend()\n",
        "#     plt.show()\n",
        "\n",
        "#     plt.figure(figsize=(10, 5))\n",
        "#     plt.plot(range(1, epochs+1), accuracy_history, label='Accuracy per Epoch')\n",
        "#     plt.plot(range(1, epochs+1), val_accuracy_history, label='val_Accuracy per Epoch')\n",
        "#     plt.title('Training Accuracy')\n",
        "#     plt.xlabel('Epoch')\n",
        "#     plt.ylabel('Accuracy (%)')\n",
        "#     plt.legend()\n",
        "#     plt.show()\n",
        "\n",
        "#     torch.save(model.state_dict(), f\"./model_weight_{args.data_type}.pth\")\n",
        "#     return model\n",
        "\n",
        "\n",
        "# def validation(model, criterion, val_loader, device):\n",
        "#     model.eval() # 평가모드\n",
        "#     val_loss = []\n",
        "#     preds, true_labels = [], []\n",
        "#     correct_predictions = 0\n",
        "#     total_predictions = 0\n",
        "\n",
        "#     # 평가모드의 경우에는 gradient를 초기화하는 부분이 없음 (backward 필요없음. 오직 평가만!)\n",
        "#     with torch.no_grad(): # 이 블록 내에서 그레디언트 계산을 중단하여, 필요하지 않은 메모리 사용을 줄이고 계산 속도 향상.\n",
        "#         for imgs, labels in iter(val_loader):\n",
        "#             imgs = imgs.float().to(device)\n",
        "#             labels = labels.long().to(device)  # 데이터 타입 long으로 변경한 후 device로 올림 (int로 변경하였을 때, error 발생했음)\n",
        "\n",
        "#             pred = model(imgs)\n",
        "\n",
        "#             loss = criterion(pred, labels)\n",
        "\n",
        "#             # pred는 모델이 반환한 예측값. 각 클래스에 대한 확률 또는 점수를 포함하는 텐서. argmax(1)은 각 샘플에 대해 가장 높은 점수를 가진 클래스의 인덱스를 찾아줌.\n",
        "#             # detach()는 현재 계산 그래프로부터 이 텐서를 분리하여, 이후 연산이 그래프에 기록되지 않도록함. 메모리 사용량 줄임\n",
        "#             # cpu()는 cpu로 옮김 (GPU에 있었다면)\n",
        "#             # numpy()는 텐서를 numpy 배열로 변환\n",
        "#             # tolist()는 numpy 배열을 파이썬 리스트로 변환\n",
        "#             preds += pred.argmax(1).detach().cpu().numpy().tolist()\n",
        "\n",
        "#             _, predicted = torch.max(pred, 1)\n",
        "#             total_predictions += labels.size(0)\n",
        "#             correct_predictions += (predicted == labels).sum().item()\n",
        "\n",
        "#             # 실제 라벨도 위와 동일한 과정 진행\n",
        "#             true_labels += labels.detach().cpu().numpy().tolist()\n",
        "\n",
        "#             val_loss.append(loss.item())\n",
        "\n",
        "#         _val_accuracy = 100 * correct_predictions / total_predictions\n",
        "\n",
        "#         _val_loss = np.mean(val_loss)\n",
        "#         # average = 'macro'는 F1점수를 계산할 때, 각 클래스에 대한 F1점수를 동일한 가중치로 평균내어 전체 클래스에 대한 평균 F1점수를 계산.\n",
        "#         # 각 클래스의 샘플 크기와 관계없이 모든 클래스를 동등하게 취급. 이는 클래스 불균형이 있을 때 유용하며, 모든 클래스를 공평하게 평가하고자 할 때 사용.\n",
        "#         # _val_score = f1_score(true_labels, preds, average='macro')\n",
        "\n",
        "#     return _val_loss, _val_accuracy"
      ]
    },
    {
      "cell_type": "code",
      "source": [
        "# import matplotlib.pyplot as plt\n",
        "# import torch\n",
        "# import torch.nn as nn\n",
        "# from torch.optim.lr_scheduler import StepLR\n",
        "# import numpy as np\n",
        "# from tqdm import tqdm\n",
        "\n",
        "# # 각 클래스별 손실과 정확도 기록을 위한 리스트 초기화\n",
        "# class_losses = {0: [], 1: [], 2: []}\n",
        "# class_accuracies = {0: [], 1: [], 2: []}\n",
        "\n",
        "# def train_model(model, train_loader, val_loader, epochs, device, args):\n",
        "#     # weights = [1 - (x / sum(numSample_list)) for x in numSample_list]\n",
        "#     # weights = torch.FloatTensor(weights).to(device)\n",
        "#     # criterion = nn.CrossEntropyLoss(weights)\n",
        "#     criterion = nn.CrossEntropyLoss()\n",
        "\n",
        "#     model.to(device)\n",
        "\n",
        "#     optimizer = torch.optim.Adam(model.parameters(), lr=0.001)\n",
        "#     scheduler = StepLR(optimizer, step_size=5, gamma=0.1)\n",
        "#     early_stopping = EarlyStopping(patience=5, verbose=True)\n",
        "\n",
        "#     loss_history = []\n",
        "#     val_loss_history = []\n",
        "#     val_accuracy_history = []\n",
        "#     stopped_epoch = epochs\n",
        "\n",
        "#     for epoch in range(epochs):\n",
        "#         model.train()\n",
        "#         running_loss = 0.0\n",
        "\n",
        "#         class_correct = [0] * 3\n",
        "#         class_total = [0] * 3\n",
        "\n",
        "#         for i, (images, labels) in enumerate(tqdm(train_loader)):\n",
        "#             images, labels = images.to(device), labels.to(device)\n",
        "#             optimizer.zero_grad()\n",
        "\n",
        "#             outputs = model(images)\n",
        "#             loss = criterion(outputs, labels)\n",
        "#             loss.backward()\n",
        "#             optimizer.step()\n",
        "\n",
        "#             running_loss += loss.item()\n",
        "\n",
        "#             _, preds = torch.max(outputs, 1)\n",
        "\n",
        "#             for i in range(len(labels)):\n",
        "#                 label = labels[i].item()\n",
        "#                 class_correct[label] += (preds[i] == labels[i]).item()\n",
        "#                 class_total[label] += 1\n",
        "\n",
        "#         avg_loss = running_loss / len(train_loader)\n",
        "#         loss_history.append(avg_loss)\n",
        "\n",
        "#         _val_loss, _val_accuracy = validation(model, criterion, val_loader, device)\n",
        "#         val_loss_history.append(_val_loss)\n",
        "#         val_accuracy_history.append(_val_accuracy)\n",
        "\n",
        "#         print(f\"Epoch [{epoch + 1}/{epochs}], Loss: {avg_loss:.4f}\")\n",
        "\n",
        "#         # 각 클래스별 정확도 및 손실 출력\n",
        "#         for i in range(3):\n",
        "#             if class_total[i] > 0:\n",
        "#                 class_acc = 100 * class_correct[i] / class_total[i]\n",
        "#                 class_accuracies[i].append(class_acc)\n",
        "#                 print(f'Epoch [{epoch + 1}/{epochs}], Class {i} ({\"benign\" if i == 0 else \"malignant\" if i == 1 else \"normal\"}), '\n",
        "#                       f'Accuracy: {class_acc:.4f}')\n",
        "#             else:\n",
        "#                 class_accuracies[i].append(0)\n",
        "#                 print(f'Epoch [{epoch + 1}/{epochs}], Class {i} ({\"benign\" if i == 0 else \"malignant\" if i == 1 else \"normal\"}), '\n",
        "#                       f'Accuracy: 0.0000')\n",
        "\n",
        "#         scheduler.step(_val_loss)\n",
        "\n",
        "#         early_stopping(_val_loss, model)\n",
        "\n",
        "#         if early_stopping.early_stop:\n",
        "#             print(\"Early stopping\")\n",
        "#             stopped_epoch = epoch + 1\n",
        "#             break\n",
        "\n",
        "#     model.load_state_dict(torch.load('checkpoint.pt'))\n",
        "\n",
        "#     print(\"Finished Training\")\n",
        "\n",
        "#     # Stopped_epoch를 사용하여 그래프를 그립니다.\n",
        "#     epochs_range = range(1, stopped_epoch + 1)\n",
        "\n",
        "#     plt.figure(figsize=(10, 5))\n",
        "#     plt.plot(epochs_range, loss_history[:stopped_epoch], label='Avg Loss per Epoch')\n",
        "#     plt.plot(epochs_range, val_loss_history[:stopped_epoch], label='Val_Avg Loss per Epoch')\n",
        "#     plt.title('Training Loss')\n",
        "#     plt.xlabel('Epoch')\n",
        "#     plt.ylabel('Average Loss')\n",
        "#     plt.legend()\n",
        "#     plt.show()\n",
        "\n",
        "#     plt.figure(figsize=(10, 5))\n",
        "#     for i, (label, color) in enumerate(zip(['benign', 'malignant', 'normal'], ['blue', 'red', 'green'])):\n",
        "#         plt.plot(epochs_range, class_accuracies[i][:stopped_epoch], label=f'{label} Accuracy', color=color, marker='o')\n",
        "#     plt.title('Training Accuracy for Each Class')\n",
        "#     plt.xlabel('Epoch')\n",
        "#     plt.ylabel('Accuracy (%)')\n",
        "#     plt.legend()\n",
        "#     plt.show()\n",
        "\n",
        "#     torch.save(model.state_dict(), f\"./model_weight_{args.data_type}.pth\")\n",
        "#     return model\n",
        "\n",
        "# def validation(model, criterion, val_loader, device):\n",
        "#     model.eval()\n",
        "#     val_loss = []\n",
        "#     correct_predictions = 0\n",
        "#     total_predictions = 0\n",
        "\n",
        "#     with torch.no_grad():\n",
        "#         for imgs, labels in iter(val_loader):\n",
        "#             imgs = imgs.float().to(device)\n",
        "#             labels = labels.long().to(device)\n",
        "\n",
        "#             pred = model(imgs)\n",
        "#             loss = criterion(pred, labels)\n",
        "\n",
        "#             _, predicted = torch.max(pred, 1)\n",
        "#             total_predictions += labels.size(0)\n",
        "#             correct_predictions += (predicted == labels).sum().item()\n",
        "\n",
        "#             val_loss.append(loss.item())\n",
        "\n",
        "#         _val_accuracy = 100 * correct_predictions / total_predictions\n",
        "#         _val_loss = np.mean(val_loss)\n",
        "\n",
        "#     return _val_loss, _val_accuracy\n"
      ],
      "metadata": {
        "id": "CXigfXqW_Z3m"
      },
      "execution_count": null,
      "outputs": []
    },
    {
      "cell_type": "code",
      "source": [
        "pip install adabelief-pytorch"
      ],
      "metadata": {
        "colab": {
          "base_uri": "https://localhost:8080/"
        },
        "id": "tGiu0ebAw5X1",
        "outputId": "df4ee310-6106-4ef0-bf1f-287573826482"
      },
      "execution_count": 14,
      "outputs": [
        {
          "output_type": "stream",
          "name": "stdout",
          "text": [
            "Collecting adabelief-pytorch\n",
            "  Downloading adabelief_pytorch-0.2.1-py3-none-any.whl (5.8 kB)\n",
            "Requirement already satisfied: torch>=0.4.0 in /usr/local/lib/python3.10/dist-packages (from adabelief-pytorch) (2.3.0+cu121)\n",
            "Collecting colorama>=0.4.0 (from adabelief-pytorch)\n",
            "  Downloading colorama-0.4.6-py2.py3-none-any.whl (25 kB)\n",
            "Requirement already satisfied: tabulate>=0.7 in /usr/local/lib/python3.10/dist-packages (from adabelief-pytorch) (0.9.0)\n",
            "Requirement already satisfied: filelock in /usr/local/lib/python3.10/dist-packages (from torch>=0.4.0->adabelief-pytorch) (3.14.0)\n",
            "Requirement already satisfied: typing-extensions>=4.8.0 in /usr/local/lib/python3.10/dist-packages (from torch>=0.4.0->adabelief-pytorch) (4.12.1)\n",
            "Requirement already satisfied: sympy in /usr/local/lib/python3.10/dist-packages (from torch>=0.4.0->adabelief-pytorch) (1.12.1)\n",
            "Requirement already satisfied: networkx in /usr/local/lib/python3.10/dist-packages (from torch>=0.4.0->adabelief-pytorch) (3.3)\n",
            "Requirement already satisfied: jinja2 in /usr/local/lib/python3.10/dist-packages (from torch>=0.4.0->adabelief-pytorch) (3.1.4)\n",
            "Requirement already satisfied: fsspec in /usr/local/lib/python3.10/dist-packages (from torch>=0.4.0->adabelief-pytorch) (2023.6.0)\n",
            "Collecting nvidia-cuda-nvrtc-cu12==12.1.105 (from torch>=0.4.0->adabelief-pytorch)\n",
            "  Using cached nvidia_cuda_nvrtc_cu12-12.1.105-py3-none-manylinux1_x86_64.whl (23.7 MB)\n",
            "Collecting nvidia-cuda-runtime-cu12==12.1.105 (from torch>=0.4.0->adabelief-pytorch)\n",
            "  Using cached nvidia_cuda_runtime_cu12-12.1.105-py3-none-manylinux1_x86_64.whl (823 kB)\n",
            "Collecting nvidia-cuda-cupti-cu12==12.1.105 (from torch>=0.4.0->adabelief-pytorch)\n",
            "  Using cached nvidia_cuda_cupti_cu12-12.1.105-py3-none-manylinux1_x86_64.whl (14.1 MB)\n",
            "Collecting nvidia-cudnn-cu12==8.9.2.26 (from torch>=0.4.0->adabelief-pytorch)\n",
            "  Using cached nvidia_cudnn_cu12-8.9.2.26-py3-none-manylinux1_x86_64.whl (731.7 MB)\n",
            "Collecting nvidia-cublas-cu12==12.1.3.1 (from torch>=0.4.0->adabelief-pytorch)\n",
            "  Using cached nvidia_cublas_cu12-12.1.3.1-py3-none-manylinux1_x86_64.whl (410.6 MB)\n",
            "Collecting nvidia-cufft-cu12==11.0.2.54 (from torch>=0.4.0->adabelief-pytorch)\n",
            "  Using cached nvidia_cufft_cu12-11.0.2.54-py3-none-manylinux1_x86_64.whl (121.6 MB)\n",
            "Collecting nvidia-curand-cu12==10.3.2.106 (from torch>=0.4.0->adabelief-pytorch)\n",
            "  Using cached nvidia_curand_cu12-10.3.2.106-py3-none-manylinux1_x86_64.whl (56.5 MB)\n",
            "Collecting nvidia-cusolver-cu12==11.4.5.107 (from torch>=0.4.0->adabelief-pytorch)\n",
            "  Using cached nvidia_cusolver_cu12-11.4.5.107-py3-none-manylinux1_x86_64.whl (124.2 MB)\n",
            "Collecting nvidia-cusparse-cu12==12.1.0.106 (from torch>=0.4.0->adabelief-pytorch)\n",
            "  Using cached nvidia_cusparse_cu12-12.1.0.106-py3-none-manylinux1_x86_64.whl (196.0 MB)\n",
            "Collecting nvidia-nccl-cu12==2.20.5 (from torch>=0.4.0->adabelief-pytorch)\n",
            "  Using cached nvidia_nccl_cu12-2.20.5-py3-none-manylinux2014_x86_64.whl (176.2 MB)\n",
            "Collecting nvidia-nvtx-cu12==12.1.105 (from torch>=0.4.0->adabelief-pytorch)\n",
            "  Using cached nvidia_nvtx_cu12-12.1.105-py3-none-manylinux1_x86_64.whl (99 kB)\n",
            "Requirement already satisfied: triton==2.3.0 in /usr/local/lib/python3.10/dist-packages (from torch>=0.4.0->adabelief-pytorch) (2.3.0)\n",
            "Collecting nvidia-nvjitlink-cu12 (from nvidia-cusolver-cu12==11.4.5.107->torch>=0.4.0->adabelief-pytorch)\n",
            "  Downloading nvidia_nvjitlink_cu12-12.5.40-py3-none-manylinux2014_x86_64.whl (21.3 MB)\n",
            "\u001b[2K     \u001b[90m━━━━━━━━━━━━━━━━━━━━━━━━━━━━━━━━━━━━━━━━\u001b[0m \u001b[32m21.3/21.3 MB\u001b[0m \u001b[31m53.9 MB/s\u001b[0m eta \u001b[36m0:00:00\u001b[0m\n",
            "\u001b[?25hRequirement already satisfied: MarkupSafe>=2.0 in /usr/local/lib/python3.10/dist-packages (from jinja2->torch>=0.4.0->adabelief-pytorch) (2.1.5)\n",
            "Requirement already satisfied: mpmath<1.4.0,>=1.1.0 in /usr/local/lib/python3.10/dist-packages (from sympy->torch>=0.4.0->adabelief-pytorch) (1.3.0)\n",
            "Installing collected packages: nvidia-nvtx-cu12, nvidia-nvjitlink-cu12, nvidia-nccl-cu12, nvidia-curand-cu12, nvidia-cufft-cu12, nvidia-cuda-runtime-cu12, nvidia-cuda-nvrtc-cu12, nvidia-cuda-cupti-cu12, nvidia-cublas-cu12, colorama, nvidia-cusparse-cu12, nvidia-cudnn-cu12, nvidia-cusolver-cu12, adabelief-pytorch\n",
            "Successfully installed adabelief-pytorch-0.2.1 colorama-0.4.6 nvidia-cublas-cu12-12.1.3.1 nvidia-cuda-cupti-cu12-12.1.105 nvidia-cuda-nvrtc-cu12-12.1.105 nvidia-cuda-runtime-cu12-12.1.105 nvidia-cudnn-cu12-8.9.2.26 nvidia-cufft-cu12-11.0.2.54 nvidia-curand-cu12-10.3.2.106 nvidia-cusolver-cu12-11.4.5.107 nvidia-cusparse-cu12-12.1.0.106 nvidia-nccl-cu12-2.20.5 nvidia-nvjitlink-cu12-12.5.40 nvidia-nvtx-cu12-12.1.105\n"
          ]
        }
      ]
    },
    {
      "cell_type": "code",
      "source": [
        "import matplotlib.pyplot as plt\n",
        "import torch\n",
        "import torch.nn as nn\n",
        "from torch.optim.lr_scheduler import StepLR\n",
        "import numpy as np\n",
        "from tqdm import tqdm\n",
        "from adabelief_pytorch import AdaBelief\n",
        "\n",
        "\n",
        "# 각 클래스별 손실과 정확도 기록을 위한 리스트 초기화\n",
        "class_losses = {0: [], 1: [], 2: []}\n",
        "class_accuracies = {0: [], 1: [], 2: []}\n",
        "\n",
        "def train_model(model, train_loader, val_loader, epochs, device, numSample_list, args):\n",
        "    weights = [1 - (x / sum(numSample_list)) for x in numSample_list]\n",
        "    weights = torch.FloatTensor(weights).to(device)\n",
        "    criterion = nn.CrossEntropyLoss(weights)\n",
        "    # criterion = nn.CrossEntropyLoss()\n",
        "\n",
        "    model.to(device)\n",
        "\n",
        "    # optimizer = torch.optim.Adam(model.parameters(), lr=0.001)\n",
        "    optimizer = AdaBelief(model.parameters(), lr=0.001, eps=1e-8, betas=(0.9, 0.999))\n",
        "\n",
        "\n",
        "    scheduler = StepLR(optimizer, step_size=5, gamma=0.1)\n",
        "\n",
        "    loss_history = []\n",
        "    val_loss_history = []\n",
        "    val_accuracy_history = []\n",
        "    stopped_epoch = epochs\n",
        "\n",
        "    best_accuracy = 0.0\n",
        "\n",
        "    for epoch in range(epochs):\n",
        "        model.train()\n",
        "        running_loss = 0.0\n",
        "\n",
        "        class_correct = [0] * 3\n",
        "        class_total = [0] * 3\n",
        "\n",
        "        for i, (images, labels) in enumerate(tqdm(train_loader)):\n",
        "            images, labels = images.to(device), labels.to(device)\n",
        "            optimizer.zero_grad()\n",
        "\n",
        "            outputs = model(images)\n",
        "            loss = criterion(outputs, labels)\n",
        "            loss.backward()\n",
        "            optimizer.step()\n",
        "\n",
        "            running_loss += loss.item()\n",
        "\n",
        "            _, preds = torch.max(outputs, 1)\n",
        "\n",
        "            for i in range(len(labels)):\n",
        "                label = labels[i].item()\n",
        "                class_correct[label] += (preds[i] == labels[i]).item()\n",
        "                class_total[label] += 1\n",
        "\n",
        "        avg_loss = running_loss / len(train_loader)\n",
        "        loss_history.append(avg_loss)\n",
        "\n",
        "        _val_loss, _val_accuracy = validation(model, criterion, val_loader, device)\n",
        "        val_loss_history.append(_val_loss)\n",
        "        val_accuracy_history.append(_val_accuracy)\n",
        "\n",
        "        print(f\"Epoch [{epoch + 1}/{epochs}], Loss: {avg_loss:.4f}\")\n",
        "\n",
        "        # 각 클래스별 정확도 및 손실 출력\n",
        "        for i in range(3):\n",
        "            if class_total[i] > 0:\n",
        "                class_acc = 100 * class_correct[i] / class_total[i]\n",
        "                class_accuracies[i].append(class_acc)\n",
        "                print(f'Epoch [{epoch + 1}/{epochs}], Class {i} ({\"benign\" if i == 0 else \"malignant\" if i == 1 else \"normal\"}), '\n",
        "                      f'Accuracy: {class_acc:.4f}')\n",
        "            else:\n",
        "                class_accuracies[i].append(0)\n",
        "                print(f'Epoch [{epoch + 1}/{epochs}], Class {i} ({\"benign\" if i == 0 else \"malignant\" if i == 1 else \"normal\"}), '\n",
        "                      f'Accuracy: 0.0000')\n",
        "\n",
        "        scheduler.step(_val_loss)\n",
        "\n",
        "        # Best accuracy에 따라 모델 저장\n",
        "        if _val_accuracy > best_accuracy:\n",
        "            best_accuracy = _val_accuracy\n",
        "            torch.save(model.state_dict(), 'best_model.pth')\n",
        "            print(f\"New best model saved with accuracy: {_val_accuracy:.4f}\")\n",
        "\n",
        "    # Load the best model\n",
        "    model.load_state_dict(torch.load('best_model.pth'))\n",
        "\n",
        "    print(\"Finished Training\")\n",
        "\n",
        "    # Stopped_epoch를 사용하여 그래프를 그립니다.\n",
        "    epochs_range = range(1, epochs + 1)\n",
        "\n",
        "    plt.figure(figsize=(10, 5))\n",
        "    plt.plot(epochs_range, loss_history, label='Avg Loss per Epoch')\n",
        "    plt.plot(epochs_range, val_loss_history, label='Val_Avg Loss per Epoch')\n",
        "    plt.title('Training Loss')\n",
        "    plt.xlabel('Epoch')\n",
        "    plt.ylabel('Average Loss')\n",
        "    plt.legend()\n",
        "    plt.show()\n",
        "\n",
        "    plt.figure(figsize=(10, 5))\n",
        "    for i, (label, color) in enumerate(zip(['benign', 'malignant', 'normal'], ['blue', 'red', 'green'])):\n",
        "        plt.plot(epochs_range, class_accuracies[i], label=f'{label} Accuracy', color=color, marker='o')\n",
        "    plt.title('Training Accuracy for Each Class')\n",
        "    plt.xlabel('Epoch')\n",
        "    plt.ylabel('Accuracy (%)')\n",
        "    plt.legend()\n",
        "    plt.show()\n",
        "\n",
        "    torch.save(model.state_dict(), f\"./model_weight_{args.data_type}.pth\")\n",
        "    return model\n",
        "\n",
        "def validation(model, criterion, val_loader, device):\n",
        "    model.eval()\n",
        "    val_loss = []\n",
        "    correct_predictions = 0\n",
        "    total_predictions = 0\n",
        "\n",
        "    with torch.no_grad():\n",
        "        for imgs, labels in iter(val_loader):\n",
        "            imgs = imgs.float().to(device)\n",
        "            labels = labels.long().to(device)\n",
        "\n",
        "            pred = model(imgs)\n",
        "            loss = criterion(pred, labels)\n",
        "\n",
        "            _, predicted = torch.max(pred, 1)\n",
        "            total_predictions += labels.size(0)\n",
        "            correct_predictions += (predicted == labels).sum().item()\n",
        "\n",
        "            val_loss.append(loss.item())\n",
        "\n",
        "        _val_accuracy = 100 * correct_predictions / total_predictions\n",
        "        _val_loss = np.mean(val_loss)\n",
        "\n",
        "    return _val_loss, _val_accuracy\n"
      ],
      "metadata": {
        "id": "tfIageHiFZNZ"
      },
      "execution_count": 19,
      "outputs": []
    },
    {
      "cell_type": "code",
      "source": [
        "# 샘플 이미지 출력 함수\n",
        "def show_sample_images(loader):\n",
        "    dataiter = iter(loader)\n",
        "    images, _ = next(dataiter)\n",
        "    img_grid = utils.make_grid(images)\n",
        "    img_grid = img_grid / 2 + 0.5  # 정규화된 이미지를 원래대로 되돌리기 위해\n",
        "    np_img = img_grid.numpy()\n",
        "    plt.imshow(np.transpose(np_img, (1, 2, 0)))\n",
        "    plt.title('Sample Images')\n",
        "    plt.show()\n"
      ],
      "metadata": {
        "id": "Y42uHbKoTDvZ"
      },
      "execution_count": 17,
      "outputs": []
    },
    {
      "cell_type": "code",
      "execution_count": 20,
      "metadata": {
        "colab": {
          "base_uri": "https://localhost:8080/",
          "height": 1000
        },
        "id": "ogL3WB1nI68Z",
        "outputId": "69f91d42-2e04-4fc8-9890-d37619807c5f"
      },
      "outputs": [
        {
          "output_type": "stream",
          "name": "stdout",
          "text": [
            "Start Code\n",
            "My model\n"
          ]
        },
        {
          "output_type": "display_data",
          "data": {
            "text/plain": [
              "<Figure size 640x480 with 1 Axes>"
            ],
            "image/png": "[encoded data removed]"
          },
          "metadata": {}
        },
        {
          "output_type": "stream",
          "name": "stdout",
          "text": [
            "\u001b[31mPlease check your arguments if you have upgraded adabelief-pytorch from version 0.0.5.\n",
            "\u001b[31mModifications to default arguments:\n",
            "\u001b[31m                           eps  weight_decouple    rectify\n",
            "-----------------------  -----  -----------------  ---------\n",
            "adabelief-pytorch=0.0.5  1e-08  False              False\n",
            ">=0.1.0 (Current 0.2.0)  1e-16  True               True\n",
            "\u001b[34mSGD better than Adam (e.g. CNN for Image Classification)    Adam better than SGD (e.g. Transformer, GAN)\n",
            "----------------------------------------------------------  ----------------------------------------------\n",
            "Recommended eps = 1e-8                                      Recommended eps = 1e-16\n",
            "\u001b[34mFor a complete table of recommended hyperparameters, see\n",
            "\u001b[34mhttps://github.com/juntang-zhuang/Adabelief-Optimizer\n",
            "\u001b[32mYou can disable the log message by setting \"print_change_log = False\", though it is recommended to keep as a reminder.\n",
            "\u001b[0m\n",
            "Weight decoupling enabled in AdaBelief\n",
            "Rectification enabled in AdaBelief\n"
          ]
        },
        {
          "output_type": "stream",
          "name": "stderr",
          "text": [
            "100%|██████████| 8/8 [00:16<00:00,  2.12s/it]\n"
          ]
        },
        {
          "output_type": "stream",
          "name": "stdout",
          "text": [
            "Epoch [1/50], Loss: 1.0912\n",
            "Epoch [1/50], Class 0 (benign), Accuracy: 72.6619\n",
            "Epoch [1/50], Class 1 (malignant), Accuracy: 18.0451\n",
            "Epoch [1/50], Class 2 (normal), Accuracy: 10.8434\n",
            "New best model saved with accuracy: 57.4803\n"
          ]
        },
        {
          "output_type": "stream",
          "name": "stderr",
          "text": [
            "100%|██████████| 8/8 [00:16<00:00,  2.11s/it]\n"
          ]
        },
        {
          "output_type": "stream",
          "name": "stdout",
          "text": [
            "Epoch [2/50], Loss: 1.0693\n",
            "Epoch [2/50], Class 0 (benign), Accuracy: 67.2662\n",
            "Epoch [2/50], Class 1 (malignant), Accuracy: 32.3308\n",
            "Epoch [2/50], Class 2 (normal), Accuracy: 9.6386\n",
            "New best model saved with accuracy: 59.0551\n"
          ]
        },
        {
          "output_type": "stream",
          "name": "stderr",
          "text": [
            "100%|██████████| 8/8 [00:16<00:00,  2.11s/it]\n"
          ]
        },
        {
          "output_type": "stream",
          "name": "stdout",
          "text": [
            "Epoch [3/50], Loss: 0.9982\n",
            "Epoch [3/50], Class 0 (benign), Accuracy: 77.3381\n",
            "Epoch [3/50], Class 1 (malignant), Accuracy: 40.6015\n",
            "Epoch [3/50], Class 2 (normal), Accuracy: 15.6627\n",
            "New best model saved with accuracy: 66.1417\n"
          ]
        },
        {
          "output_type": "stream",
          "name": "stderr",
          "text": [
            "100%|██████████| 8/8 [00:16<00:00,  2.03s/it]\n"
          ]
        },
        {
          "output_type": "stream",
          "name": "stdout",
          "text": [
            "Epoch [4/50], Loss: 0.8750\n",
            "Epoch [4/50], Class 0 (benign), Accuracy: 75.8993\n",
            "Epoch [4/50], Class 1 (malignant), Accuracy: 53.3835\n",
            "Epoch [4/50], Class 2 (normal), Accuracy: 34.9398\n"
          ]
        },
        {
          "output_type": "stream",
          "name": "stderr",
          "text": [
            "100%|██████████| 8/8 [00:16<00:00,  2.10s/it]\n"
          ]
        },
        {
          "output_type": "stream",
          "name": "stdout",
          "text": [
            "Epoch [5/50], Loss: 0.7715\n",
            "Epoch [5/50], Class 0 (benign), Accuracy: 75.5396\n",
            "Epoch [5/50], Class 1 (malignant), Accuracy: 69.9248\n",
            "Epoch [5/50], Class 2 (normal), Accuracy: 36.1446\n"
          ]
        },
        {
          "output_type": "stream",
          "name": "stderr",
          "text": [
            "100%|██████████| 8/8 [00:16<00:00,  2.05s/it]\n"
          ]
        },
        {
          "output_type": "stream",
          "name": "stdout",
          "text": [
            "Epoch [6/50], Loss: 0.7356\n",
            "Epoch [6/50], Class 0 (benign), Accuracy: 75.8993\n",
            "Epoch [6/50], Class 1 (malignant), Accuracy: 64.6617\n",
            "Epoch [6/50], Class 2 (normal), Accuracy: 66.2651\n"
          ]
        },
        {
          "output_type": "stream",
          "name": "stderr",
          "text": [
            "100%|██████████| 8/8 [00:16<00:00,  2.10s/it]\n"
          ]
        },
        {
          "output_type": "stream",
          "name": "stdout",
          "text": [
            "Epoch [7/50], Loss: 0.6227\n",
            "Epoch [7/50], Class 0 (benign), Accuracy: 75.5396\n",
            "Epoch [7/50], Class 1 (malignant), Accuracy: 69.9248\n",
            "Epoch [7/50], Class 2 (normal), Accuracy: 67.4699\n",
            "New best model saved with accuracy: 69.2913\n"
          ]
        },
        {
          "output_type": "stream",
          "name": "stderr",
          "text": [
            "100%|██████████| 8/8 [00:16<00:00,  2.10s/it]\n"
          ]
        },
        {
          "output_type": "stream",
          "name": "stdout",
          "text": [
            "Epoch [8/50], Loss: 0.5360\n",
            "Epoch [8/50], Class 0 (benign), Accuracy: 84.1727\n",
            "Epoch [8/50], Class 1 (malignant), Accuracy: 73.6842\n",
            "Epoch [8/50], Class 2 (normal), Accuracy: 84.3373\n",
            "New best model saved with accuracy: 70.0787\n"
          ]
        },
        {
          "output_type": "stream",
          "name": "stderr",
          "text": [
            "100%|██████████| 8/8 [00:17<00:00,  2.16s/it]\n"
          ]
        },
        {
          "output_type": "stream",
          "name": "stdout",
          "text": [
            "Epoch [9/50], Loss: 0.5024\n",
            "Epoch [9/50], Class 0 (benign), Accuracy: 83.4532\n",
            "Epoch [9/50], Class 1 (malignant), Accuracy: 75.1880\n",
            "Epoch [9/50], Class 2 (normal), Accuracy: 79.5181\n"
          ]
        },
        {
          "output_type": "stream",
          "name": "stderr",
          "text": [
            "100%|██████████| 8/8 [00:16<00:00,  2.08s/it]\n"
          ]
        },
        {
          "output_type": "stream",
          "name": "stdout",
          "text": [
            "Epoch [10/50], Loss: 0.4424\n",
            "Epoch [10/50], Class 0 (benign), Accuracy: 88.8489\n",
            "Epoch [10/50], Class 1 (malignant), Accuracy: 75.9398\n",
            "Epoch [10/50], Class 2 (normal), Accuracy: 83.1325\n"
          ]
        },
        {
          "output_type": "stream",
          "name": "stderr",
          "text": [
            "100%|██████████| 8/8 [00:17<00:00,  2.14s/it]\n"
          ]
        },
        {
          "output_type": "stream",
          "name": "stdout",
          "text": [
            "Epoch [11/50], Loss: 0.4483\n",
            "Epoch [11/50], Class 0 (benign), Accuracy: 87.0504\n",
            "Epoch [11/50], Class 1 (malignant), Accuracy: 82.7068\n",
            "Epoch [11/50], Class 2 (normal), Accuracy: 89.1566\n"
          ]
        },
        {
          "output_type": "stream",
          "name": "stderr",
          "text": [
            "100%|██████████| 8/8 [00:16<00:00,  2.06s/it]\n"
          ]
        },
        {
          "output_type": "stream",
          "name": "stdout",
          "text": [
            "Epoch [12/50], Loss: 0.4534\n",
            "Epoch [12/50], Class 0 (benign), Accuracy: 78.4173\n",
            "Epoch [12/50], Class 1 (malignant), Accuracy: 84.9624\n",
            "Epoch [12/50], Class 2 (normal), Accuracy: 83.1325\n"
          ]
        },
        {
          "output_type": "stream",
          "name": "stderr",
          "text": [
            "100%|██████████| 8/8 [00:16<00:00,  2.04s/it]\n"
          ]
        },
        {
          "output_type": "stream",
          "name": "stdout",
          "text": [
            "Epoch [13/50], Loss: 0.4043\n",
            "Epoch [13/50], Class 0 (benign), Accuracy: 83.8129\n",
            "Epoch [13/50], Class 1 (malignant), Accuracy: 86.4662\n",
            "Epoch [13/50], Class 2 (normal), Accuracy: 93.9759\n"
          ]
        },
        {
          "output_type": "stream",
          "name": "stderr",
          "text": [
            "100%|██████████| 8/8 [00:16<00:00,  2.08s/it]\n"
          ]
        },
        {
          "output_type": "stream",
          "name": "stdout",
          "text": [
            "Epoch [14/50], Loss: 0.4062\n",
            "Epoch [14/50], Class 0 (benign), Accuracy: 89.5683\n",
            "Epoch [14/50], Class 1 (malignant), Accuracy: 77.4436\n",
            "Epoch [14/50], Class 2 (normal), Accuracy: 85.5422\n"
          ]
        },
        {
          "output_type": "stream",
          "name": "stderr",
          "text": [
            "100%|██████████| 8/8 [00:16<00:00,  2.03s/it]\n"
          ]
        },
        {
          "output_type": "stream",
          "name": "stdout",
          "text": [
            "Epoch [15/50], Loss: 0.3731\n",
            "Epoch [15/50], Class 0 (benign), Accuracy: 86.6906\n",
            "Epoch [15/50], Class 1 (malignant), Accuracy: 88.7218\n",
            "Epoch [15/50], Class 2 (normal), Accuracy: 85.5422\n",
            "New best model saved with accuracy: 70.8661\n"
          ]
        },
        {
          "output_type": "stream",
          "name": "stderr",
          "text": [
            "100%|██████████| 8/8 [00:16<00:00,  2.07s/it]\n"
          ]
        },
        {
          "output_type": "stream",
          "name": "stdout",
          "text": [
            "Epoch [16/50], Loss: 0.3676\n",
            "Epoch [16/50], Class 0 (benign), Accuracy: 89.5683\n",
            "Epoch [16/50], Class 1 (malignant), Accuracy: 78.9474\n",
            "Epoch [16/50], Class 2 (normal), Accuracy: 86.7470\n",
            "New best model saved with accuracy: 72.4409\n"
          ]
        },
        {
          "output_type": "stream",
          "name": "stderr",
          "text": [
            "100%|██████████| 8/8 [00:17<00:00,  2.15s/it]\n"
          ]
        },
        {
          "output_type": "stream",
          "name": "stdout",
          "text": [
            "Epoch [17/50], Loss: 0.2892\n",
            "Epoch [17/50], Class 0 (benign), Accuracy: 90.2878\n",
            "Epoch [17/50], Class 1 (malignant), Accuracy: 87.9699\n",
            "Epoch [17/50], Class 2 (normal), Accuracy: 89.1566\n",
            "New best model saved with accuracy: 74.8031\n"
          ]
        },
        {
          "output_type": "stream",
          "name": "stderr",
          "text": [
            "100%|██████████| 8/8 [00:16<00:00,  2.05s/it]\n"
          ]
        },
        {
          "output_type": "stream",
          "name": "stdout",
          "text": [
            "Epoch [18/50], Loss: 0.2656\n",
            "Epoch [18/50], Class 0 (benign), Accuracy: 88.8489\n",
            "Epoch [18/50], Class 1 (malignant), Accuracy: 86.4662\n",
            "Epoch [18/50], Class 2 (normal), Accuracy: 92.7711\n"
          ]
        },
        {
          "output_type": "stream",
          "name": "stderr",
          "text": [
            "100%|██████████| 8/8 [00:16<00:00,  2.06s/it]\n"
          ]
        },
        {
          "output_type": "stream",
          "name": "stdout",
          "text": [
            "Epoch [19/50], Loss: 0.2683\n",
            "Epoch [19/50], Class 0 (benign), Accuracy: 91.7266\n",
            "Epoch [19/50], Class 1 (malignant), Accuracy: 90.9774\n",
            "Epoch [19/50], Class 2 (normal), Accuracy: 85.5422\n"
          ]
        },
        {
          "output_type": "stream",
          "name": "stderr",
          "text": [
            "100%|██████████| 8/8 [00:16<00:00,  2.02s/it]\n"
          ]
        },
        {
          "output_type": "stream",
          "name": "stdout",
          "text": [
            "Epoch [20/50], Loss: 0.3797\n",
            "Epoch [20/50], Class 0 (benign), Accuracy: 89.9281\n",
            "Epoch [20/50], Class 1 (malignant), Accuracy: 81.9549\n",
            "Epoch [20/50], Class 2 (normal), Accuracy: 86.7470\n"
          ]
        },
        {
          "output_type": "stream",
          "name": "stderr",
          "text": [
            "100%|██████████| 8/8 [00:16<00:00,  2.04s/it]\n"
          ]
        },
        {
          "output_type": "stream",
          "name": "stdout",
          "text": [
            "Epoch [21/50], Loss: 0.3106\n",
            "Epoch [21/50], Class 0 (benign), Accuracy: 89.9281\n",
            "Epoch [21/50], Class 1 (malignant), Accuracy: 87.2180\n",
            "Epoch [21/50], Class 2 (normal), Accuracy: 91.5663\n"
          ]
        },
        {
          "output_type": "stream",
          "name": "stderr",
          "text": [
            "100%|██████████| 8/8 [00:16<00:00,  2.11s/it]\n"
          ]
        },
        {
          "output_type": "stream",
          "name": "stdout",
          "text": [
            "Epoch [22/50], Loss: 0.3065\n",
            "Epoch [22/50], Class 0 (benign), Accuracy: 89.2086\n",
            "Epoch [22/50], Class 1 (malignant), Accuracy: 84.9624\n",
            "Epoch [22/50], Class 2 (normal), Accuracy: 95.1807\n"
          ]
        },
        {
          "output_type": "stream",
          "name": "stderr",
          "text": [
            "100%|██████████| 8/8 [00:16<00:00,  2.04s/it]\n"
          ]
        },
        {
          "output_type": "stream",
          "name": "stdout",
          "text": [
            "Epoch [23/50], Loss: 0.2839\n",
            "Epoch [23/50], Class 0 (benign), Accuracy: 91.3669\n",
            "Epoch [23/50], Class 1 (malignant), Accuracy: 88.7218\n",
            "Epoch [23/50], Class 2 (normal), Accuracy: 90.3614\n"
          ]
        },
        {
          "output_type": "stream",
          "name": "stderr",
          "text": [
            "100%|██████████| 8/8 [00:16<00:00,  2.05s/it]\n"
          ]
        },
        {
          "output_type": "stream",
          "name": "stdout",
          "text": [
            "Epoch [24/50], Loss: 0.2381\n",
            "Epoch [24/50], Class 0 (benign), Accuracy: 92.0863\n",
            "Epoch [24/50], Class 1 (malignant), Accuracy: 88.7218\n",
            "Epoch [24/50], Class 2 (normal), Accuracy: 92.7711\n"
          ]
        },
        {
          "output_type": "stream",
          "name": "stderr",
          "text": [
            "100%|██████████| 8/8 [00:17<00:00,  2.14s/it]\n"
          ]
        },
        {
          "output_type": "stream",
          "name": "stdout",
          "text": [
            "Epoch [25/50], Loss: 0.2618\n",
            "Epoch [25/50], Class 0 (benign), Accuracy: 90.2878\n",
            "Epoch [25/50], Class 1 (malignant), Accuracy: 89.4737\n",
            "Epoch [25/50], Class 2 (normal), Accuracy: 90.3614\n"
          ]
        },
        {
          "output_type": "stream",
          "name": "stderr",
          "text": [
            "100%|██████████| 8/8 [00:16<00:00,  2.07s/it]\n"
          ]
        },
        {
          "output_type": "stream",
          "name": "stdout",
          "text": [
            "Epoch [26/50], Loss: 0.2827\n",
            "Epoch [26/50], Class 0 (benign), Accuracy: 89.9281\n",
            "Epoch [26/50], Class 1 (malignant), Accuracy: 86.4662\n",
            "Epoch [26/50], Class 2 (normal), Accuracy: 93.9759\n",
            "New best model saved with accuracy: 75.5906\n"
          ]
        },
        {
          "output_type": "stream",
          "name": "stderr",
          "text": [
            "100%|██████████| 8/8 [00:16<00:00,  2.04s/it]\n"
          ]
        },
        {
          "output_type": "stream",
          "name": "stdout",
          "text": [
            "Epoch [27/50], Loss: 0.2589\n",
            "Epoch [27/50], Class 0 (benign), Accuracy: 93.1655\n",
            "Epoch [27/50], Class 1 (malignant), Accuracy: 88.7218\n",
            "Epoch [27/50], Class 2 (normal), Accuracy: 93.9759\n"
          ]
        },
        {
          "output_type": "stream",
          "name": "stderr",
          "text": [
            "100%|██████████| 8/8 [00:16<00:00,  2.05s/it]\n"
          ]
        },
        {
          "output_type": "stream",
          "name": "stdout",
          "text": [
            "Epoch [28/50], Loss: 0.3334\n",
            "Epoch [28/50], Class 0 (benign), Accuracy: 89.9281\n",
            "Epoch [28/50], Class 1 (malignant), Accuracy: 88.7218\n",
            "Epoch [28/50], Class 2 (normal), Accuracy: 87.9518\n"
          ]
        },
        {
          "output_type": "stream",
          "name": "stderr",
          "text": [
            "100%|██████████| 8/8 [00:16<00:00,  2.12s/it]\n"
          ]
        },
        {
          "output_type": "stream",
          "name": "stdout",
          "text": [
            "Epoch [29/50], Loss: 0.2983\n",
            "Epoch [29/50], Class 0 (benign), Accuracy: 94.2446\n",
            "Epoch [29/50], Class 1 (malignant), Accuracy: 87.9699\n",
            "Epoch [29/50], Class 2 (normal), Accuracy: 83.1325\n"
          ]
        },
        {
          "output_type": "stream",
          "name": "stderr",
          "text": [
            "100%|██████████| 8/8 [00:16<00:00,  2.03s/it]\n"
          ]
        },
        {
          "output_type": "stream",
          "name": "stdout",
          "text": [
            "Epoch [30/50], Loss: 0.1990\n",
            "Epoch [30/50], Class 0 (benign), Accuracy: 90.6475\n",
            "Epoch [30/50], Class 1 (malignant), Accuracy: 90.9774\n",
            "Epoch [30/50], Class 2 (normal), Accuracy: 98.7952\n"
          ]
        },
        {
          "output_type": "stream",
          "name": "stderr",
          "text": [
            "100%|██████████| 8/8 [00:16<00:00,  2.06s/it]\n"
          ]
        },
        {
          "output_type": "stream",
          "name": "stdout",
          "text": [
            "Epoch [31/50], Loss: 0.3561\n",
            "Epoch [31/50], Class 0 (benign), Accuracy: 93.1655\n",
            "Epoch [31/50], Class 1 (malignant), Accuracy: 89.4737\n",
            "Epoch [31/50], Class 2 (normal), Accuracy: 81.9277\n"
          ]
        },
        {
          "output_type": "stream",
          "name": "stderr",
          "text": [
            "100%|██████████| 8/8 [00:16<00:00,  2.04s/it]\n"
          ]
        },
        {
          "output_type": "stream",
          "name": "stdout",
          "text": [
            "Epoch [32/50], Loss: 0.3345\n",
            "Epoch [32/50], Class 0 (benign), Accuracy: 89.9281\n",
            "Epoch [32/50], Class 1 (malignant), Accuracy: 84.9624\n",
            "Epoch [32/50], Class 2 (normal), Accuracy: 92.7711\n",
            "New best model saved with accuracy: 76.3780\n"
          ]
        },
        {
          "output_type": "stream",
          "name": "stderr",
          "text": [
            "100%|██████████| 8/8 [00:16<00:00,  2.10s/it]\n"
          ]
        },
        {
          "output_type": "stream",
          "name": "stdout",
          "text": [
            "Epoch [33/50], Loss: 0.2723\n",
            "Epoch [33/50], Class 0 (benign), Accuracy: 91.0072\n",
            "Epoch [33/50], Class 1 (malignant), Accuracy: 91.7293\n",
            "Epoch [33/50], Class 2 (normal), Accuracy: 90.3614\n",
            "New best model saved with accuracy: 77.9528\n"
          ]
        },
        {
          "output_type": "stream",
          "name": "stderr",
          "text": [
            "100%|██████████| 8/8 [00:16<00:00,  2.09s/it]\n"
          ]
        },
        {
          "output_type": "stream",
          "name": "stdout",
          "text": [
            "Epoch [34/50], Loss: 0.2139\n",
            "Epoch [34/50], Class 0 (benign), Accuracy: 94.2446\n",
            "Epoch [34/50], Class 1 (malignant), Accuracy: 90.9774\n",
            "Epoch [34/50], Class 2 (normal), Accuracy: 92.7711\n"
          ]
        },
        {
          "output_type": "stream",
          "name": "stderr",
          "text": [
            "100%|██████████| 8/8 [00:16<00:00,  2.12s/it]\n"
          ]
        },
        {
          "output_type": "stream",
          "name": "stdout",
          "text": [
            "Epoch [35/50], Loss: 0.2585\n",
            "Epoch [35/50], Class 0 (benign), Accuracy: 92.0863\n",
            "Epoch [35/50], Class 1 (malignant), Accuracy: 93.9850\n",
            "Epoch [35/50], Class 2 (normal), Accuracy: 92.7711\n"
          ]
        },
        {
          "output_type": "stream",
          "name": "stderr",
          "text": [
            "100%|██████████| 8/8 [00:16<00:00,  2.06s/it]\n"
          ]
        },
        {
          "output_type": "stream",
          "name": "stdout",
          "text": [
            "Epoch [36/50], Loss: 0.2596\n",
            "Epoch [36/50], Class 0 (benign), Accuracy: 95.3237\n",
            "Epoch [36/50], Class 1 (malignant), Accuracy: 86.4662\n",
            "Epoch [36/50], Class 2 (normal), Accuracy: 90.3614\n"
          ]
        },
        {
          "output_type": "stream",
          "name": "stderr",
          "text": [
            "100%|██████████| 8/8 [00:16<00:00,  2.03s/it]\n"
          ]
        },
        {
          "output_type": "stream",
          "name": "stdout",
          "text": [
            "Epoch [37/50], Loss: 0.1656\n",
            "Epoch [37/50], Class 0 (benign), Accuracy: 94.9640\n",
            "Epoch [37/50], Class 1 (malignant), Accuracy: 92.4812\n",
            "Epoch [37/50], Class 2 (normal), Accuracy: 97.5904\n"
          ]
        },
        {
          "output_type": "stream",
          "name": "stderr",
          "text": [
            "100%|██████████| 8/8 [00:16<00:00,  2.08s/it]\n"
          ]
        },
        {
          "output_type": "stream",
          "name": "stdout",
          "text": [
            "Epoch [38/50], Loss: 0.2499\n",
            "Epoch [38/50], Class 0 (benign), Accuracy: 92.0863\n",
            "Epoch [38/50], Class 1 (malignant), Accuracy: 93.9850\n",
            "Epoch [38/50], Class 2 (normal), Accuracy: 89.1566\n"
          ]
        },
        {
          "output_type": "stream",
          "name": "stderr",
          "text": [
            "100%|██████████| 8/8 [00:16<00:00,  2.06s/it]\n"
          ]
        },
        {
          "output_type": "stream",
          "name": "stdout",
          "text": [
            "Epoch [39/50], Loss: 0.2448\n",
            "Epoch [39/50], Class 0 (benign), Accuracy: 93.8849\n",
            "Epoch [39/50], Class 1 (malignant), Accuracy: 89.4737\n",
            "Epoch [39/50], Class 2 (normal), Accuracy: 91.5663\n"
          ]
        },
        {
          "output_type": "stream",
          "name": "stderr",
          "text": [
            "100%|██████████| 8/8 [00:16<00:00,  2.05s/it]\n"
          ]
        },
        {
          "output_type": "stream",
          "name": "stdout",
          "text": [
            "Epoch [40/50], Loss: 0.1495\n",
            "Epoch [40/50], Class 0 (benign), Accuracy: 90.2878\n",
            "Epoch [40/50], Class 1 (malignant), Accuracy: 96.9925\n",
            "Epoch [40/50], Class 2 (normal), Accuracy: 98.7952\n"
          ]
        },
        {
          "output_type": "stream",
          "name": "stderr",
          "text": [
            "100%|██████████| 8/8 [00:16<00:00,  2.03s/it]\n"
          ]
        },
        {
          "output_type": "stream",
          "name": "stdout",
          "text": [
            "Epoch [41/50], Loss: 0.2045\n",
            "Epoch [41/50], Class 0 (benign), Accuracy: 94.2446\n",
            "Epoch [41/50], Class 1 (malignant), Accuracy: 91.7293\n",
            "Epoch [41/50], Class 2 (normal), Accuracy: 96.3855\n"
          ]
        },
        {
          "output_type": "stream",
          "name": "stderr",
          "text": [
            "100%|██████████| 8/8 [00:16<00:00,  2.05s/it]\n"
          ]
        },
        {
          "output_type": "stream",
          "name": "stdout",
          "text": [
            "Epoch [42/50], Loss: 0.2053\n",
            "Epoch [42/50], Class 0 (benign), Accuracy: 93.5252\n",
            "Epoch [42/50], Class 1 (malignant), Accuracy: 90.9774\n",
            "Epoch [42/50], Class 2 (normal), Accuracy: 93.9759\n"
          ]
        },
        {
          "output_type": "stream",
          "name": "stderr",
          "text": [
            "100%|██████████| 8/8 [00:17<00:00,  2.14s/it]\n"
          ]
        },
        {
          "output_type": "stream",
          "name": "stdout",
          "text": [
            "Epoch [43/50], Loss: 0.2074\n",
            "Epoch [43/50], Class 0 (benign), Accuracy: 92.0863\n",
            "Epoch [43/50], Class 1 (malignant), Accuracy: 91.7293\n",
            "Epoch [43/50], Class 2 (normal), Accuracy: 96.3855\n"
          ]
        },
        {
          "output_type": "stream",
          "name": "stderr",
          "text": [
            "100%|██████████| 8/8 [00:16<00:00,  2.03s/it]\n"
          ]
        },
        {
          "output_type": "stream",
          "name": "stdout",
          "text": [
            "Epoch [44/50], Loss: 0.1399\n",
            "Epoch [44/50], Class 0 (benign), Accuracy: 93.1655\n",
            "Epoch [44/50], Class 1 (malignant), Accuracy: 95.4887\n",
            "Epoch [44/50], Class 2 (normal), Accuracy: 97.5904\n"
          ]
        },
        {
          "output_type": "stream",
          "name": "stderr",
          "text": [
            "100%|██████████| 8/8 [00:16<00:00,  2.06s/it]\n"
          ]
        },
        {
          "output_type": "stream",
          "name": "stdout",
          "text": [
            "Epoch [45/50], Loss: 0.1110\n",
            "Epoch [45/50], Class 0 (benign), Accuracy: 95.6835\n",
            "Epoch [45/50], Class 1 (malignant), Accuracy: 96.9925\n",
            "Epoch [45/50], Class 2 (normal), Accuracy: 98.7952\n"
          ]
        },
        {
          "output_type": "stream",
          "name": "stderr",
          "text": [
            "100%|██████████| 8/8 [00:16<00:00,  2.06s/it]\n"
          ]
        },
        {
          "output_type": "stream",
          "name": "stdout",
          "text": [
            "Epoch [46/50], Loss: 0.0883\n",
            "Epoch [46/50], Class 0 (benign), Accuracy: 96.7626\n",
            "Epoch [46/50], Class 1 (malignant), Accuracy: 98.4962\n",
            "Epoch [46/50], Class 2 (normal), Accuracy: 96.3855\n"
          ]
        },
        {
          "output_type": "stream",
          "name": "stderr",
          "text": [
            "100%|██████████| 8/8 [00:16<00:00,  2.03s/it]\n"
          ]
        },
        {
          "output_type": "stream",
          "name": "stdout",
          "text": [
            "Epoch [47/50], Loss: 0.1186\n",
            "Epoch [47/50], Class 0 (benign), Accuracy: 95.3237\n",
            "Epoch [47/50], Class 1 (malignant), Accuracy: 93.9850\n",
            "Epoch [47/50], Class 2 (normal), Accuracy: 96.3855\n"
          ]
        },
        {
          "output_type": "stream",
          "name": "stderr",
          "text": [
            "100%|██████████| 8/8 [00:16<00:00,  2.11s/it]\n"
          ]
        },
        {
          "output_type": "stream",
          "name": "stdout",
          "text": [
            "Epoch [48/50], Loss: 0.0985\n",
            "Epoch [48/50], Class 0 (benign), Accuracy: 96.4029\n",
            "Epoch [48/50], Class 1 (malignant), Accuracy: 96.2406\n",
            "Epoch [48/50], Class 2 (normal), Accuracy: 97.5904\n",
            "New best model saved with accuracy: 78.7402\n"
          ]
        },
        {
          "output_type": "stream",
          "name": "stderr",
          "text": [
            "100%|██████████| 8/8 [00:16<00:00,  2.06s/it]\n"
          ]
        },
        {
          "output_type": "stream",
          "name": "stdout",
          "text": [
            "Epoch [49/50], Loss: 0.1998\n",
            "Epoch [49/50], Class 0 (benign), Accuracy: 94.9640\n",
            "Epoch [49/50], Class 1 (malignant), Accuracy: 93.9850\n",
            "Epoch [49/50], Class 2 (normal), Accuracy: 93.9759\n"
          ]
        },
        {
          "output_type": "stream",
          "name": "stderr",
          "text": [
            "100%|██████████| 8/8 [00:16<00:00,  2.07s/it]\n"
          ]
        },
        {
          "output_type": "stream",
          "name": "stdout",
          "text": [
            "Epoch [50/50], Loss: 0.2333\n",
            "Epoch [50/50], Class 0 (benign), Accuracy: 94.6043\n",
            "Epoch [50/50], Class 1 (malignant), Accuracy: 87.9699\n",
            "Epoch [50/50], Class 2 (normal), Accuracy: 90.3614\n",
            "Finished Training\n"
          ]
        },
        {
          "output_type": "display_data",
          "data": {
            "text/plain": [
              "<Figure size 1000x500 with 1 Axes>"
            ],
            "image/png": "[encoded data removed]"
          },
          "metadata": {}
        },
        {
          "output_type": "display_data",
          "data": {
            "text/plain": [
              "<Figure size 1000x500 with 1 Axes>"
            ],
            "image/png": "[encoded data removed]"
          },
          "metadata": {}
        },
        {
          "output_type": "stream",
          "name": "stdout",
          "text": [
            "학습에 소요된 시간은 총 : 0시간 16분 43.46436929702759초 입니다.\n"
          ]
        }
      ],
      "source": [
        "def main():\n",
        "\n",
        "\n",
        "  print(\"Start Code\")\n",
        "  print(\"My model\")\n",
        "\n",
        "  # model = Simple2DCNN()\n",
        "#   model = CustomCNN()\n",
        "#   model = get_model(num_classes=3)\n",
        "  model = get_model2(num_classes=3)\n",
        "#   model = get_model3(num_classes=3)\n",
        "  # model = get_model('resnet', 3, pretrained=False)\n",
        "\n",
        "\n",
        "  transform = transforms.Compose([\n",
        "            transforms.Resize((224,224)),\n",
        "            transforms.ToTensor(),\n",
        "            transforms.RandomHorizontalFlip(),\n",
        "            transforms.RandomVerticalFlip(),\n",
        "            transforms.RandomRotation(30),\n",
        "            transforms.RandomAffine(degrees=0, translate=(0.1, 0.1), shear=10),\n",
        "  ])\n",
        "\n",
        "  train_dataset = ImageDataset(directory='/content/dataset/train/',transform=transform)\n",
        "  val_dataset = ImageDataset(directory='/content/dataset/validation/',transform=transform)\n",
        "\n",
        "  train_loader = DataLoader(train_dataset, batch_size=64, shuffle=True)\n",
        "  val_loader = DataLoader(val_dataset, batch_size=64, shuffle=True)\n",
        "\n",
        "  # 샘플 이미지 출력\n",
        "  show_sample_images(train_loader)\n",
        "#   numSample_list=[388, 158, 178]\n",
        "  numSample_list=[278, 133, 83]\n",
        "\n",
        "  # print(test_loader)\n",
        "#   dataiter = iter(train_loader)\n",
        "#   data_loader, labels = next(iter(train_loader))\n",
        "#   visualize_batch(data_loader, labels)\n",
        "\n",
        "  device = torch.device(\"cuda\" if torch.cuda.is_available() else \"cpu\")\n",
        "\n",
        "  tic()\n",
        "# numSample_list=numSample_list\n",
        "  train_model(model, train_loader, val_loader, epochs=args.epoch, device=device, numSample_list=numSample_list,args=args)\n",
        "\n",
        "  toc()\n",
        "\n",
        "\n",
        "main()"
      ]
    },
    {
      "cell_type": "code",
      "execution_count": null,
      "metadata": {
        "id": "V1YCPH0tI3sj"
      },
      "outputs": [],
      "source": [
        "# #evaluate\n",
        "\n",
        "# def evaluate_model(model, test_loader, device, args):\n",
        "\n",
        "#     # 모델 가중치 로드\n",
        "#     # if args.model_path:\n",
        "#     #    model.load_state_dict(torch.load(\"args.model_path.pth\", map_location=device))\n",
        "#     model.load_state_dict(torch.load('checkpoint.pt', map_location=device))\n",
        "\n",
        "#     model.eval()\n",
        "\n",
        "\n",
        "#     criterion = nn.CrossEntropyLoss()\n",
        "\n",
        "#     total = 0\n",
        "#     correct = 0\n",
        "#     total_loss = 0.0\n",
        "\n",
        "#     with torch.no_grad():\n",
        "#         for inputs, labels in tqdm(test_loader):\n",
        "#             inputs, labels = inputs.to(device), labels.to(device)\n",
        "\n",
        "#             outputs = model(inputs)\n",
        "\n",
        "#             loss = criterion(outputs, labels)\n",
        "\n",
        "#             total_loss += loss.item()\n",
        "\n",
        "#             _, predicted = torch.max(outputs.data, 1)\n",
        "\n",
        "#             total += labels.size(0)\n",
        "#             correct += (predicted == labels).sum().item()\n",
        "\n",
        "#     avg_loss = total_loss / len(test_loader)\n",
        "\n",
        "#     accuracy = correct / total * 100\n",
        "\n",
        "#     print(f'Test Accuracy: {accuracy:.2f}%, Avg Loss: {avg_loss:.4f}')\n",
        "\n",
        "\n",
        "#     return accuracy, avg_loss\n",
        "\n"
      ]
    },
    {
      "cell_type": "code",
      "source": [
        "import torch\n",
        "import torch.nn as nn\n",
        "from tqdm import tqdm\n",
        "\n",
        "def evaluate_model(model, test_loader, device, args):\n",
        "    # 모델 가중치 로드\n",
        "    model.load_state_dict(torch.load('best_model.pth', map_location=device))\n",
        "# checkpoint.pt best_model.pth model_weight_2d.pth\n",
        "\n",
        "    model.eval()\n",
        "    criterion = nn.CrossEntropyLoss()\n",
        "\n",
        "    total = 0\n",
        "    correct = 0\n",
        "    total_loss = 0.0\n",
        "\n",
        "    class_correct = [0] * 3\n",
        "    class_total = [0] * 3\n",
        "\n",
        "    with torch.no_grad():\n",
        "        for inputs, labels in tqdm(test_loader):\n",
        "            inputs, labels = inputs.to(device), labels.to(device)\n",
        "\n",
        "            outputs = model(inputs)\n",
        "            loss = criterion(outputs, labels)\n",
        "            total_loss += loss.item()\n",
        "\n",
        "            _, predicted = torch.max(outputs.data, 1)\n",
        "            total += labels.size(0)\n",
        "            correct += (predicted == labels).sum().item()\n",
        "\n",
        "            for i in range(len(labels)):\n",
        "                label = labels[i].item()\n",
        "                class_correct[label] += (predicted[i] == labels[i]).item()\n",
        "                class_total[label] += 1\n",
        "\n",
        "    avg_loss = total_loss / len(test_loader)\n",
        "    accuracy = correct / total * 100\n",
        "\n",
        "    print(f'Test Accuracy: {accuracy:.2f}%, Avg Loss: {avg_loss:.4f}')\n",
        "\n",
        "    # 각 클래스별 정확도 출력\n",
        "    class_labels = ['benign', 'malignant', 'normal']\n",
        "    for i in range(3):\n",
        "        if class_total[i] > 0:\n",
        "            class_accuracy = 100 * class_correct[i] / class_total[i]\n",
        "            print(f'Test Accuracy for class {class_labels[i]}: {class_accuracy:.2f}%')\n",
        "        else:\n",
        "            print(f'Test Accuracy for class {class_labels[i]}: N/A (no samples)')\n",
        "\n",
        "    return accuracy, avg_loss\n"
      ],
      "metadata": {
        "id": "QsVm5PmDDlVI"
      },
      "execution_count": 25,
      "outputs": []
    },
    {
      "cell_type": "code",
      "source": [
        "transform = transforms.Compose([\n",
        "            transforms.Resize((224,224)),\n",
        "            transforms.ToTensor(),\n",
        "  ])\n",
        "test_dataset = ImageDataset(directory='/content/dataset/test/',transform=transform)\n",
        "\n",
        "test_loader = DataLoader(test_dataset, batch_size=1, shuffle=False)\n",
        "\n",
        "\n",
        "\n",
        "accuracy, avg_loss = evaluate_model(model, test_loader, device=device, args=args)\n",
        "\n"
      ],
      "metadata": {
        "id": "Zskdy_EAzfQv",
        "colab": {
          "base_uri": "https://localhost:8080/",
          "height": 883
        },
        "outputId": "8c965570-0efa-4e84-e1bf-ee014edbb0fd"
      },
      "execution_count": 26,
      "outputs": [
        {
          "output_type": "error",
          "ename": "RuntimeError",
          "evalue": "Error(s) in loading state_dict for GoogLeNet:\n\tMissing key(s) in state_dict: \"conv1.conv.weight\", \"conv1.bn.weight\", \"conv1.bn.bias\", \"conv1.bn.running_mean\", \"conv1.bn.running_var\", \"conv2.conv.weight\", \"conv2.bn.weight\", \"conv2.bn.bias\", \"conv2.bn.running_mean\", \"conv2.bn.running_var\", \"conv3.conv.weight\", \"conv3.bn.weight\", \"conv3.bn.bias\", \"conv3.bn.running_mean\", \"conv3.bn.running_var\", \"inception3a.branch1.conv.weight\", \"inception3a.branch1.bn.weight\", \"inception3a.branch1.bn.bias\", \"inception3a.branch1.bn.running_mean\", \"inception3a.branch1.bn.running_var\", \"inception3a.branch2.0.conv.weight\", \"inception3a.branch2.0.bn.weight\", \"inception3a.branch2.0.bn.bias\", \"inception3a.branch2.0.bn.running_mean\", \"inception3a.branch2.0.bn.running_var\", \"inception3a.branch2.1.conv.weight\", \"inception3a.branch2.1.bn.weight\", \"inception3a.branch2.1.bn.bias\", \"inception3a.branch2.1.bn.running_mean\", \"inception3a.branch2.1.bn.running_var\", \"inception3a.branch3.0.conv.weight\", \"inception3a.branch3.0.bn.weight\", \"inception3a.branch3.0.bn.bias\", \"inception3a.branch3.0.bn.running_mean\", \"inception3a.branch3.0.bn.running_var\", \"inception3a.branch3.1.conv.weight\", \"inception3a.branch3.1.bn.weight\", \"inception3a.branch3.1.bn.bias\", \"inception3a.branch3.1.bn.running_mean\", \"inception3a.branch3.1.bn.running_var\", \"inception3a.branch4.1.conv.weight\", \"inception3a.branch4.1.bn.weight\", \"inception3a.branch4.1.bn.bias\", \"inception3a.branch4.1.bn.running_mean\", \"inception3a.branch4.1.bn.running_var\", \"inception3b.branch1.conv.weight\", \"inception3b.branch1.bn.weight\", \"inception3b.branch1.bn.bias\", \"inception3b.branch1.bn.running_mean\", \"inception3b.branch1.bn.running_var\", \"inception3b.branch2.0.conv.weight\", \"inception3b.branch2.0.bn.weight\", \"inception3b.branch2.0.bn.bias\", \"inception3b.branch2.0.bn.running_mean\", \"inception3b.branch2.0.bn.running_var\", \"inception3b.branch2.1.conv.weight\", \"inception3b.branch2.1.bn.weight\", \"inception3b.branch2.1.bn.bias\", \"inception3b.branch2.1.bn.running_mean\", \"inception3b.branch2.1.bn.running_var\", \"inception3b.branch3.0.conv.weight\", \"inception3b.branch3.0.bn.weight\", \"inception3b.branch3.0.bn.bias\", \"inception3b.branch3.0.bn.running_mean\", \"inception3b.branch3.0.bn.running_var\", \"inception3b.branch3.1.conv.weight\", \"inception3b.branch3.1.bn.weight\", \"inception3b.branch3.1.bn.bias\", \"inception3b.branch3.1.bn.running_mean\", \"inception3b.branch3.1.bn.running_var\", \"inception3b.branch4.1.conv.weight\", \"inception3b.branch4.1.bn.weight\", \"inception3b.branch4.1.bn.bias\", \"inception3b.branch4.1.bn.running_mean\", \"inception3b.branch4.1.bn.running_var\", \"inception4a.branch1.conv.weight\", \"inception4a.branch1.bn.weight\", \"inception4a.branch1.bn.bias\", \"inception4a.branch1.bn.running_mean\", \"inception4a.branch1.bn.running_var\", \"inception4a.branch2.0.conv.weight\", \"inception4a.branch2.0.bn.weight\", \"inception4a.branch2.0.bn.bias\", \"inception4a.branch2.0.bn.running_mean\", \"inception4a.branch2.0.bn.running_var\", \"inception4a.branch2.1.conv.weight\", \"inception4a.branch2.1.bn.weight\", \"inception4a.branch2.1.bn.bias\", \"inception4a.branch2.1.bn.running_mean\", \"inception4a.branch2.1.bn.running_var\", \"inception4a.branch3.0.conv.weight\", \"inception4a.branch3.0.bn.weight\", \"inception4a.branch3.0.bn.bias\", \"inception4a.branch3.0.bn.running_mean\", \"inception4a.branch3.0.bn.running_var\", \"inception4a.branch3.1.conv.weight\", \"inception4a.branch3.1.bn.weight\", \"inception4a.branch3.1.bn.bias\", \"inception4a.branch3.1.bn.running_mean\", \"inception4a.branch3.1.bn.running_var\", \"inception4a.branch4.1.conv.weight\", \"inception4a.branch4.1.bn.weight\", \"inception4a.branch4.1.bn.bias\", \"inception4a.branch4.1.bn.running_mean\", \"inception4a.branch4.1.bn.running_var\", \"inception4b.branch1.conv.weight\", \"inception4b.branch1.bn.weight\", \"inception4b.branch1.bn.bias\", \"inception4b.branch1.bn.running_mean\", \"inception4b.branch1.bn.running_var\", \"inception4b.branch2.0.conv.weight\", \"inception4b.branch2.0.bn.weight\", \"inception4b.branch2.0.bn.bias\", \"inception4b.branch2.0.bn.running_mean\", \"inception4b.branch2.0.bn.running_var\", \"inception4b.branch2.1.conv.weight\", \"inception4b.branch2.1.bn.weight\", \"inception4b.branch2.1.bn.bias\", \"inception4b.branch2.1.bn.running_mean\", \"inception4b.branch2.1.bn.running_var\", \"inception4b.branch3.0.conv.weight\", \"inception4b.branch3.0.bn.weight\", \"inception4b.branch3.0.bn.bias\", \"inception4b.branch3.0.bn.running_mean\", \"inception4b.branch3.0.bn.running_var\", \"inception4b.branch3.1.conv.weight\", \"inception4b.branch3.1.bn.weight\", \"inception4b.branch3.1.bn.bias\", \"inception4b.branch3.1.bn.running_mean\", \"inception4b.branch3.1.bn.running_var\", \"inception4b.branch4.1.conv.weight\", \"inception4b.branch4.1.bn.weight\", \"inception4b.branch4.1.bn.bias\", \"inception4b.branch4.1.bn.running_mean\", \"inception4b.branch4.1.bn.running_var\", \"inception4c.branch1.conv.weight\", \"inception4c.branch1.bn.weight\", \"inception4c.branch1.bn.bias\", \"inception4c.branch1.bn.running_mean\", \"inception4c.branch1.bn.running_var\", \"inception4c.branch2.0.conv.weight\", \"inception4c.branch2.0.bn.weight\", \"inception4c.branch2.0.bn.bias\", \"inception4c.branch2.0.bn.running_mean\", \"inception4c.branch2.0.bn.running_var\", \"inception4c.branch2.1.conv.weight\", \"inception4c.branch2.1.bn.weight\", \"inception4c.branch2.1.bn.bias\", \"inception4c.branch2.1.bn.running_mean\", \"inception4c.branch2.1.bn.running_var\", \"inception4c.branch3.0.conv.weight\", \"inception4c.branch3.0.bn.weight\", \"inception4c.branch3.0.bn.bias\", \"inception4c.branch3.0.bn.running_mean\", \"inception4c.branch3.0.bn.running_var\", \"inception4c.branch3.1.conv.weight\", \"inception4c.branch3.1.bn.weight\", \"inception4c.branch3.1.bn.bias\", \"inception4c.branch3.1.bn.running_mean\", \"inception4c.branch3.1.bn.running_var\", \"inception4c.branch4.1.conv.weight\", \"inception4c.branch4.1.bn.weight\", \"inception4c.branch4.1.bn.bias\", \"inception4c.branch4.1.bn.running_mean\", \"inception4c.branch4.1.bn.running_var\", \"inception4d.branch1.conv.weight\", \"inception4d.branch1.bn.weight\", \"inception4d.branch1.bn.bias\", \"inception4d.branch1.bn.running_mean\", \"inception4d.branch1.bn.running_var\", \"inception4d.branch2.0.conv.weight\", \"inception4d.branch2.0.bn.weight\", \"inception4d.branch2.0.bn.bias\", \"inception4d.branch2.0.bn.running_mean\", \"inception4d.branch2.0.bn.running_var\", \"inception4d.branch2.1.conv.weight\", \"inception4d.branch2.1.bn.weight\", \"inception4d.branch2.1.bn.bias\", \"inception4d.branch2.1.bn.running_mean\", \"inception4d.branch2.1.bn.running_var\", \"inception4d.branch3.0.conv.weight\", \"inception4d.branch3.0.bn.weight\", \"inception4d.branch3.0.bn.bias\", \"inception4d.branch3.0.bn.running_mean\", \"inception4d.branch3.0.bn.running_var\", \"inception4d.branch3.1.conv.weight\", \"inception4d.branch3.1.bn.weight\", \"inception4d.branch3.1.bn.bias\", \"inception4d.branch3.1.bn.running_mean\", \"inception4d.branch3.1.bn.running_var\", \"inception4d.branch4.1.conv.weight\", \"inception4d.branch4.1.bn.weight\", \"inception4d.branch4.1.bn.bias\", \"inception4d.branch4.1.bn.running_mean\", \"inception4d.branch4.1.bn.running_var\", \"inception4e.branch1.conv.weight\", \"inception4e.branch1.bn.weight\", \"inception4e.branch1.bn.bias\", \"inception4e.branch1.bn.running_mean\", \"inception4e.branch1.bn.running_var\", \"inception4e.branch2.0.conv.weight\", \"inception4e.branch2.0.bn.weight\", \"inception4e.branch2.0.bn.bias\", \"inception4e.branch2.0.bn.running_mean\", \"inception4e.branch2.0.bn.running_var\", \"inception4e.branch2.1.conv.weight\", \"inception4e.branch2.1.bn.weight\", \"inception4e.branch2.1.bn.bias\", \"inception4e.branch2.1.bn.running_mean\", \"inception4e.branch2.1.bn.running_var\", \"inception4e.branch3.0.conv.weight\", \"inception4e.branch3.0.bn.weight\", \"inception4e.branch3.0.bn.bias\", \"inception4e.branch3.0.bn.running_mean\", \"inception4e.branch3.0.bn.running_var\", \"inception4e.branch3.1.conv.weight\", \"inception4e.branch3.1.bn.weight\", \"inception4e.branch3.1.bn.bias\", \"inception4e.branch3.1.bn.running_mean\", \"inception4e.branch3.1.bn.running_var\", \"inception4e.branch4.1.conv.weight\", \"inception4e.branch4.1.bn.weight\", \"inception4e.branch4.1.bn.bias\", \"inception4e.branch4.1.bn.running_mean\", \"inception4e.branch4.1.bn.running_var\", \"inception5a.branch1.conv.weight\", \"inception5a.branch1.bn.weight\", \"inception5a.branch1.bn.bias\", \"inception5a.branch1.bn.running_mean\", \"inception5a.branch1.bn.running_var\", \"inception5a.branch2.0.conv.weight\", \"inception5a.branch2.0.bn.weight\", \"inception5a.branch2.0.bn.bias\", \"inception5a.branch2.0.bn.running_mean\", \"inception5a.branch2.0.bn.running_var\", \"inception5a.branch2.1.conv.weight\", \"inception5a.branch2.1.bn.weight\", \"inception5a.branch2.1.bn.bias\", \"inception5a.branch2.1.bn.running_mean\", \"inception5a.branch2.1.bn.running_var\", \"inception5a.branch3.0.conv.weight\", \"inception5a.branch3.0.bn.weight\", \"inception5a.branch3.0.bn.bias\", \"inception5a.branch3.0.bn.running_mean\", \"inception5a.branch3.0.bn.running_var\", \"inception5a.branch3.1.conv.weight\", \"inception5a.branch3.1.bn.weight\", \"inception5a.branch3.1.bn.bias\", \"inception5a.branch3.1.bn.running_mean\", \"inception5a.branch3.1.bn.running_var\", \"inception5a.branch4.1.conv.weight\", \"inception5a.branch4.1.bn.weight\", \"inception5a.branch4.1.bn.bias\", \"inception5a.branch4.1.bn.running_mean\", \"inception5a.branch4.1.bn.running_var\", \"inception5b.branch1.conv.weight\", \"inception5b.branch1.bn.weight\", \"inception5b.branch1.bn.bias\", \"inception5b.branch1.bn.running_mean\", \"inception5b.branch1.bn.running_var\", \"inception5b.branch2.0.conv.weight\", \"inception5b.branch2.0.bn.weight\", \"inception5b.branch2.0.bn.bias\", \"inception5b.branch2.0.bn.running_mean\", \"inception5b.branch2.0.bn.running_var\", \"inception5b.branch2.1.conv.weight\", \"inception5b.branch2.1.bn.weight\", \"inception5b.branch2.1.bn.bias\", \"inception5b.branch2.1.bn.running_mean\", \"inception5b.branch2.1.bn.running_var\", \"inception5b.branch3.0.conv.weight\", \"inception5b.branch3.0.bn.weight\", \"inception5b.branch3.0.bn.bias\", \"inception5b.branch3.0.bn.running_mean\", \"inception5b.branch3.0.bn.running_var\", \"inception5b.branch3.1.conv.weight\", \"inception5b.branch3.1.bn.weight\", \"inception5b.branch3.1.bn.bias\", \"inception5b.branch3.1.bn.running_mean\", \"inception5b.branch3.1.bn.running_var\", \"inception5b.branch4.1.conv.weight\", \"inception5b.branch4.1.bn.weight\", \"inception5b.branch4.1.bn.bias\", \"inception5b.branch4.1.bn.running_mean\", \"inception5b.branch4.1.bn.running_var\", \"fc.weight\", \"fc.bias\". \n\tUnexpected key(s) in state_dict: \"features.0.weight\", \"features.0.bias\", \"features.2.weight\", \"features.2.bias\", \"features.5.weight\", \"features.5.bias\", \"features.7.weight\", \"features.7.bias\", \"features.10.weight\", \"features.10.bias\", \"features.12.weight\", \"features.12.bias\", \"features.14.weight\", \"features.14.bias\", \"features.16.weight\", \"features.16.bias\", \"features.19.weight\", \"features.19.bias\", \"features.21.weight\", \"features.21.bias\", \"features.23.weight\", \"features.23.bias\", \"features.25.weight\", \"features.25.bias\", \"features.28.weight\", \"features.28.bias\", \"features.30.weight\", \"features.30.bias\", \"features.32.weight\", \"features.32.bias\", \"features.34.weight\", \"features.34.bias\", \"classifier.0.weight\", \"classifier.0.bias\", \"classifier.3.weight\", \"classifier.3.bias\", \"classifier.6.weight\", \"classifier.6.bias\". ",
          "traceback": [
            "\u001b[0;31m---------------------------------------------------------------------------\u001b[0m",
            "\u001b[0;31mRuntimeError\u001b[0m                              Traceback (most recent call last)",
            "\u001b[0;32m<ipython-input-26-c4bab81aab7e>\u001b[0m in \u001b[0;36m<cell line: 11>\u001b[0;34m()\u001b[0m\n\u001b[1;32m      9\u001b[0m \u001b[0;34m\u001b[0m\u001b[0m\n\u001b[1;32m     10\u001b[0m \u001b[0;34m\u001b[0m\u001b[0m\n\u001b[0;32m---> 11\u001b[0;31m \u001b[0maccuracy\u001b[0m\u001b[0;34m,\u001b[0m \u001b[0mavg_loss\u001b[0m \u001b[0;34m=\u001b[0m \u001b[0mevaluate_model\u001b[0m\u001b[0;34m(\u001b[0m\u001b[0mmodel\u001b[0m\u001b[0;34m,\u001b[0m \u001b[0mtest_loader\u001b[0m\u001b[0;34m,\u001b[0m \u001b[0mdevice\u001b[0m\u001b[0;34m=\u001b[0m\u001b[0mdevice\u001b[0m\u001b[0;34m,\u001b[0m \u001b[0margs\u001b[0m\u001b[0;34m=\u001b[0m\u001b[0margs\u001b[0m\u001b[0;34m)\u001b[0m\u001b[0;34m\u001b[0m\u001b[0;34m\u001b[0m\u001b[0m\n\u001b[0m\u001b[1;32m     12\u001b[0m \u001b[0;34m\u001b[0m\u001b[0m\n",
            "\u001b[0;32m<ipython-input-25-d7fc44d67df8>\u001b[0m in \u001b[0;36mevaluate_model\u001b[0;34m(model, test_loader, device, args)\u001b[0m\n\u001b[1;32m      5\u001b[0m \u001b[0;32mdef\u001b[0m \u001b[0mevaluate_model\u001b[0m\u001b[0;34m(\u001b[0m\u001b[0mmodel\u001b[0m\u001b[0;34m,\u001b[0m \u001b[0mtest_loader\u001b[0m\u001b[0;34m,\u001b[0m \u001b[0mdevice\u001b[0m\u001b[0;34m,\u001b[0m \u001b[0margs\u001b[0m\u001b[0;34m)\u001b[0m\u001b[0;34m:\u001b[0m\u001b[0;34m\u001b[0m\u001b[0;34m\u001b[0m\u001b[0m\n\u001b[1;32m      6\u001b[0m     \u001b[0;31m# 모델 가중치 로드\u001b[0m\u001b[0;34m\u001b[0m\u001b[0;34m\u001b[0m\u001b[0m\n\u001b[0;32m----> 7\u001b[0;31m     \u001b[0mmodel\u001b[0m\u001b[0;34m.\u001b[0m\u001b[0mload_state_dict\u001b[0m\u001b[0;34m(\u001b[0m\u001b[0mtorch\u001b[0m\u001b[0;34m.\u001b[0m\u001b[0mload\u001b[0m\u001b[0;34m(\u001b[0m\u001b[0;34m'best_model.pth'\u001b[0m\u001b[0;34m,\u001b[0m \u001b[0mmap_location\u001b[0m\u001b[0;34m=\u001b[0m\u001b[0mdevice\u001b[0m\u001b[0;34m)\u001b[0m\u001b[0;34m)\u001b[0m\u001b[0;34m\u001b[0m\u001b[0;34m\u001b[0m\u001b[0m\n\u001b[0m\u001b[1;32m      8\u001b[0m \u001b[0;31m# checkpoint.pt best_model.pth model_weight_2d.pth\u001b[0m\u001b[0;34m\u001b[0m\u001b[0;34m\u001b[0m\u001b[0m\n\u001b[1;32m      9\u001b[0m \u001b[0;34m\u001b[0m\u001b[0m\n",
            "\u001b[0;32m/usr/local/lib/python3.10/dist-packages/torch/nn/modules/module.py\u001b[0m in \u001b[0;36mload_state_dict\u001b[0;34m(self, state_dict, strict, assign)\u001b[0m\n\u001b[1;32m   2187\u001b[0m \u001b[0;34m\u001b[0m\u001b[0m\n\u001b[1;32m   2188\u001b[0m         \u001b[0;32mif\u001b[0m \u001b[0mlen\u001b[0m\u001b[0;34m(\u001b[0m\u001b[0merror_msgs\u001b[0m\u001b[0;34m)\u001b[0m \u001b[0;34m>\u001b[0m \u001b[0;36m0\u001b[0m\u001b[0;34m:\u001b[0m\u001b[0;34m\u001b[0m\u001b[0;34m\u001b[0m\u001b[0m\n\u001b[0;32m-> 2189\u001b[0;31m             raise RuntimeError('Error(s) in loading state_dict for {}:\\n\\t{}'.format(\n\u001b[0m\u001b[1;32m   2190\u001b[0m                                self.__class__.__name__, \"\\n\\t\".join(error_msgs)))\n\u001b[1;32m   2191\u001b[0m         \u001b[0;32mreturn\u001b[0m \u001b[0m_IncompatibleKeys\u001b[0m\u001b[0;34m(\u001b[0m\u001b[0mmissing_keys\u001b[0m\u001b[0;34m,\u001b[0m \u001b[0munexpected_keys\u001b[0m\u001b[0;34m)\u001b[0m\u001b[0;34m\u001b[0m\u001b[0;34m\u001b[0m\u001b[0m\n",
            "\u001b[0;31mRuntimeError\u001b[0m: Error(s) in loading state_dict for GoogLeNet:\n\tMissing key(s) in state_dict: \"conv1.conv.weight\", \"conv1.bn.weight\", \"conv1.bn.bias\", \"conv1.bn.running_mean\", \"conv1.bn.running_var\", \"conv2.conv.weight\", \"conv2.bn.weight\", \"conv2.bn.bias\", \"conv2.bn.running_mean\", \"conv2.bn.running_var\", \"conv3.conv.weight\", \"conv3.bn.weight\", \"conv3.bn.bias\", \"conv3.bn.running_mean\", \"conv3.bn.running_var\", \"inception3a.branch1.conv.weight\", \"inception3a.branch1.bn.weight\", \"inception3a.branch1.bn.bias\", \"inception3a.branch1.bn.running_mean\", \"inception3a.branch1.bn.running_var\", \"inception3a.branch2.0.conv.weight\", \"inception3a.branch2.0.bn.weight\", \"inception3a.branch2.0.bn.bias\", \"inception3a.branch2.0.bn.running_mean\", \"inception3a.branch2.0.bn.running_var\", \"inception3a.branch2.1.conv.weight\", \"inception3a.branch2.1.bn.weight\", \"inception3a.branch2.1.bn.bias\", \"inception3a.branch2.1.bn.running_mean\", \"inception3a.branch2.1.bn.running_var\", \"inception3a.branch3.0.conv.weight\", \"inception3a.branch3.0.bn.weight\", \"inception3a.branch3.0.bn.bias\", \"inception3a.branch3.0.bn.running_mean\", \"inception3a.branch3.0.bn.running_var\", \"inception3a.branch3.1.conv.weight\", \"inception3a.branch3.1.bn.weight\", \"inception3a.branch3.1.bn.bias\", \"inception3a.branch3.1.bn.running_mean\", \"inception3a.branch3.1.bn.running_var\", \"inception3a.branch4.1.conv.weight\", \"inception3a.branch4.1.bn.weight\", \"inception3a.branch4.1.bn.bias\", \"inception3a.branch4.1.bn.running_mean\", \"inception3a.branch4.1.bn.running_var\", \"inception3b.branch1.conv.weight\", \"incept...\n\tUnexpected key(s) in state_dict: \"features.0.weight\", \"features.0.bias\", \"features.2.weight\", \"features.2.bias\", \"features.5.weight\", \"features.5.bias\", \"features.7.weight\", \"features.7.bias\", \"features.10.weight\", \"features.10.bias\", \"features.12.weight\", \"features.12.bias\", \"features.14.weight\", \"features.14.bias\", \"features.16.weight\", \"features.16.bias\", \"features.19.weight\", \"features.19.bias\", \"features.21.weight\", \"features.21.bias\", \"features.23.weight\", \"features.23.bias\", \"features.25.weight\", \"features.25.bias\", \"features.28.weight\", \"features.28.bias\", \"features.30.weight\", \"features.30.bias\", \"features.32.weight\", \"features.32.bias\", \"features.34.weight\", \"features.34.bias\", \"classifier.0.weight\", \"classifier.0.bias\", \"classifier.3.weight\", \"classifier.3.bias\", \"classifier.6.weight\", \"classifier.6.bias\". "
          ]
        }
      ]
    }
  ],
  "metadata": {
    "colab": {
      "provenance": [],
      "gpuType": "T4",
      "history_visible": true
    },
    "kernelspec": {
      "display_name": "Python 3",
      "name": "python3"
    },
    "language_info": {
      "name": "python"
    },
    "accelerator": "GPU"
  },
  "nbformat": 4,
  "nbformat_minor": 0
}